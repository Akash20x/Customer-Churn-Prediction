{
 "cells": [
  {
   "cell_type": "markdown",
   "id": "2fbb2daa",
   "metadata": {},
   "source": [
    "# Team Epic \n",
    "# Telecommunication - Customer Churn Analysis"
   ]
  },
  {
   "cell_type": "markdown",
   "id": "7a20c8a9",
   "metadata": {},
   "source": [
    "## Data Preparation"
   ]
  },
  {
   "cell_type": "markdown",
   "id": "bc888a4d",
   "metadata": {},
   "source": [
    "## Table Of Content\n",
    "\n",
    "* [Importing tha required liberaries](#h0) \n",
    "* [Conversion of cat_col into num col](#h1)\n",
    "* [Handling missing values](#h2)\n",
    "* [Outlier Detection](#h3)\n",
    "* [Feature/target Selection](#h4)\n",
    "* [Balancing Data](#h5)\n",
    "* [Splitting Train/Test](#h6)"
   ]
  },
  {
   "cell_type": "markdown",
   "id": "3c32576e",
   "metadata": {},
   "source": [
    "### Importing tha required liberaries <a class= \"anchor\" id=\"h0\"></a>"
   ]
  },
  {
   "cell_type": "code",
   "execution_count": 1,
   "id": "9cec7e04",
   "metadata": {},
   "outputs": [],
   "source": [
    "import pandas as pd \n",
    "import numpy as np"
   ]
  },
  {
   "cell_type": "markdown",
   "id": "0dcc22a9",
   "metadata": {},
   "source": [
    "#### Loading the Data set"
   ]
  },
  {
   "cell_type": "code",
   "execution_count": 2,
   "id": "a91ec574",
   "metadata": {},
   "outputs": [
    {
     "data": {
      "text/html": [
       "<div>\n",
       "<style scoped>\n",
       "    .dataframe tbody tr th:only-of-type {\n",
       "        vertical-align: middle;\n",
       "    }\n",
       "\n",
       "    .dataframe tbody tr th {\n",
       "        vertical-align: top;\n",
       "    }\n",
       "\n",
       "    .dataframe thead th {\n",
       "        text-align: right;\n",
       "    }\n",
       "</style>\n",
       "<table border=\"1\" class=\"dataframe\">\n",
       "  <thead>\n",
       "    <tr style=\"text-align: right;\">\n",
       "      <th></th>\n",
       "      <th>state</th>\n",
       "      <th>account_length</th>\n",
       "      <th>area_code</th>\n",
       "      <th>international_plan</th>\n",
       "      <th>voice_mail_plan</th>\n",
       "      <th>number_vmail_messages</th>\n",
       "      <th>total_day_minutes</th>\n",
       "      <th>total_day_calls</th>\n",
       "      <th>total_day_charge</th>\n",
       "      <th>total_eve_minutes</th>\n",
       "      <th>total_eve_calls</th>\n",
       "      <th>total_eve_charge</th>\n",
       "      <th>total_night_minutes</th>\n",
       "      <th>total_night_calls</th>\n",
       "      <th>total_night_charge</th>\n",
       "      <th>total_intl_minutes</th>\n",
       "      <th>total_intl_calls</th>\n",
       "      <th>total_intl_charge</th>\n",
       "      <th>number_customer_service_calls</th>\n",
       "      <th>churn</th>\n",
       "    </tr>\n",
       "  </thead>\n",
       "  <tbody>\n",
       "    <tr>\n",
       "      <th>0</th>\n",
       "      <td>OH</td>\n",
       "      <td>107.0</td>\n",
       "      <td>area_code_415</td>\n",
       "      <td>no</td>\n",
       "      <td>yes</td>\n",
       "      <td>26.0</td>\n",
       "      <td>161.6</td>\n",
       "      <td>123.0</td>\n",
       "      <td>27.47</td>\n",
       "      <td>195.5</td>\n",
       "      <td>103.0</td>\n",
       "      <td>16.62</td>\n",
       "      <td>254.4</td>\n",
       "      <td>103.0</td>\n",
       "      <td>11.45</td>\n",
       "      <td>13.7</td>\n",
       "      <td>3.0</td>\n",
       "      <td>3.70</td>\n",
       "      <td>1.0</td>\n",
       "      <td>no</td>\n",
       "    </tr>\n",
       "    <tr>\n",
       "      <th>1</th>\n",
       "      <td>NJ</td>\n",
       "      <td>137.0</td>\n",
       "      <td>area_code_415</td>\n",
       "      <td>no</td>\n",
       "      <td>no</td>\n",
       "      <td>0.0</td>\n",
       "      <td>243.4</td>\n",
       "      <td>114.0</td>\n",
       "      <td>41.38</td>\n",
       "      <td>121.2</td>\n",
       "      <td>110.0</td>\n",
       "      <td>10.30</td>\n",
       "      <td>162.6</td>\n",
       "      <td>104.0</td>\n",
       "      <td>7.32</td>\n",
       "      <td>12.2</td>\n",
       "      <td>5.0</td>\n",
       "      <td>3.29</td>\n",
       "      <td>0.0</td>\n",
       "      <td>no</td>\n",
       "    </tr>\n",
       "    <tr>\n",
       "      <th>2</th>\n",
       "      <td>OH</td>\n",
       "      <td>84.0</td>\n",
       "      <td>area_code_408</td>\n",
       "      <td>yes</td>\n",
       "      <td>no</td>\n",
       "      <td>0.0</td>\n",
       "      <td>299.4</td>\n",
       "      <td>71.0</td>\n",
       "      <td>50.90</td>\n",
       "      <td>61.9</td>\n",
       "      <td>88.0</td>\n",
       "      <td>5.26</td>\n",
       "      <td>196.9</td>\n",
       "      <td>89.0</td>\n",
       "      <td>8.86</td>\n",
       "      <td>6.6</td>\n",
       "      <td>7.0</td>\n",
       "      <td>1.78</td>\n",
       "      <td>2.0</td>\n",
       "      <td>no</td>\n",
       "    </tr>\n",
       "    <tr>\n",
       "      <th>3</th>\n",
       "      <td>OK</td>\n",
       "      <td>75.0</td>\n",
       "      <td>area_code_415</td>\n",
       "      <td>yes</td>\n",
       "      <td>no</td>\n",
       "      <td>0.0</td>\n",
       "      <td>166.7</td>\n",
       "      <td>113.0</td>\n",
       "      <td>28.34</td>\n",
       "      <td>148.3</td>\n",
       "      <td>122.0</td>\n",
       "      <td>12.61</td>\n",
       "      <td>186.9</td>\n",
       "      <td>121.0</td>\n",
       "      <td>8.41</td>\n",
       "      <td>10.1</td>\n",
       "      <td>3.0</td>\n",
       "      <td>2.73</td>\n",
       "      <td>3.0</td>\n",
       "      <td>no</td>\n",
       "    </tr>\n",
       "    <tr>\n",
       "      <th>4</th>\n",
       "      <td>MA</td>\n",
       "      <td>121.0</td>\n",
       "      <td>area_code_510</td>\n",
       "      <td>no</td>\n",
       "      <td>yes</td>\n",
       "      <td>24.0</td>\n",
       "      <td>218.2</td>\n",
       "      <td>88.0</td>\n",
       "      <td>37.09</td>\n",
       "      <td>348.5</td>\n",
       "      <td>108.0</td>\n",
       "      <td>29.62</td>\n",
       "      <td>212.6</td>\n",
       "      <td>118.0</td>\n",
       "      <td>9.57</td>\n",
       "      <td>7.5</td>\n",
       "      <td>7.0</td>\n",
       "      <td>2.03</td>\n",
       "      <td>3.0</td>\n",
       "      <td>no</td>\n",
       "    </tr>\n",
       "    <tr>\n",
       "      <th>...</th>\n",
       "      <td>...</td>\n",
       "      <td>...</td>\n",
       "      <td>...</td>\n",
       "      <td>...</td>\n",
       "      <td>...</td>\n",
       "      <td>...</td>\n",
       "      <td>...</td>\n",
       "      <td>...</td>\n",
       "      <td>...</td>\n",
       "      <td>...</td>\n",
       "      <td>...</td>\n",
       "      <td>...</td>\n",
       "      <td>...</td>\n",
       "      <td>...</td>\n",
       "      <td>...</td>\n",
       "      <td>...</td>\n",
       "      <td>...</td>\n",
       "      <td>...</td>\n",
       "      <td>...</td>\n",
       "      <td>...</td>\n",
       "    </tr>\n",
       "    <tr>\n",
       "      <th>4245</th>\n",
       "      <td>MT</td>\n",
       "      <td>83.0</td>\n",
       "      <td>area_code_415</td>\n",
       "      <td>no</td>\n",
       "      <td>no</td>\n",
       "      <td>0.0</td>\n",
       "      <td>188.3</td>\n",
       "      <td>70.0</td>\n",
       "      <td>32.01</td>\n",
       "      <td>243.8</td>\n",
       "      <td>88.0</td>\n",
       "      <td>20.72</td>\n",
       "      <td>213.7</td>\n",
       "      <td>79.0</td>\n",
       "      <td>9.62</td>\n",
       "      <td>10.3</td>\n",
       "      <td>6.0</td>\n",
       "      <td>2.78</td>\n",
       "      <td>0.0</td>\n",
       "      <td>no</td>\n",
       "    </tr>\n",
       "    <tr>\n",
       "      <th>4246</th>\n",
       "      <td>WV</td>\n",
       "      <td>73.0</td>\n",
       "      <td>area_code_408</td>\n",
       "      <td>no</td>\n",
       "      <td>no</td>\n",
       "      <td>0.0</td>\n",
       "      <td>177.9</td>\n",
       "      <td>89.0</td>\n",
       "      <td>30.24</td>\n",
       "      <td>131.2</td>\n",
       "      <td>82.0</td>\n",
       "      <td>11.15</td>\n",
       "      <td>186.2</td>\n",
       "      <td>89.0</td>\n",
       "      <td>8.38</td>\n",
       "      <td>11.5</td>\n",
       "      <td>6.0</td>\n",
       "      <td>3.11</td>\n",
       "      <td>3.0</td>\n",
       "      <td>no</td>\n",
       "    </tr>\n",
       "    <tr>\n",
       "      <th>4247</th>\n",
       "      <td>NC</td>\n",
       "      <td>75.0</td>\n",
       "      <td>area_code_408</td>\n",
       "      <td>no</td>\n",
       "      <td>no</td>\n",
       "      <td>0.0</td>\n",
       "      <td>170.7</td>\n",
       "      <td>101.0</td>\n",
       "      <td>29.02</td>\n",
       "      <td>193.1</td>\n",
       "      <td>126.0</td>\n",
       "      <td>16.41</td>\n",
       "      <td>129.1</td>\n",
       "      <td>104.0</td>\n",
       "      <td>5.81</td>\n",
       "      <td>6.9</td>\n",
       "      <td>7.0</td>\n",
       "      <td>1.86</td>\n",
       "      <td>1.0</td>\n",
       "      <td>no</td>\n",
       "    </tr>\n",
       "    <tr>\n",
       "      <th>4248</th>\n",
       "      <td>HI</td>\n",
       "      <td>50.0</td>\n",
       "      <td>area_code_408</td>\n",
       "      <td>no</td>\n",
       "      <td>yes</td>\n",
       "      <td>40.0</td>\n",
       "      <td>235.7</td>\n",
       "      <td>127.0</td>\n",
       "      <td>40.07</td>\n",
       "      <td>223.0</td>\n",
       "      <td>126.0</td>\n",
       "      <td>18.96</td>\n",
       "      <td>297.5</td>\n",
       "      <td>116.0</td>\n",
       "      <td>13.39</td>\n",
       "      <td>9.9</td>\n",
       "      <td>5.0</td>\n",
       "      <td>2.67</td>\n",
       "      <td>2.0</td>\n",
       "      <td>no</td>\n",
       "    </tr>\n",
       "    <tr>\n",
       "      <th>4249</th>\n",
       "      <td>VT</td>\n",
       "      <td>86.0</td>\n",
       "      <td>area_code_415</td>\n",
       "      <td>no</td>\n",
       "      <td>yes</td>\n",
       "      <td>34.0</td>\n",
       "      <td>129.4</td>\n",
       "      <td>102.0</td>\n",
       "      <td>22.00</td>\n",
       "      <td>267.1</td>\n",
       "      <td>104.0</td>\n",
       "      <td>22.70</td>\n",
       "      <td>154.8</td>\n",
       "      <td>100.0</td>\n",
       "      <td>6.97</td>\n",
       "      <td>9.3</td>\n",
       "      <td>16.0</td>\n",
       "      <td>2.51</td>\n",
       "      <td>0.0</td>\n",
       "      <td>no</td>\n",
       "    </tr>\n",
       "  </tbody>\n",
       "</table>\n",
       "<p>4250 rows × 20 columns</p>\n",
       "</div>"
      ],
      "text/plain": [
       "     state  account_length      area_code international_plan voice_mail_plan  \\\n",
       "0       OH           107.0  area_code_415                 no             yes   \n",
       "1       NJ           137.0  area_code_415                 no              no   \n",
       "2       OH            84.0  area_code_408                yes              no   \n",
       "3       OK            75.0  area_code_415                yes              no   \n",
       "4       MA           121.0  area_code_510                 no             yes   \n",
       "...    ...             ...            ...                ...             ...   \n",
       "4245    MT            83.0  area_code_415                 no              no   \n",
       "4246    WV            73.0  area_code_408                 no              no   \n",
       "4247    NC            75.0  area_code_408                 no              no   \n",
       "4248    HI            50.0  area_code_408                 no             yes   \n",
       "4249    VT            86.0  area_code_415                 no             yes   \n",
       "\n",
       "      number_vmail_messages  total_day_minutes  total_day_calls  \\\n",
       "0                      26.0              161.6            123.0   \n",
       "1                       0.0              243.4            114.0   \n",
       "2                       0.0              299.4             71.0   \n",
       "3                       0.0              166.7            113.0   \n",
       "4                      24.0              218.2             88.0   \n",
       "...                     ...                ...              ...   \n",
       "4245                    0.0              188.3             70.0   \n",
       "4246                    0.0              177.9             89.0   \n",
       "4247                    0.0              170.7            101.0   \n",
       "4248                   40.0              235.7            127.0   \n",
       "4249                   34.0              129.4            102.0   \n",
       "\n",
       "      total_day_charge  total_eve_minutes  total_eve_calls  total_eve_charge  \\\n",
       "0                27.47              195.5            103.0             16.62   \n",
       "1                41.38              121.2            110.0             10.30   \n",
       "2                50.90               61.9             88.0              5.26   \n",
       "3                28.34              148.3            122.0             12.61   \n",
       "4                37.09              348.5            108.0             29.62   \n",
       "...                ...                ...              ...               ...   \n",
       "4245             32.01              243.8             88.0             20.72   \n",
       "4246             30.24              131.2             82.0             11.15   \n",
       "4247             29.02              193.1            126.0             16.41   \n",
       "4248             40.07              223.0            126.0             18.96   \n",
       "4249             22.00              267.1            104.0             22.70   \n",
       "\n",
       "      total_night_minutes  total_night_calls  total_night_charge  \\\n",
       "0                   254.4              103.0               11.45   \n",
       "1                   162.6              104.0                7.32   \n",
       "2                   196.9               89.0                8.86   \n",
       "3                   186.9              121.0                8.41   \n",
       "4                   212.6              118.0                9.57   \n",
       "...                   ...                ...                 ...   \n",
       "4245                213.7               79.0                9.62   \n",
       "4246                186.2               89.0                8.38   \n",
       "4247                129.1              104.0                5.81   \n",
       "4248                297.5              116.0               13.39   \n",
       "4249                154.8              100.0                6.97   \n",
       "\n",
       "      total_intl_minutes  total_intl_calls  total_intl_charge  \\\n",
       "0                   13.7               3.0               3.70   \n",
       "1                   12.2               5.0               3.29   \n",
       "2                    6.6               7.0               1.78   \n",
       "3                   10.1               3.0               2.73   \n",
       "4                    7.5               7.0               2.03   \n",
       "...                  ...               ...                ...   \n",
       "4245                10.3               6.0               2.78   \n",
       "4246                11.5               6.0               3.11   \n",
       "4247                 6.9               7.0               1.86   \n",
       "4248                 9.9               5.0               2.67   \n",
       "4249                 9.3              16.0               2.51   \n",
       "\n",
       "      number_customer_service_calls churn  \n",
       "0                               1.0    no  \n",
       "1                               0.0    no  \n",
       "2                               2.0    no  \n",
       "3                               3.0    no  \n",
       "4                               3.0    no  \n",
       "...                             ...   ...  \n",
       "4245                            0.0    no  \n",
       "4246                            3.0    no  \n",
       "4247                            1.0    no  \n",
       "4248                            2.0    no  \n",
       "4249                            0.0    no  \n",
       "\n",
       "[4250 rows x 20 columns]"
      ]
     },
     "execution_count": 2,
     "metadata": {},
     "output_type": "execute_result"
    }
   ],
   "source": [
    "churn_df = pd.read_csv(\"Customer-Churn-Prediction.csv\")\n",
    "churn_df"
   ]
  },
  {
   "cell_type": "markdown",
   "id": "5a9dcab8",
   "metadata": {},
   "source": [
    "#### Feature description of dataset"
   ]
  },
  {
   "cell_type": "code",
   "execution_count": 3,
   "id": "a6feb047",
   "metadata": {},
   "outputs": [
    {
     "name": "stdout",
     "output_type": "stream",
     "text": [
      "<class 'pandas.core.frame.DataFrame'>\n",
      "RangeIndex: 4250 entries, 0 to 4249\n",
      "Data columns (total 20 columns):\n",
      " #   Column                         Non-Null Count  Dtype  \n",
      "---  ------                         --------------  -----  \n",
      " 0   state                          4232 non-null   object \n",
      " 1   account_length                 4216 non-null   float64\n",
      " 2   area_code                      4234 non-null   object \n",
      " 3   international_plan             4250 non-null   object \n",
      " 4   voice_mail_plan                4237 non-null   object \n",
      " 5   number_vmail_messages          4216 non-null   float64\n",
      " 6   total_day_minutes              4240 non-null   float64\n",
      " 7   total_day_calls                4248 non-null   float64\n",
      " 8   total_day_charge               4242 non-null   float64\n",
      " 9   total_eve_minutes              4215 non-null   float64\n",
      " 10  total_eve_calls                4233 non-null   float64\n",
      " 11  total_eve_charge               4242 non-null   float64\n",
      " 12  total_night_minutes            4248 non-null   float64\n",
      " 13  total_night_calls              4245 non-null   float64\n",
      " 14  total_night_charge             4243 non-null   float64\n",
      " 15  total_intl_minutes             4245 non-null   float64\n",
      " 16  total_intl_calls               4237 non-null   float64\n",
      " 17  total_intl_charge              4220 non-null   float64\n",
      " 18  number_customer_service_calls  4247 non-null   float64\n",
      " 19  churn                          4228 non-null   object \n",
      "dtypes: float64(15), object(5)\n",
      "memory usage: 664.2+ KB\n"
     ]
    }
   ],
   "source": [
    "churn_df.info()"
   ]
  },
  {
   "cell_type": "markdown",
   "id": "b9ce4fb1",
   "metadata": {},
   "source": [
    "#### Number of uniques values "
   ]
  },
  {
   "cell_type": "code",
   "execution_count": 4,
   "id": "23e10ad3",
   "metadata": {
    "scrolled": false
   },
   "outputs": [
    {
     "data": {
      "text/plain": [
       "state                              51\n",
       "account_length                    215\n",
       "area_code                           3\n",
       "international_plan                  2\n",
       "voice_mail_plan                     2\n",
       "number_vmail_messages              46\n",
       "total_day_minutes                1841\n",
       "total_day_calls                   120\n",
       "total_day_charge                 1842\n",
       "total_eve_minutes                1767\n",
       "total_eve_calls                   123\n",
       "total_eve_charge                 1572\n",
       "total_night_minutes              1757\n",
       "total_night_calls                 128\n",
       "total_night_charge                992\n",
       "total_intl_minutes                168\n",
       "total_intl_calls                   21\n",
       "total_intl_charge                 168\n",
       "number_customer_service_calls      10\n",
       "churn                               2\n",
       "dtype: int64"
      ]
     },
     "execution_count": 4,
     "metadata": {},
     "output_type": "execute_result"
    }
   ],
   "source": [
    "churn_df.nunique()"
   ]
  },
  {
   "cell_type": "markdown",
   "id": "0b6860df",
   "metadata": {},
   "source": [
    "### Conversion of categorical variables into numerical variables  <a class= \"anchor\" id=\"h1\"></a>"
   ]
  },
  {
   "cell_type": "code",
   "execution_count": 5,
   "id": "2ec7b610",
   "metadata": {},
   "outputs": [],
   "source": [
    "cat_col = [\"international_plan\", \"voice_mail_plan\"]\n",
    "for i in cat_col:\n",
    "    churn_df[i].replace(to_replace = [\"no\", \"yes\"], value = [0, 1], inplace=True)"
   ]
  },
  {
   "cell_type": "code",
   "execution_count": 6,
   "id": "89595640",
   "metadata": {
    "scrolled": false
   },
   "outputs": [
    {
     "data": {
      "text/plain": [
       "state                             object\n",
       "account_length                   float64\n",
       "area_code                         object\n",
       "international_plan                 int64\n",
       "voice_mail_plan                  float64\n",
       "number_vmail_messages            float64\n",
       "total_day_minutes                float64\n",
       "total_day_calls                  float64\n",
       "total_day_charge                 float64\n",
       "total_eve_minutes                float64\n",
       "total_eve_calls                  float64\n",
       "total_eve_charge                 float64\n",
       "total_night_minutes              float64\n",
       "total_night_calls                float64\n",
       "total_night_charge               float64\n",
       "total_intl_minutes               float64\n",
       "total_intl_calls                 float64\n",
       "total_intl_charge                float64\n",
       "number_customer_service_calls    float64\n",
       "churn                             object\n",
       "dtype: object"
      ]
     },
     "execution_count": 6,
     "metadata": {},
     "output_type": "execute_result"
    }
   ],
   "source": [
    "churn_df.dtypes"
   ]
  },
  {
   "cell_type": "markdown",
   "id": "c320caa5",
   "metadata": {},
   "source": [
    "### Handling missing values  <a class= \"anchor\" id=\"h2\"></a>"
   ]
  },
  {
   "cell_type": "code",
   "execution_count": 7,
   "id": "e5a9708a",
   "metadata": {
    "scrolled": false
   },
   "outputs": [
    {
     "data": {
      "text/plain": [
       "state                            18\n",
       "account_length                   34\n",
       "area_code                        16\n",
       "international_plan                0\n",
       "voice_mail_plan                  13\n",
       "number_vmail_messages            34\n",
       "total_day_minutes                10\n",
       "total_day_calls                   2\n",
       "total_day_charge                  8\n",
       "total_eve_minutes                35\n",
       "total_eve_calls                  17\n",
       "total_eve_charge                  8\n",
       "total_night_minutes               2\n",
       "total_night_calls                 5\n",
       "total_night_charge                7\n",
       "total_intl_minutes                5\n",
       "total_intl_calls                 13\n",
       "total_intl_charge                30\n",
       "number_customer_service_calls     3\n",
       "churn                            22\n",
       "dtype: int64"
      ]
     },
     "execution_count": 7,
     "metadata": {},
     "output_type": "execute_result"
    }
   ],
   "source": [
    "churn_df.isnull().sum()"
   ]
  },
  {
   "cell_type": "markdown",
   "id": "3c32ef53",
   "metadata": {},
   "source": [
    "#### Replacing NULL values in numerical Columns using Median "
   ]
  },
  {
   "cell_type": "code",
   "execution_count": 8,
   "id": "47bcfd88",
   "metadata": {},
   "outputs": [],
   "source": [
    "for col in churn_df.columns[~churn_df.columns.isin(['state','area_code','churn'])]:\n",
    "    churn_df[col] =  churn_df[col].fillna(churn_df[col].mean())"
   ]
  },
  {
   "cell_type": "markdown",
   "id": "8e5455f1",
   "metadata": {},
   "source": [
    "#### Replacing NULL values in categorical columns with mode."
   ]
  },
  {
   "cell_type": "code",
   "execution_count": 9,
   "id": "d5a68de9",
   "metadata": {},
   "outputs": [],
   "source": [
    "for col in churn_df[['state','area_code','churn']]:\n",
    "    churn_df[col] =  churn_df[col].fillna(churn_df[col].mode()[0])"
   ]
  },
  {
   "cell_type": "code",
   "execution_count": 10,
   "id": "8f7ba91c",
   "metadata": {
    "scrolled": false
   },
   "outputs": [
    {
     "data": {
      "text/plain": [
       "state                            0\n",
       "account_length                   0\n",
       "area_code                        0\n",
       "international_plan               0\n",
       "voice_mail_plan                  0\n",
       "number_vmail_messages            0\n",
       "total_day_minutes                0\n",
       "total_day_calls                  0\n",
       "total_day_charge                 0\n",
       "total_eve_minutes                0\n",
       "total_eve_calls                  0\n",
       "total_eve_charge                 0\n",
       "total_night_minutes              0\n",
       "total_night_calls                0\n",
       "total_night_charge               0\n",
       "total_intl_minutes               0\n",
       "total_intl_calls                 0\n",
       "total_intl_charge                0\n",
       "number_customer_service_calls    0\n",
       "churn                            0\n",
       "dtype: int64"
      ]
     },
     "execution_count": 10,
     "metadata": {},
     "output_type": "execute_result"
    }
   ],
   "source": [
    "churn_df.isnull().sum()"
   ]
  },
  {
   "cell_type": "markdown",
   "id": "c277e0e9",
   "metadata": {},
   "source": [
    "### Outlier Detection <a class= \"anchor\" id=\"h3\"></a>"
   ]
  },
  {
   "cell_type": "code",
   "execution_count": 35,
   "id": "0e310976",
   "metadata": {},
   "outputs": [
    {
     "name": "stdout",
     "output_type": "stream",
     "text": [
      "minimum values of outliers :\n",
      " account_length                  -18.517951\n",
      "number_vmail_messages           -32.561655\n",
      "total_day_minutes                18.365437\n",
      "total_day_calls                  40.369874\n",
      "total_day_charge                  3.113314\n",
      "total_eve_minutes                50.074265\n",
      "total_eve_calls                  40.626952\n",
      "total_eve_charge                  4.211400\n",
      "total_night_minutes              49.469143\n",
      "total_night_calls                39.602182\n",
      "total_night_charge                2.232204\n",
      "total_intl_minutes                1.981830\n",
      "total_intl_calls                 -2.951093\n",
      "total_intl_charge                 0.542366\n",
      "number_customer_service_calls    -2.373788\n",
      "dtype: float64\n"
     ]
    }
   ],
   "source": [
    "remove_zeros_ones_col = churn_df.drop(columns=[\"international_plan\", \"voice_mail_plan\", \"churn\"], axis = 1)\n",
    "min_val = remove_zeros_ones_col.mean() - (3 * remove_zeros_ones_col.std())\n",
    "print('minimum values of outliers :\\n', min_val)"
   ]
  },
  {
   "cell_type": "code",
   "execution_count": 36,
   "id": "77a17156",
   "metadata": {},
   "outputs": [
    {
     "name": "stdout",
     "output_type": "stream",
     "text": [
      "maximum values of outliers :\n",
      " account_length                   218.824877\n",
      "number_vmail_messages             47.885185\n",
      "total_day_minutes                342.142015\n",
      "total_day_calls                  159.440390\n",
      "total_day_charge                  58.167275\n",
      "total_eve_minutes                350.451049\n",
      "total_eve_calls                  159.766622\n",
      "total_eve_charge                  29.820670\n",
      "total_night_minutes              351.557129\n",
      "total_night_calls                160.063307\n",
      "total_night_charge                15.816946\n",
      "total_intl_minutes                18.528465\n",
      "total_intl_calls                  11.804055\n",
      "total_intl_charge                  4.997226\n",
      "number_customer_service_calls      5.493167\n",
      "dtype: float64\n"
     ]
    }
   ],
   "source": [
    "max_val = remove_zeros_ones_col.mean() + (3 * remove_zeros_ones_col.std())\n",
    "print('maximum values of outliers :\\n',max_val)"
   ]
  },
  {
   "cell_type": "code",
   "execution_count": 37,
   "id": "57ac4338",
   "metadata": {},
   "outputs": [
    {
     "data": {
      "text/plain": [
       "account_length                   10\n",
       "number_vmail_messages            10\n",
       "total_day_minutes                 3\n",
       "total_day_calls                   3\n",
       "total_day_charge                  3\n",
       "total_eve_minutes                 3\n",
       "total_eve_calls                   3\n",
       "total_eve_charge                  3\n",
       "total_night_minutes              10\n",
       "total_night_calls                 5\n",
       "total_night_charge               10\n",
       "total_intl_minutes                6\n",
       "total_intl_calls                 62\n",
       "total_intl_charge                 7\n",
       "number_customer_service_calls    45\n",
       "dtype: int64"
      ]
     },
     "execution_count": 37,
     "metadata": {},
     "output_type": "execute_result"
    }
   ],
   "source": [
    "outliers = remove_zeros_ones_col[remove_zeros_ones_col > max_val]\n",
    "outliers.count()"
   ]
  },
  {
   "cell_type": "markdown",
   "id": "465d3b6e",
   "metadata": {},
   "source": [
    "### Statistical Description of dataset"
   ]
  },
  {
   "cell_type": "code",
   "execution_count": 13,
   "id": "00ea7959",
   "metadata": {
    "scrolled": false
   },
   "outputs": [
    {
     "data": {
      "text/html": [
       "<div>\n",
       "<style scoped>\n",
       "    .dataframe tbody tr th:only-of-type {\n",
       "        vertical-align: middle;\n",
       "    }\n",
       "\n",
       "    .dataframe tbody tr th {\n",
       "        vertical-align: top;\n",
       "    }\n",
       "\n",
       "    .dataframe thead th {\n",
       "        text-align: right;\n",
       "    }\n",
       "</style>\n",
       "<table border=\"1\" class=\"dataframe\">\n",
       "  <thead>\n",
       "    <tr style=\"text-align: right;\">\n",
       "      <th></th>\n",
       "      <th>count</th>\n",
       "      <th>mean</th>\n",
       "      <th>std</th>\n",
       "      <th>min</th>\n",
       "      <th>25%</th>\n",
       "      <th>50%</th>\n",
       "      <th>75%</th>\n",
       "      <th>max</th>\n",
       "    </tr>\n",
       "  </thead>\n",
       "  <tbody>\n",
       "    <tr>\n",
       "      <th>account_length</th>\n",
       "      <td>4250.0</td>\n",
       "      <td>100.153463</td>\n",
       "      <td>39.557138</td>\n",
       "      <td>1.0</td>\n",
       "      <td>73.0000</td>\n",
       "      <td>100.000000</td>\n",
       "      <td>127.0000</td>\n",
       "      <td>243.00</td>\n",
       "    </tr>\n",
       "    <tr>\n",
       "      <th>international_plan</th>\n",
       "      <td>4250.0</td>\n",
       "      <td>0.093176</td>\n",
       "      <td>0.290714</td>\n",
       "      <td>0.0</td>\n",
       "      <td>0.0000</td>\n",
       "      <td>0.000000</td>\n",
       "      <td>0.0000</td>\n",
       "      <td>1.00</td>\n",
       "    </tr>\n",
       "    <tr>\n",
       "      <th>voice_mail_plan</th>\n",
       "      <td>4250.0</td>\n",
       "      <td>0.261978</td>\n",
       "      <td>0.439089</td>\n",
       "      <td>0.0</td>\n",
       "      <td>0.0000</td>\n",
       "      <td>0.000000</td>\n",
       "      <td>1.0000</td>\n",
       "      <td>1.00</td>\n",
       "    </tr>\n",
       "    <tr>\n",
       "      <th>number_vmail_messages</th>\n",
       "      <td>4250.0</td>\n",
       "      <td>7.661765</td>\n",
       "      <td>13.407807</td>\n",
       "      <td>0.0</td>\n",
       "      <td>0.0000</td>\n",
       "      <td>0.000000</td>\n",
       "      <td>15.7500</td>\n",
       "      <td>52.00</td>\n",
       "    </tr>\n",
       "    <tr>\n",
       "      <th>total_day_minutes</th>\n",
       "      <td>4250.0</td>\n",
       "      <td>180.253726</td>\n",
       "      <td>53.962763</td>\n",
       "      <td>0.0</td>\n",
       "      <td>143.4250</td>\n",
       "      <td>180.350000</td>\n",
       "      <td>216.1750</td>\n",
       "      <td>351.50</td>\n",
       "    </tr>\n",
       "    <tr>\n",
       "      <th>total_day_calls</th>\n",
       "      <td>4250.0</td>\n",
       "      <td>99.905132</td>\n",
       "      <td>19.845086</td>\n",
       "      <td>0.0</td>\n",
       "      <td>87.0000</td>\n",
       "      <td>100.000000</td>\n",
       "      <td>113.0000</td>\n",
       "      <td>165.00</td>\n",
       "    </tr>\n",
       "    <tr>\n",
       "      <th>total_day_charge</th>\n",
       "      <td>4250.0</td>\n",
       "      <td>30.640295</td>\n",
       "      <td>9.175660</td>\n",
       "      <td>0.0</td>\n",
       "      <td>24.4025</td>\n",
       "      <td>30.650000</td>\n",
       "      <td>36.7500</td>\n",
       "      <td>59.76</td>\n",
       "    </tr>\n",
       "    <tr>\n",
       "      <th>total_eve_minutes</th>\n",
       "      <td>4250.0</td>\n",
       "      <td>200.262657</td>\n",
       "      <td>50.062797</td>\n",
       "      <td>0.0</td>\n",
       "      <td>166.8000</td>\n",
       "      <td>200.281329</td>\n",
       "      <td>233.6750</td>\n",
       "      <td>359.30</td>\n",
       "    </tr>\n",
       "    <tr>\n",
       "      <th>total_eve_calls</th>\n",
       "      <td>4250.0</td>\n",
       "      <td>100.196787</td>\n",
       "      <td>19.856612</td>\n",
       "      <td>0.0</td>\n",
       "      <td>87.0000</td>\n",
       "      <td>100.098394</td>\n",
       "      <td>114.0000</td>\n",
       "      <td>170.00</td>\n",
       "    </tr>\n",
       "    <tr>\n",
       "      <th>total_eve_charge</th>\n",
       "      <td>4250.0</td>\n",
       "      <td>17.016035</td>\n",
       "      <td>4.268212</td>\n",
       "      <td>0.0</td>\n",
       "      <td>14.1325</td>\n",
       "      <td>17.050000</td>\n",
       "      <td>19.8600</td>\n",
       "      <td>30.54</td>\n",
       "    </tr>\n",
       "    <tr>\n",
       "      <th>total_night_minutes</th>\n",
       "      <td>4250.0</td>\n",
       "      <td>200.513136</td>\n",
       "      <td>50.347998</td>\n",
       "      <td>0.0</td>\n",
       "      <td>167.2250</td>\n",
       "      <td>200.450000</td>\n",
       "      <td>234.6750</td>\n",
       "      <td>395.00</td>\n",
       "    </tr>\n",
       "    <tr>\n",
       "      <th>total_night_calls</th>\n",
       "      <td>4250.0</td>\n",
       "      <td>99.832744</td>\n",
       "      <td>20.076854</td>\n",
       "      <td>0.0</td>\n",
       "      <td>86.0000</td>\n",
       "      <td>100.000000</td>\n",
       "      <td>113.0000</td>\n",
       "      <td>175.00</td>\n",
       "    </tr>\n",
       "    <tr>\n",
       "      <th>total_night_charge</th>\n",
       "      <td>4250.0</td>\n",
       "      <td>9.024575</td>\n",
       "      <td>2.264124</td>\n",
       "      <td>0.0</td>\n",
       "      <td>7.5300</td>\n",
       "      <td>9.024575</td>\n",
       "      <td>10.5475</td>\n",
       "      <td>17.77</td>\n",
       "    </tr>\n",
       "    <tr>\n",
       "      <th>total_intl_minutes</th>\n",
       "      <td>4250.0</td>\n",
       "      <td>10.255147</td>\n",
       "      <td>2.757773</td>\n",
       "      <td>0.0</td>\n",
       "      <td>8.5000</td>\n",
       "      <td>10.300000</td>\n",
       "      <td>12.0000</td>\n",
       "      <td>20.00</td>\n",
       "    </tr>\n",
       "    <tr>\n",
       "      <th>total_intl_calls</th>\n",
       "      <td>4250.0</td>\n",
       "      <td>4.426481</td>\n",
       "      <td>2.459191</td>\n",
       "      <td>0.0</td>\n",
       "      <td>3.0000</td>\n",
       "      <td>4.000000</td>\n",
       "      <td>6.0000</td>\n",
       "      <td>20.00</td>\n",
       "    </tr>\n",
       "    <tr>\n",
       "      <th>total_intl_charge</th>\n",
       "      <td>4250.0</td>\n",
       "      <td>2.769796</td>\n",
       "      <td>0.742477</td>\n",
       "      <td>0.0</td>\n",
       "      <td>2.3000</td>\n",
       "      <td>2.780000</td>\n",
       "      <td>3.2400</td>\n",
       "      <td>5.40</td>\n",
       "    </tr>\n",
       "    <tr>\n",
       "      <th>number_customer_service_calls</th>\n",
       "      <td>4250.0</td>\n",
       "      <td>1.559689</td>\n",
       "      <td>1.311159</td>\n",
       "      <td>0.0</td>\n",
       "      <td>1.0000</td>\n",
       "      <td>1.000000</td>\n",
       "      <td>2.0000</td>\n",
       "      <td>9.00</td>\n",
       "    </tr>\n",
       "  </tbody>\n",
       "</table>\n",
       "</div>"
      ],
      "text/plain": [
       "                                count        mean        std  min       25%  \\\n",
       "account_length                 4250.0  100.153463  39.557138  1.0   73.0000   \n",
       "international_plan             4250.0    0.093176   0.290714  0.0    0.0000   \n",
       "voice_mail_plan                4250.0    0.261978   0.439089  0.0    0.0000   \n",
       "number_vmail_messages          4250.0    7.661765  13.407807  0.0    0.0000   \n",
       "total_day_minutes              4250.0  180.253726  53.962763  0.0  143.4250   \n",
       "total_day_calls                4250.0   99.905132  19.845086  0.0   87.0000   \n",
       "total_day_charge               4250.0   30.640295   9.175660  0.0   24.4025   \n",
       "total_eve_minutes              4250.0  200.262657  50.062797  0.0  166.8000   \n",
       "total_eve_calls                4250.0  100.196787  19.856612  0.0   87.0000   \n",
       "total_eve_charge               4250.0   17.016035   4.268212  0.0   14.1325   \n",
       "total_night_minutes            4250.0  200.513136  50.347998  0.0  167.2250   \n",
       "total_night_calls              4250.0   99.832744  20.076854  0.0   86.0000   \n",
       "total_night_charge             4250.0    9.024575   2.264124  0.0    7.5300   \n",
       "total_intl_minutes             4250.0   10.255147   2.757773  0.0    8.5000   \n",
       "total_intl_calls               4250.0    4.426481   2.459191  0.0    3.0000   \n",
       "total_intl_charge              4250.0    2.769796   0.742477  0.0    2.3000   \n",
       "number_customer_service_calls  4250.0    1.559689   1.311159  0.0    1.0000   \n",
       "\n",
       "                                      50%       75%     max  \n",
       "account_length                 100.000000  127.0000  243.00  \n",
       "international_plan               0.000000    0.0000    1.00  \n",
       "voice_mail_plan                  0.000000    1.0000    1.00  \n",
       "number_vmail_messages            0.000000   15.7500   52.00  \n",
       "total_day_minutes              180.350000  216.1750  351.50  \n",
       "total_day_calls                100.000000  113.0000  165.00  \n",
       "total_day_charge                30.650000   36.7500   59.76  \n",
       "total_eve_minutes              200.281329  233.6750  359.30  \n",
       "total_eve_calls                100.098394  114.0000  170.00  \n",
       "total_eve_charge                17.050000   19.8600   30.54  \n",
       "total_night_minutes            200.450000  234.6750  395.00  \n",
       "total_night_calls              100.000000  113.0000  175.00  \n",
       "total_night_charge               9.024575   10.5475   17.77  \n",
       "total_intl_minutes              10.300000   12.0000   20.00  \n",
       "total_intl_calls                 4.000000    6.0000   20.00  \n",
       "total_intl_charge                2.780000    3.2400    5.40  \n",
       "number_customer_service_calls    1.000000    2.0000    9.00  "
      ]
     },
     "execution_count": 13,
     "metadata": {},
     "output_type": "execute_result"
    }
   ],
   "source": [
    "churn_df.describe().T"
   ]
  },
  {
   "cell_type": "markdown",
   "id": "2bc06283",
   "metadata": {},
   "source": [
    "### Imbalancing of data "
   ]
  },
  {
   "cell_type": "code",
   "execution_count": 14,
   "id": "91a95a86",
   "metadata": {},
   "outputs": [
    {
     "data": {
      "text/plain": [
       "('no', 3656)"
      ]
     },
     "execution_count": 14,
     "metadata": {},
     "output_type": "execute_result"
    }
   ],
   "source": [
    "(churn_df['churn'].value_counts().index[0], churn_df['churn'].value_counts().values[0])"
   ]
  },
  {
   "cell_type": "code",
   "execution_count": 15,
   "id": "2422aee8",
   "metadata": {},
   "outputs": [
    {
     "data": {
      "text/plain": [
       "('yes', 594)"
      ]
     },
     "execution_count": 15,
     "metadata": {},
     "output_type": "execute_result"
    }
   ],
   "source": [
    "(churn_df['churn'].value_counts().index[1], churn_df['churn'].value_counts().values[1])"
   ]
  },
  {
   "cell_type": "markdown",
   "id": "d508bcbb",
   "metadata": {},
   "source": [
    "### Removing columns for further analysis"
   ]
  },
  {
   "cell_type": "code",
   "execution_count": 16,
   "id": "b4fc930d",
   "metadata": {},
   "outputs": [],
   "source": [
    "remove_col = [\"state\", \"area_code\"]\n",
    "churn_df.drop(columns = remove_col)"
   ]
  },
  {
   "cell_type": "markdown",
   "id": "c53a6f34",
   "metadata": {},
   "source": [
    "### Selection of Feature variable and target variable<a class= \"anchor\" id=\"h4\"></a>"
   ]
  },
  {
   "cell_type": "code",
   "execution_count": 17,
   "id": "bca33ffc",
   "metadata": {},
   "outputs": [],
   "source": [
    "X = churn_df.drop([\"churn\"], axis=1)\n",
    "y = churn_df[\"churn\"]"
   ]
  },
  {
   "cell_type": "markdown",
   "id": "974657e2",
   "metadata": {},
   "source": [
    "### Balancing data by using SMOTE (Synthetic Minority Oversampling Technique)<a class= \"anchor\" id=\"h5\"></a>"
   ]
  },
  {
   "cell_type": "code",
   "execution_count": 20,
   "id": "45745494",
   "metadata": {},
   "outputs": [],
   "source": [
    "from imblearn.over_sampling import SMOTE\n",
    "\n",
    "smote = SMOTE()\n",
    "X_balance, y_balance = smote.fit_resample(X, y)"
   ]
  },
  {
   "cell_type": "code",
   "execution_count": 21,
   "id": "ff26610b",
   "metadata": {},
   "outputs": [
    {
     "data": {
      "text/plain": [
       "(7312, 17)"
      ]
     },
     "execution_count": 21,
     "metadata": {},
     "output_type": "execute_result"
    }
   ],
   "source": [
    "X_balance.shape"
   ]
  },
  {
   "cell_type": "code",
   "execution_count": 22,
   "id": "34f05d8f",
   "metadata": {},
   "outputs": [
    {
     "data": {
      "text/plain": [
       "(7312,)"
      ]
     },
     "execution_count": 22,
     "metadata": {},
     "output_type": "execute_result"
    }
   ],
   "source": [
    "y_balance.shape"
   ]
  },
  {
   "cell_type": "markdown",
   "id": "f548f131",
   "metadata": {},
   "source": [
    "### Splitting tha balanced dataset using train_test_split.<a class= \"anchor\" id=\"h6\"></a>"
   ]
  },
  {
   "cell_type": "code",
   "execution_count": 30,
   "id": "8e515962",
   "metadata": {},
   "outputs": [],
   "source": [
    "from sklearn.model_selection import train_test_split\n",
    "X_train, y_train, X_test, y_test = train_test_split(X_balance, y_balance, random_state= 10, test_size= 0.3)"
   ]
  },
  {
   "cell_type": "code",
   "execution_count": 33,
   "id": "4ed66c72",
   "metadata": {},
   "outputs": [
    {
     "name": "stdout",
     "output_type": "stream",
     "text": [
      "Size of the traintest : (5118, 17) (2194, 17)\n"
     ]
    }
   ],
   "source": [
    "print(\"Size of the traintest :\", X_train.shape , y_train.shape)"
   ]
  },
  {
   "cell_type": "code",
   "execution_count": 34,
   "id": "065e77b9",
   "metadata": {},
   "outputs": [
    {
     "name": "stdout",
     "output_type": "stream",
     "text": [
      "Size of the testset : (5118,) (2194,)\n"
     ]
    }
   ],
   "source": [
    "print(\"Size of the testset :\", X_test.shape , y_test.shape)"
   ]
  },
  {
   "cell_type": "code",
   "execution_count": null,
   "id": "f5b7f408",
   "metadata": {},
   "outputs": [],
   "source": []
  }
 ],
 "metadata": {
  "kernelspec": {
   "display_name": "CustomKernel",
   "language": "python",
   "name": "customkernel"
  },
  "language_info": {
   "codemirror_mode": {
    "name": "ipython",
    "version": 3
   },
   "file_extension": ".py",
   "mimetype": "text/x-python",
   "name": "python",
   "nbconvert_exporter": "python",
   "pygments_lexer": "ipython3",
   "version": "3.9.1"
  }
 },
 "nbformat": 4,
 "nbformat_minor": 5
}
