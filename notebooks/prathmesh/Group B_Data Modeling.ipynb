{
 "cells": [
  {
   "cell_type": "markdown",
   "id": "cc2a807b",
   "metadata": {},
   "source": [
    "# Team Epic \n",
    "# Telecommunication - Customer Churn Analysis"
   ]
  },
  {
   "cell_type": "markdown",
   "id": "a371c257",
   "metadata": {},
   "source": [
    "## Data Preparation"
   ]
  },
  {
   "cell_type": "markdown",
   "id": "fd8a9328",
   "metadata": {},
   "source": [
    "### Importing tha required liberaries <a class= \"anchor\" id=\"h0\"></a>"
   ]
  },
  {
   "cell_type": "code",
   "execution_count": 1,
   "id": "87836b7d",
   "metadata": {},
   "outputs": [],
   "source": [
    "import pandas as pd \n",
    "import numpy as np\n",
    "from sklearn.preprocessing import StandardScaler, LabelEncoder, OneHotEncoder\n",
    "from sklearn.model_selection import train_test_split\n",
    "from sklearn.decomposition import PCA\n",
    "from sklearn.pipeline import Pipeline\n",
    "from sklearn.compose import ColumnTransformer"
   ]
  },
  {
   "cell_type": "markdown",
   "id": "d632123c",
   "metadata": {},
   "source": [
    "### Loading the Data set"
   ]
  },
  {
   "cell_type": "code",
   "execution_count": 2,
   "id": "51b9bcf3",
   "metadata": {},
   "outputs": [
    {
     "data": {
      "text/html": [
       "<div>\n",
       "<style scoped>\n",
       "    .dataframe tbody tr th:only-of-type {\n",
       "        vertical-align: middle;\n",
       "    }\n",
       "\n",
       "    .dataframe tbody tr th {\n",
       "        vertical-align: top;\n",
       "    }\n",
       "\n",
       "    .dataframe thead th {\n",
       "        text-align: right;\n",
       "    }\n",
       "</style>\n",
       "<table border=\"1\" class=\"dataframe\">\n",
       "  <thead>\n",
       "    <tr style=\"text-align: right;\">\n",
       "      <th></th>\n",
       "      <th>state</th>\n",
       "      <th>account_length</th>\n",
       "      <th>area_code</th>\n",
       "      <th>international_plan</th>\n",
       "      <th>voice_mail_plan</th>\n",
       "      <th>number_vmail_messages</th>\n",
       "      <th>total_day_minutes</th>\n",
       "      <th>total_day_calls</th>\n",
       "      <th>total_day_charge</th>\n",
       "      <th>total_eve_minutes</th>\n",
       "      <th>total_eve_calls</th>\n",
       "      <th>total_eve_charge</th>\n",
       "      <th>total_night_minutes</th>\n",
       "      <th>total_night_calls</th>\n",
       "      <th>total_night_charge</th>\n",
       "      <th>total_intl_minutes</th>\n",
       "      <th>total_intl_calls</th>\n",
       "      <th>total_intl_charge</th>\n",
       "      <th>number_customer_service_calls</th>\n",
       "      <th>churn</th>\n",
       "    </tr>\n",
       "  </thead>\n",
       "  <tbody>\n",
       "    <tr>\n",
       "      <th>0</th>\n",
       "      <td>OH</td>\n",
       "      <td>107.0</td>\n",
       "      <td>area_code_415</td>\n",
       "      <td>no</td>\n",
       "      <td>yes</td>\n",
       "      <td>26.0</td>\n",
       "      <td>161.6</td>\n",
       "      <td>123.0</td>\n",
       "      <td>27.47</td>\n",
       "      <td>195.5</td>\n",
       "      <td>103.0</td>\n",
       "      <td>16.62</td>\n",
       "      <td>254.4</td>\n",
       "      <td>103.0</td>\n",
       "      <td>11.45</td>\n",
       "      <td>13.7</td>\n",
       "      <td>3.0</td>\n",
       "      <td>3.70</td>\n",
       "      <td>1.0</td>\n",
       "      <td>no</td>\n",
       "    </tr>\n",
       "    <tr>\n",
       "      <th>1</th>\n",
       "      <td>NJ</td>\n",
       "      <td>137.0</td>\n",
       "      <td>area_code_415</td>\n",
       "      <td>no</td>\n",
       "      <td>no</td>\n",
       "      <td>0.0</td>\n",
       "      <td>243.4</td>\n",
       "      <td>114.0</td>\n",
       "      <td>41.38</td>\n",
       "      <td>121.2</td>\n",
       "      <td>110.0</td>\n",
       "      <td>10.30</td>\n",
       "      <td>162.6</td>\n",
       "      <td>104.0</td>\n",
       "      <td>7.32</td>\n",
       "      <td>12.2</td>\n",
       "      <td>5.0</td>\n",
       "      <td>3.29</td>\n",
       "      <td>0.0</td>\n",
       "      <td>no</td>\n",
       "    </tr>\n",
       "    <tr>\n",
       "      <th>2</th>\n",
       "      <td>OH</td>\n",
       "      <td>84.0</td>\n",
       "      <td>area_code_408</td>\n",
       "      <td>yes</td>\n",
       "      <td>no</td>\n",
       "      <td>0.0</td>\n",
       "      <td>299.4</td>\n",
       "      <td>71.0</td>\n",
       "      <td>50.90</td>\n",
       "      <td>61.9</td>\n",
       "      <td>88.0</td>\n",
       "      <td>5.26</td>\n",
       "      <td>196.9</td>\n",
       "      <td>89.0</td>\n",
       "      <td>8.86</td>\n",
       "      <td>6.6</td>\n",
       "      <td>7.0</td>\n",
       "      <td>1.78</td>\n",
       "      <td>2.0</td>\n",
       "      <td>no</td>\n",
       "    </tr>\n",
       "    <tr>\n",
       "      <th>3</th>\n",
       "      <td>OK</td>\n",
       "      <td>75.0</td>\n",
       "      <td>area_code_415</td>\n",
       "      <td>yes</td>\n",
       "      <td>no</td>\n",
       "      <td>0.0</td>\n",
       "      <td>166.7</td>\n",
       "      <td>113.0</td>\n",
       "      <td>28.34</td>\n",
       "      <td>148.3</td>\n",
       "      <td>122.0</td>\n",
       "      <td>12.61</td>\n",
       "      <td>186.9</td>\n",
       "      <td>121.0</td>\n",
       "      <td>8.41</td>\n",
       "      <td>10.1</td>\n",
       "      <td>3.0</td>\n",
       "      <td>2.73</td>\n",
       "      <td>3.0</td>\n",
       "      <td>no</td>\n",
       "    </tr>\n",
       "    <tr>\n",
       "      <th>4</th>\n",
       "      <td>MA</td>\n",
       "      <td>121.0</td>\n",
       "      <td>area_code_510</td>\n",
       "      <td>no</td>\n",
       "      <td>yes</td>\n",
       "      <td>24.0</td>\n",
       "      <td>218.2</td>\n",
       "      <td>88.0</td>\n",
       "      <td>37.09</td>\n",
       "      <td>348.5</td>\n",
       "      <td>108.0</td>\n",
       "      <td>29.62</td>\n",
       "      <td>212.6</td>\n",
       "      <td>118.0</td>\n",
       "      <td>9.57</td>\n",
       "      <td>7.5</td>\n",
       "      <td>7.0</td>\n",
       "      <td>2.03</td>\n",
       "      <td>3.0</td>\n",
       "      <td>no</td>\n",
       "    </tr>\n",
       "    <tr>\n",
       "      <th>...</th>\n",
       "      <td>...</td>\n",
       "      <td>...</td>\n",
       "      <td>...</td>\n",
       "      <td>...</td>\n",
       "      <td>...</td>\n",
       "      <td>...</td>\n",
       "      <td>...</td>\n",
       "      <td>...</td>\n",
       "      <td>...</td>\n",
       "      <td>...</td>\n",
       "      <td>...</td>\n",
       "      <td>...</td>\n",
       "      <td>...</td>\n",
       "      <td>...</td>\n",
       "      <td>...</td>\n",
       "      <td>...</td>\n",
       "      <td>...</td>\n",
       "      <td>...</td>\n",
       "      <td>...</td>\n",
       "      <td>...</td>\n",
       "    </tr>\n",
       "    <tr>\n",
       "      <th>4245</th>\n",
       "      <td>MT</td>\n",
       "      <td>83.0</td>\n",
       "      <td>area_code_415</td>\n",
       "      <td>no</td>\n",
       "      <td>no</td>\n",
       "      <td>0.0</td>\n",
       "      <td>188.3</td>\n",
       "      <td>70.0</td>\n",
       "      <td>32.01</td>\n",
       "      <td>243.8</td>\n",
       "      <td>88.0</td>\n",
       "      <td>20.72</td>\n",
       "      <td>213.7</td>\n",
       "      <td>79.0</td>\n",
       "      <td>9.62</td>\n",
       "      <td>10.3</td>\n",
       "      <td>6.0</td>\n",
       "      <td>2.78</td>\n",
       "      <td>0.0</td>\n",
       "      <td>no</td>\n",
       "    </tr>\n",
       "    <tr>\n",
       "      <th>4246</th>\n",
       "      <td>WV</td>\n",
       "      <td>73.0</td>\n",
       "      <td>area_code_408</td>\n",
       "      <td>no</td>\n",
       "      <td>no</td>\n",
       "      <td>0.0</td>\n",
       "      <td>177.9</td>\n",
       "      <td>89.0</td>\n",
       "      <td>30.24</td>\n",
       "      <td>131.2</td>\n",
       "      <td>82.0</td>\n",
       "      <td>11.15</td>\n",
       "      <td>186.2</td>\n",
       "      <td>89.0</td>\n",
       "      <td>8.38</td>\n",
       "      <td>11.5</td>\n",
       "      <td>6.0</td>\n",
       "      <td>3.11</td>\n",
       "      <td>3.0</td>\n",
       "      <td>no</td>\n",
       "    </tr>\n",
       "    <tr>\n",
       "      <th>4247</th>\n",
       "      <td>NC</td>\n",
       "      <td>75.0</td>\n",
       "      <td>area_code_408</td>\n",
       "      <td>no</td>\n",
       "      <td>no</td>\n",
       "      <td>0.0</td>\n",
       "      <td>170.7</td>\n",
       "      <td>101.0</td>\n",
       "      <td>29.02</td>\n",
       "      <td>193.1</td>\n",
       "      <td>126.0</td>\n",
       "      <td>16.41</td>\n",
       "      <td>129.1</td>\n",
       "      <td>104.0</td>\n",
       "      <td>5.81</td>\n",
       "      <td>6.9</td>\n",
       "      <td>7.0</td>\n",
       "      <td>1.86</td>\n",
       "      <td>1.0</td>\n",
       "      <td>no</td>\n",
       "    </tr>\n",
       "    <tr>\n",
       "      <th>4248</th>\n",
       "      <td>HI</td>\n",
       "      <td>50.0</td>\n",
       "      <td>area_code_408</td>\n",
       "      <td>no</td>\n",
       "      <td>yes</td>\n",
       "      <td>40.0</td>\n",
       "      <td>235.7</td>\n",
       "      <td>127.0</td>\n",
       "      <td>40.07</td>\n",
       "      <td>223.0</td>\n",
       "      <td>126.0</td>\n",
       "      <td>18.96</td>\n",
       "      <td>297.5</td>\n",
       "      <td>116.0</td>\n",
       "      <td>13.39</td>\n",
       "      <td>9.9</td>\n",
       "      <td>5.0</td>\n",
       "      <td>2.67</td>\n",
       "      <td>2.0</td>\n",
       "      <td>no</td>\n",
       "    </tr>\n",
       "    <tr>\n",
       "      <th>4249</th>\n",
       "      <td>VT</td>\n",
       "      <td>86.0</td>\n",
       "      <td>area_code_415</td>\n",
       "      <td>no</td>\n",
       "      <td>yes</td>\n",
       "      <td>34.0</td>\n",
       "      <td>129.4</td>\n",
       "      <td>102.0</td>\n",
       "      <td>22.00</td>\n",
       "      <td>267.1</td>\n",
       "      <td>104.0</td>\n",
       "      <td>22.70</td>\n",
       "      <td>154.8</td>\n",
       "      <td>100.0</td>\n",
       "      <td>6.97</td>\n",
       "      <td>9.3</td>\n",
       "      <td>16.0</td>\n",
       "      <td>2.51</td>\n",
       "      <td>0.0</td>\n",
       "      <td>no</td>\n",
       "    </tr>\n",
       "  </tbody>\n",
       "</table>\n",
       "<p>4250 rows × 20 columns</p>\n",
       "</div>"
      ],
      "text/plain": [
       "     state  account_length      area_code international_plan voice_mail_plan  \\\n",
       "0       OH           107.0  area_code_415                 no             yes   \n",
       "1       NJ           137.0  area_code_415                 no              no   \n",
       "2       OH            84.0  area_code_408                yes              no   \n",
       "3       OK            75.0  area_code_415                yes              no   \n",
       "4       MA           121.0  area_code_510                 no             yes   \n",
       "...    ...             ...            ...                ...             ...   \n",
       "4245    MT            83.0  area_code_415                 no              no   \n",
       "4246    WV            73.0  area_code_408                 no              no   \n",
       "4247    NC            75.0  area_code_408                 no              no   \n",
       "4248    HI            50.0  area_code_408                 no             yes   \n",
       "4249    VT            86.0  area_code_415                 no             yes   \n",
       "\n",
       "      number_vmail_messages  total_day_minutes  total_day_calls  \\\n",
       "0                      26.0              161.6            123.0   \n",
       "1                       0.0              243.4            114.0   \n",
       "2                       0.0              299.4             71.0   \n",
       "3                       0.0              166.7            113.0   \n",
       "4                      24.0              218.2             88.0   \n",
       "...                     ...                ...              ...   \n",
       "4245                    0.0              188.3             70.0   \n",
       "4246                    0.0              177.9             89.0   \n",
       "4247                    0.0              170.7            101.0   \n",
       "4248                   40.0              235.7            127.0   \n",
       "4249                   34.0              129.4            102.0   \n",
       "\n",
       "      total_day_charge  total_eve_minutes  total_eve_calls  total_eve_charge  \\\n",
       "0                27.47              195.5            103.0             16.62   \n",
       "1                41.38              121.2            110.0             10.30   \n",
       "2                50.90               61.9             88.0              5.26   \n",
       "3                28.34              148.3            122.0             12.61   \n",
       "4                37.09              348.5            108.0             29.62   \n",
       "...                ...                ...              ...               ...   \n",
       "4245             32.01              243.8             88.0             20.72   \n",
       "4246             30.24              131.2             82.0             11.15   \n",
       "4247             29.02              193.1            126.0             16.41   \n",
       "4248             40.07              223.0            126.0             18.96   \n",
       "4249             22.00              267.1            104.0             22.70   \n",
       "\n",
       "      total_night_minutes  total_night_calls  total_night_charge  \\\n",
       "0                   254.4              103.0               11.45   \n",
       "1                   162.6              104.0                7.32   \n",
       "2                   196.9               89.0                8.86   \n",
       "3                   186.9              121.0                8.41   \n",
       "4                   212.6              118.0                9.57   \n",
       "...                   ...                ...                 ...   \n",
       "4245                213.7               79.0                9.62   \n",
       "4246                186.2               89.0                8.38   \n",
       "4247                129.1              104.0                5.81   \n",
       "4248                297.5              116.0               13.39   \n",
       "4249                154.8              100.0                6.97   \n",
       "\n",
       "      total_intl_minutes  total_intl_calls  total_intl_charge  \\\n",
       "0                   13.7               3.0               3.70   \n",
       "1                   12.2               5.0               3.29   \n",
       "2                    6.6               7.0               1.78   \n",
       "3                   10.1               3.0               2.73   \n",
       "4                    7.5               7.0               2.03   \n",
       "...                  ...               ...                ...   \n",
       "4245                10.3               6.0               2.78   \n",
       "4246                11.5               6.0               3.11   \n",
       "4247                 6.9               7.0               1.86   \n",
       "4248                 9.9               5.0               2.67   \n",
       "4249                 9.3              16.0               2.51   \n",
       "\n",
       "      number_customer_service_calls churn  \n",
       "0                               1.0    no  \n",
       "1                               0.0    no  \n",
       "2                               2.0    no  \n",
       "3                               3.0    no  \n",
       "4                               3.0    no  \n",
       "...                             ...   ...  \n",
       "4245                            0.0    no  \n",
       "4246                            3.0    no  \n",
       "4247                            1.0    no  \n",
       "4248                            2.0    no  \n",
       "4249                            0.0    no  \n",
       "\n",
       "[4250 rows x 20 columns]"
      ]
     },
     "execution_count": 2,
     "metadata": {},
     "output_type": "execute_result"
    }
   ],
   "source": [
    "churn_df = pd.read_csv(\"Customer-Churn-Prediction.csv\")\n",
    "churn_df"
   ]
  },
  {
   "cell_type": "markdown",
   "id": "cde3a970",
   "metadata": {},
   "source": [
    "### Feature description of dataset"
   ]
  },
  {
   "cell_type": "code",
   "execution_count": 3,
   "id": "684591e2",
   "metadata": {},
   "outputs": [
    {
     "name": "stdout",
     "output_type": "stream",
     "text": [
      "<class 'pandas.core.frame.DataFrame'>\n",
      "RangeIndex: 4250 entries, 0 to 4249\n",
      "Data columns (total 20 columns):\n",
      " #   Column                         Non-Null Count  Dtype  \n",
      "---  ------                         --------------  -----  \n",
      " 0   state                          4232 non-null   object \n",
      " 1   account_length                 4216 non-null   float64\n",
      " 2   area_code                      4234 non-null   object \n",
      " 3   international_plan             4250 non-null   object \n",
      " 4   voice_mail_plan                4237 non-null   object \n",
      " 5   number_vmail_messages          4216 non-null   float64\n",
      " 6   total_day_minutes              4240 non-null   float64\n",
      " 7   total_day_calls                4248 non-null   float64\n",
      " 8   total_day_charge               4242 non-null   float64\n",
      " 9   total_eve_minutes              4215 non-null   float64\n",
      " 10  total_eve_calls                4233 non-null   float64\n",
      " 11  total_eve_charge               4242 non-null   float64\n",
      " 12  total_night_minutes            4248 non-null   float64\n",
      " 13  total_night_calls              4245 non-null   float64\n",
      " 14  total_night_charge             4243 non-null   float64\n",
      " 15  total_intl_minutes             4245 non-null   float64\n",
      " 16  total_intl_calls               4237 non-null   float64\n",
      " 17  total_intl_charge              4220 non-null   float64\n",
      " 18  number_customer_service_calls  4247 non-null   float64\n",
      " 19  churn                          4228 non-null   object \n",
      "dtypes: float64(15), object(5)\n",
      "memory usage: 664.2+ KB\n"
     ]
    }
   ],
   "source": [
    "churn_df.info()"
   ]
  },
  {
   "cell_type": "markdown",
   "id": "e287bc93",
   "metadata": {},
   "source": [
    "### Imbalancing of data "
   ]
  },
  {
   "cell_type": "code",
   "execution_count": 4,
   "id": "c53dc36e",
   "metadata": {},
   "outputs": [
    {
     "data": {
      "text/plain": [
       "('no', 3634)"
      ]
     },
     "execution_count": 4,
     "metadata": {},
     "output_type": "execute_result"
    }
   ],
   "source": [
    "(churn_df['churn'].value_counts().index[0], churn_df['churn'].value_counts().values[0])"
   ]
  },
  {
   "cell_type": "code",
   "execution_count": 5,
   "id": "9bddfedb",
   "metadata": {},
   "outputs": [
    {
     "data": {
      "text/plain": [
       "('yes', 594)"
      ]
     },
     "execution_count": 5,
     "metadata": {},
     "output_type": "execute_result"
    }
   ],
   "source": [
    "(churn_df['churn'].value_counts().index[1], churn_df['churn'].value_counts().values[1])"
   ]
  },
  {
   "cell_type": "markdown",
   "id": "c0c85c1f",
   "metadata": {},
   "source": [
    "### Conversion of categorical variables into numerical variables  \n",
    "Preprocessing on categorical columns by One Hot Encoding"
   ]
  },
  {
   "cell_type": "code",
   "execution_count": 6,
   "id": "bc7b2fe2",
   "metadata": {},
   "outputs": [
    {
     "name": "stdout",
     "output_type": "stream",
     "text": [
      "Categorical columns:\n",
      "['state', 'area_code', 'international_plan', 'voice_mail_plan']\n"
     ]
    }
   ],
   "source": [
    "# Defining the categorical columns:\n",
    "\n",
    "cat_col = ['state','area_code','international_plan','voice_mail_plan']\n",
    "\n",
    "print(\"Categorical columns:\")\n",
    "print(cat_col)\n",
    "\n",
    "onehot_cat_col = OneHotEncoder(handle_unknown = 'ignore',categories='auto',sparse = False)\n",
    "\n",
    "cat_transformer = Pipeline(steps = [('onehot', onehot_cat_col)])\n"
   ]
  },
  {
   "cell_type": "markdown",
   "id": "343f24d6",
   "metadata": {},
   "source": [
    "### Numerical columns:"
   ]
  },
  {
   "cell_type": "code",
   "execution_count": 7,
   "id": "5b1e1305",
   "metadata": {},
   "outputs": [
    {
     "name": "stdout",
     "output_type": "stream",
     "text": [
      "Numerical columns: \n",
      "Index(['account_length', 'number_vmail_messages', 'total_day_minutes',\n",
      "       'total_day_calls', 'total_day_charge', 'total_eve_minutes',\n",
      "       'total_eve_calls', 'total_eve_charge', 'total_night_minutes',\n",
      "       'total_night_calls', 'total_night_charge', 'total_intl_minutes',\n",
      "       'total_intl_calls', 'total_intl_charge',\n",
      "       'number_customer_service_calls'],\n",
      "      dtype='object')\n"
     ]
    }
   ],
   "source": [
    "# Defining the numerical columns:\n",
    "\n",
    "num_cols = churn_df.select_dtypes(include=['int64','float64']).columns\n",
    "\n",
    "print(\"Numerical columns: \")\n",
    "print(num_cols)\n",
    "\n",
    "scaler_num_cols = StandardScaler()\n",
    "\n",
    "num_transformer = Pipeline(steps = [('scale',scaler_num_cols)])"
   ]
  },
  {
   "cell_type": "markdown",
   "id": "acff5ea9",
   "metadata": {},
   "source": [
    "### Preprocessing"
   ]
  },
  {
   "cell_type": "code",
   "execution_count": 8,
   "id": "458e2a62",
   "metadata": {},
   "outputs": [
    {
     "name": "stdout",
     "output_type": "stream",
     "text": [
      "[[0.0 0.0 0.0 ... 1.2485563734579936 -0.42676547018992006 'no']\n",
      " [0.0 0.0 0.0 ... 0.698238133721244 -1.1892698672856672 'no']\n",
      " [0.0 0.0 0.0 ... -1.328543676040931 0.335738926905827 'no']\n",
      " ...\n",
      " [0.0 0.0 0.0 ... -1.2211645073118091 -0.42676547018992006 'no']\n",
      " [0.0 0.0 0.0 ... -0.13395042392945053 0.335738926905827 'no']\n",
      " [0.0 0.0 0.0 ... -0.3487087613876944 -1.1892698672856672 'no']]\n"
     ]
    }
   ],
   "source": [
    "Preprocess = ColumnTransformer(transformers=[('cat',cat_transformer, cat_col),\n",
    "                          ('num',num_transformer, num_cols)],\n",
    "                                          remainder = \"passthrough\")\n",
    "\n",
    "churn = Preprocess.fit_transform(churn_df)\n",
    "print(churn)"
   ]
  },
  {
   "cell_type": "markdown",
   "id": "56fc0206",
   "metadata": {},
   "source": [
    "### Converitng traget variable into numerical by Label Encoder"
   ]
  },
  {
   "cell_type": "code",
   "execution_count": 9,
   "id": "f1afee1f",
   "metadata": {},
   "outputs": [],
   "source": [
    "le=LabelEncoder()\n",
    "y = le.fit_transform(churn_df[\"churn\"])"
   ]
  },
  {
   "cell_type": "markdown",
   "id": "b23dcc9b",
   "metadata": {},
   "source": [
    "### Splitting tha balanced dataset using train_test_split.<a class= \"anchor\" id=\"h6\"></a>"
   ]
  },
  {
   "cell_type": "code",
   "execution_count": 10,
   "id": "b74aec12",
   "metadata": {},
   "outputs": [],
   "source": [
    "from sklearn.model_selection import train_test_split\n",
    "X_train, y_train, X_test, y_test = train_test_split(churn, y, random_state= 20, test_size= 0.3)"
   ]
  },
  {
   "cell_type": "code",
   "execution_count": 11,
   "id": "51ba24f5",
   "metadata": {},
   "outputs": [
    {
     "name": "stdout",
     "output_type": "stream",
     "text": [
      "Size of the traintest : (2975, 77) (1275, 77)\n"
     ]
    }
   ],
   "source": [
    "print(\"Size of the traintest :\", X_train.shape , y_train.shape)"
   ]
  },
  {
   "cell_type": "code",
   "execution_count": 12,
   "id": "6d6373c0",
   "metadata": {},
   "outputs": [
    {
     "name": "stdout",
     "output_type": "stream",
     "text": [
      "Size of the testset : (2975,) (1275,)\n"
     ]
    }
   ],
   "source": [
    "print(\"Size of the testset :\", X_test.shape , y_test.shape)"
   ]
  },
  {
   "cell_type": "code",
   "execution_count": null,
   "id": "9e910da1",
   "metadata": {},
   "outputs": [],
   "source": []
  }
 ],
 "metadata": {
  "kernelspec": {
   "display_name": "CustomKernel",
   "language": "python",
   "name": "customkernel"
  },
  "language_info": {
   "codemirror_mode": {
    "name": "ipython",
    "version": 3
   },
   "file_extension": ".py",
   "mimetype": "text/x-python",
   "name": "python",
   "nbconvert_exporter": "python",
   "pygments_lexer": "ipython3",
   "version": "3.9.1"
  }
 },
 "nbformat": 4,
 "nbformat_minor": 5
}
