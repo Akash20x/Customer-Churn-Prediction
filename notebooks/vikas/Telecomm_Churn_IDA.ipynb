{
 "cells": [
  {
   "cell_type": "markdown",
   "id": "a6bc73e8",
   "metadata": {},
   "source": [
    "# Business Problem"
   ]
  },
  {
   "cell_type": "markdown",
   "id": "2d99ee94",
   "metadata": {},
   "source": [
    "Churn is a one of the biggest problem in the telecom industry. Research has shown that the average monthly churn rate among the top 4 wireless carriers in the US is 1.9% - 2%. So in the givem problem we are trying to find out the factors on which churn depends so that on our analysis we can provide possible solution to the customer to tackel the situation."
   ]
  },
  {
   "cell_type": "markdown",
   "id": "ff749832",
   "metadata": {},
   "source": [
    "# DataSet"
   ]
  },
  {
   "cell_type": "markdown",
   "id": "5900583f",
   "metadata": {},
   "source": [
    "In the given data set we have 4718 rows and 31 columns."
   ]
  },
  {
   "cell_type": "markdown",
   "id": "17ca3394",
   "metadata": {},
   "source": [
    "### Importig important Libaries"
   ]
  },
  {
   "cell_type": "markdown",
   "id": "b1b77ecc",
   "metadata": {},
   "source": [
    "import numpy as np\n",
    "import pandas as pd\n",
    "import matplotlib.pyplot as plt\n",
    "import seaborn as sns"
   ]
  },
  {
   "cell_type": "code",
   "execution_count": 1,
   "id": "af412b6c",
   "metadata": {},
   "outputs": [],
   "source": [
    "from plotly.offline import iplot,download_plotlyjs,init_notebook_mode,plot\n",
    "import chart_studio.plotly as pyc\n",
    "import plotly as py\n",
    "import plotly as tis\n",
    "import cufflinks as cf"
   ]
  },
  {
   "cell_type": "code",
   "execution_count": 3,
   "id": "73a5dde1",
   "metadata": {},
   "outputs": [],
   "source": [
    "import numpy as np\n",
    "import pandas as pd\n",
    "import matplotlib.pyplot as plt\n",
    "import matplotlib.ticker as mtick\n",
    "import seaborn as sns "
   ]
  },
  {
   "cell_type": "code",
   "execution_count": 4,
   "id": "bb180b52",
   "metadata": {},
   "outputs": [],
   "source": [
    "Tele_comm_DF=pd.read_csv(r\"F:\\MLPacktPro\\Customer-Churn-Prediction-main\\Customer-Churn-Prediction-main\\data\\1\\TelcoCustomerChurn.csv\")"
   ]
  },
  {
   "cell_type": "code",
   "execution_count": 5,
   "id": "ae36bcf2",
   "metadata": {},
   "outputs": [
    {
     "data": {
      "text/html": [
       "<div>\n",
       "<style scoped>\n",
       "    .dataframe tbody tr th:only-of-type {\n",
       "        vertical-align: middle;\n",
       "    }\n",
       "\n",
       "    .dataframe tbody tr th {\n",
       "        vertical-align: top;\n",
       "    }\n",
       "\n",
       "    .dataframe thead th {\n",
       "        text-align: right;\n",
       "    }\n",
       "</style>\n",
       "<table border=\"1\" class=\"dataframe\">\n",
       "  <thead>\n",
       "    <tr style=\"text-align: right;\">\n",
       "      <th></th>\n",
       "      <th>CustomerID</th>\n",
       "      <th>Count</th>\n",
       "      <th>Country</th>\n",
       "      <th>State</th>\n",
       "      <th>City</th>\n",
       "      <th>Zip Code</th>\n",
       "      <th>Lat Long</th>\n",
       "      <th>Latitude</th>\n",
       "      <th>Longitude</th>\n",
       "      <th>Gender</th>\n",
       "      <th>...</th>\n",
       "      <th>Streaming TV</th>\n",
       "      <th>Streaming Movies</th>\n",
       "      <th>Contract</th>\n",
       "      <th>Paperless Billing</th>\n",
       "      <th>Payment Method</th>\n",
       "      <th>Monthly Charges</th>\n",
       "      <th>Total Charges</th>\n",
       "      <th>CLTV</th>\n",
       "      <th>Churn Reason</th>\n",
       "      <th>Churn Value</th>\n",
       "    </tr>\n",
       "  </thead>\n",
       "  <tbody>\n",
       "    <tr>\n",
       "      <th>0</th>\n",
       "      <td>5196-WPYOW</td>\n",
       "      <td>1.0</td>\n",
       "      <td>United States</td>\n",
       "      <td>California</td>\n",
       "      <td>Paso Robles</td>\n",
       "      <td>93446.0</td>\n",
       "      <td>35.634222, -120.728341</td>\n",
       "      <td>35.634222</td>\n",
       "      <td>-120.728341</td>\n",
       "      <td>Male</td>\n",
       "      <td>...</td>\n",
       "      <td>No</td>\n",
       "      <td>No</td>\n",
       "      <td>One year</td>\n",
       "      <td>No</td>\n",
       "      <td>Mailed check</td>\n",
       "      <td>60.05</td>\n",
       "      <td>3994.05</td>\n",
       "      <td>6148.0</td>\n",
       "      <td>NaN</td>\n",
       "      <td>0.0</td>\n",
       "    </tr>\n",
       "    <tr>\n",
       "      <th>1</th>\n",
       "      <td>8189-HBVRW</td>\n",
       "      <td>1.0</td>\n",
       "      <td>United States</td>\n",
       "      <td>California</td>\n",
       "      <td>Los Angeles</td>\n",
       "      <td>90005.0</td>\n",
       "      <td>34.059281, -118.30742</td>\n",
       "      <td>34.059281</td>\n",
       "      <td>-118.307420</td>\n",
       "      <td>Female</td>\n",
       "      <td>...</td>\n",
       "      <td>No</td>\n",
       "      <td>No</td>\n",
       "      <td>Month-to-month</td>\n",
       "      <td>No</td>\n",
       "      <td>Electronic check</td>\n",
       "      <td>90.80</td>\n",
       "      <td>4921.2</td>\n",
       "      <td>5249.0</td>\n",
       "      <td>NaN</td>\n",
       "      <td>0.0</td>\n",
       "    </tr>\n",
       "    <tr>\n",
       "      <th>2</th>\n",
       "      <td>4091-TVOCN</td>\n",
       "      <td>1.0</td>\n",
       "      <td>United States</td>\n",
       "      <td>California</td>\n",
       "      <td>Potrero</td>\n",
       "      <td>91963.0</td>\n",
       "      <td>32.619465, -116.593605</td>\n",
       "      <td>32.619465</td>\n",
       "      <td>-116.593605</td>\n",
       "      <td>Male</td>\n",
       "      <td>...</td>\n",
       "      <td>Yes</td>\n",
       "      <td>Yes</td>\n",
       "      <td>One year</td>\n",
       "      <td>Yes</td>\n",
       "      <td>Credit card (automatic)</td>\n",
       "      <td>78.75</td>\n",
       "      <td>3682.45</td>\n",
       "      <td>2257.0</td>\n",
       "      <td>NaN</td>\n",
       "      <td>0.0</td>\n",
       "    </tr>\n",
       "    <tr>\n",
       "      <th>3</th>\n",
       "      <td>9603-OAIHC</td>\n",
       "      <td>1.0</td>\n",
       "      <td>United States</td>\n",
       "      <td>California</td>\n",
       "      <td>Palmdale</td>\n",
       "      <td>93551.0</td>\n",
       "      <td>34.613476, -118.256358</td>\n",
       "      <td>34.613476</td>\n",
       "      <td>-118.256358</td>\n",
       "      <td>Male</td>\n",
       "      <td>...</td>\n",
       "      <td>No</td>\n",
       "      <td>No</td>\n",
       "      <td>Month-to-month</td>\n",
       "      <td>Yes</td>\n",
       "      <td>Electronic check</td>\n",
       "      <td>70.05</td>\n",
       "      <td>70.05</td>\n",
       "      <td>2469.0</td>\n",
       "      <td>NaN</td>\n",
       "      <td>0.0</td>\n",
       "    </tr>\n",
       "    <tr>\n",
       "      <th>4</th>\n",
       "      <td>8647-SDTWQ</td>\n",
       "      <td>1.0</td>\n",
       "      <td>United States</td>\n",
       "      <td>California</td>\n",
       "      <td>Hood</td>\n",
       "      <td>95639.0</td>\n",
       "      <td>38.375325, -121.507935</td>\n",
       "      <td>38.375325</td>\n",
       "      <td>-121.507935</td>\n",
       "      <td>Male</td>\n",
       "      <td>...</td>\n",
       "      <td>No</td>\n",
       "      <td>No</td>\n",
       "      <td>Month-to-month</td>\n",
       "      <td>Yes</td>\n",
       "      <td>Electronic check</td>\n",
       "      <td>74.30</td>\n",
       "      <td>4018.35</td>\n",
       "      <td>4133.0</td>\n",
       "      <td>NaN</td>\n",
       "      <td>0.0</td>\n",
       "    </tr>\n",
       "    <tr>\n",
       "      <th>...</th>\n",
       "      <td>...</td>\n",
       "      <td>...</td>\n",
       "      <td>...</td>\n",
       "      <td>...</td>\n",
       "      <td>...</td>\n",
       "      <td>...</td>\n",
       "      <td>...</td>\n",
       "      <td>...</td>\n",
       "      <td>...</td>\n",
       "      <td>...</td>\n",
       "      <td>...</td>\n",
       "      <td>...</td>\n",
       "      <td>...</td>\n",
       "      <td>...</td>\n",
       "      <td>...</td>\n",
       "      <td>...</td>\n",
       "      <td>...</td>\n",
       "      <td>...</td>\n",
       "      <td>...</td>\n",
       "      <td>...</td>\n",
       "      <td>...</td>\n",
       "    </tr>\n",
       "    <tr>\n",
       "      <th>4713</th>\n",
       "      <td>0829-DDVLK</td>\n",
       "      <td>1.0</td>\n",
       "      <td>United States</td>\n",
       "      <td>California</td>\n",
       "      <td>Orange</td>\n",
       "      <td>92866.0</td>\n",
       "      <td>33.784597, -117.844535</td>\n",
       "      <td>33.784597</td>\n",
       "      <td>-117.844535</td>\n",
       "      <td>Female</td>\n",
       "      <td>...</td>\n",
       "      <td>No internet service</td>\n",
       "      <td>No internet service</td>\n",
       "      <td>One year</td>\n",
       "      <td>No</td>\n",
       "      <td>Credit card (automatic)</td>\n",
       "      <td>20.10</td>\n",
       "      <td>302.45</td>\n",
       "      <td>4359.0</td>\n",
       "      <td>NaN</td>\n",
       "      <td>0.0</td>\n",
       "    </tr>\n",
       "    <tr>\n",
       "      <th>4714</th>\n",
       "      <td>3230-JCNZS</td>\n",
       "      <td>1.0</td>\n",
       "      <td>United States</td>\n",
       "      <td>California</td>\n",
       "      <td>San Francisco</td>\n",
       "      <td>94107.0</td>\n",
       "      <td>37.768881, -122.395521</td>\n",
       "      <td>37.768881</td>\n",
       "      <td>-122.395521</td>\n",
       "      <td>Female</td>\n",
       "      <td>...</td>\n",
       "      <td>Yes</td>\n",
       "      <td>No</td>\n",
       "      <td>Two year</td>\n",
       "      <td>Yes</td>\n",
       "      <td>Credit card (automatic)</td>\n",
       "      <td>99.00</td>\n",
       "      <td>7061.65</td>\n",
       "      <td>4305.0</td>\n",
       "      <td>NaN</td>\n",
       "      <td>0.0</td>\n",
       "    </tr>\n",
       "    <tr>\n",
       "      <th>4715</th>\n",
       "      <td>7384-GHBPI</td>\n",
       "      <td>1.0</td>\n",
       "      <td>United States</td>\n",
       "      <td>California</td>\n",
       "      <td>San Dimas</td>\n",
       "      <td>91773.0</td>\n",
       "      <td>34.102119, -117.815532</td>\n",
       "      <td>34.102119</td>\n",
       "      <td>-117.815532</td>\n",
       "      <td>Male</td>\n",
       "      <td>...</td>\n",
       "      <td>No</td>\n",
       "      <td>Yes</td>\n",
       "      <td>Month-to-month</td>\n",
       "      <td>Yes</td>\n",
       "      <td>Electronic check</td>\n",
       "      <td>35.15</td>\n",
       "      <td>99.75</td>\n",
       "      <td>2987.0</td>\n",
       "      <td>Attitude of support person</td>\n",
       "      <td>1.0</td>\n",
       "    </tr>\n",
       "    <tr>\n",
       "      <th>4716</th>\n",
       "      <td>9254-RBFON</td>\n",
       "      <td>1.0</td>\n",
       "      <td>United States</td>\n",
       "      <td>California</td>\n",
       "      <td>Klamath River</td>\n",
       "      <td>96050.0</td>\n",
       "      <td>41.816595, -122.948287</td>\n",
       "      <td>41.816595</td>\n",
       "      <td>-122.948287</td>\n",
       "      <td>Female</td>\n",
       "      <td>...</td>\n",
       "      <td>Yes</td>\n",
       "      <td>Yes</td>\n",
       "      <td>One year</td>\n",
       "      <td>No</td>\n",
       "      <td>Bank transfer (automatic)</td>\n",
       "      <td>98.60</td>\n",
       "      <td>1704.95</td>\n",
       "      <td>5160.0</td>\n",
       "      <td>Moved</td>\n",
       "      <td>1.0</td>\n",
       "    </tr>\n",
       "    <tr>\n",
       "      <th>4717</th>\n",
       "      <td>0022-TCJCI</td>\n",
       "      <td>1.0</td>\n",
       "      <td>United States</td>\n",
       "      <td>California</td>\n",
       "      <td>Daly City</td>\n",
       "      <td>94015.0</td>\n",
       "      <td>37.680844, -122.48131</td>\n",
       "      <td>37.680844</td>\n",
       "      <td>-122.481310</td>\n",
       "      <td>Male</td>\n",
       "      <td>...</td>\n",
       "      <td>No</td>\n",
       "      <td>Yes</td>\n",
       "      <td>One year</td>\n",
       "      <td>No</td>\n",
       "      <td>Credit card (automatic)</td>\n",
       "      <td>62.70</td>\n",
       "      <td>2791.5</td>\n",
       "      <td>2654.0</td>\n",
       "      <td>Limited range of services</td>\n",
       "      <td>1.0</td>\n",
       "    </tr>\n",
       "  </tbody>\n",
       "</table>\n",
       "<p>4718 rows × 31 columns</p>\n",
       "</div>"
      ],
      "text/plain": [
       "      CustomerID  Count        Country       State           City  Zip Code  \\\n",
       "0     5196-WPYOW    1.0  United States  California    Paso Robles   93446.0   \n",
       "1     8189-HBVRW    1.0  United States  California    Los Angeles   90005.0   \n",
       "2     4091-TVOCN    1.0  United States  California        Potrero   91963.0   \n",
       "3     9603-OAIHC    1.0  United States  California       Palmdale   93551.0   \n",
       "4     8647-SDTWQ    1.0  United States  California           Hood   95639.0   \n",
       "...          ...    ...            ...         ...            ...       ...   \n",
       "4713  0829-DDVLK    1.0  United States  California         Orange   92866.0   \n",
       "4714  3230-JCNZS    1.0  United States  California  San Francisco   94107.0   \n",
       "4715  7384-GHBPI    1.0  United States  California      San Dimas   91773.0   \n",
       "4716  9254-RBFON    1.0  United States  California  Klamath River   96050.0   \n",
       "4717  0022-TCJCI    1.0  United States  California      Daly City   94015.0   \n",
       "\n",
       "                    Lat Long   Latitude   Longitude  Gender  ...  \\\n",
       "0     35.634222, -120.728341  35.634222 -120.728341    Male  ...   \n",
       "1      34.059281, -118.30742  34.059281 -118.307420  Female  ...   \n",
       "2     32.619465, -116.593605  32.619465 -116.593605    Male  ...   \n",
       "3     34.613476, -118.256358  34.613476 -118.256358    Male  ...   \n",
       "4     38.375325, -121.507935  38.375325 -121.507935    Male  ...   \n",
       "...                      ...        ...         ...     ...  ...   \n",
       "4713  33.784597, -117.844535  33.784597 -117.844535  Female  ...   \n",
       "4714  37.768881, -122.395521  37.768881 -122.395521  Female  ...   \n",
       "4715  34.102119, -117.815532  34.102119 -117.815532    Male  ...   \n",
       "4716  41.816595, -122.948287  41.816595 -122.948287  Female  ...   \n",
       "4717   37.680844, -122.48131  37.680844 -122.481310    Male  ...   \n",
       "\n",
       "             Streaming TV     Streaming Movies        Contract  \\\n",
       "0                      No                   No        One year   \n",
       "1                      No                   No  Month-to-month   \n",
       "2                     Yes                  Yes        One year   \n",
       "3                      No                   No  Month-to-month   \n",
       "4                      No                   No  Month-to-month   \n",
       "...                   ...                  ...             ...   \n",
       "4713  No internet service  No internet service        One year   \n",
       "4714                  Yes                   No        Two year   \n",
       "4715                   No                  Yes  Month-to-month   \n",
       "4716                  Yes                  Yes        One year   \n",
       "4717                   No                  Yes        One year   \n",
       "\n",
       "      Paperless Billing             Payment Method Monthly Charges  \\\n",
       "0                    No               Mailed check           60.05   \n",
       "1                    No           Electronic check           90.80   \n",
       "2                   Yes    Credit card (automatic)           78.75   \n",
       "3                   Yes           Electronic check           70.05   \n",
       "4                   Yes           Electronic check           74.30   \n",
       "...                 ...                        ...             ...   \n",
       "4713                 No    Credit card (automatic)           20.10   \n",
       "4714                Yes    Credit card (automatic)           99.00   \n",
       "4715                Yes           Electronic check           35.15   \n",
       "4716                 No  Bank transfer (automatic)           98.60   \n",
       "4717                 No    Credit card (automatic)           62.70   \n",
       "\n",
       "     Total Charges    CLTV                Churn Reason Churn Value  \n",
       "0          3994.05  6148.0                         NaN         0.0  \n",
       "1           4921.2  5249.0                         NaN         0.0  \n",
       "2          3682.45  2257.0                         NaN         0.0  \n",
       "3            70.05  2469.0                         NaN         0.0  \n",
       "4          4018.35  4133.0                         NaN         0.0  \n",
       "...            ...     ...                         ...         ...  \n",
       "4713        302.45  4359.0                         NaN         0.0  \n",
       "4714       7061.65  4305.0                         NaN         0.0  \n",
       "4715         99.75  2987.0  Attitude of support person         1.0  \n",
       "4716       1704.95  5160.0                       Moved         1.0  \n",
       "4717        2791.5  2654.0   Limited range of services         1.0  \n",
       "\n",
       "[4718 rows x 31 columns]"
      ]
     },
     "execution_count": 5,
     "metadata": {},
     "output_type": "execute_result"
    }
   ],
   "source": [
    "Tele_comm_DF"
   ]
  },
  {
   "cell_type": "code",
   "execution_count": 6,
   "id": "e6465033",
   "metadata": {},
   "outputs": [
    {
     "name": "stdout",
     "output_type": "stream",
     "text": [
      "<class 'pandas.core.frame.DataFrame'>\n",
      "RangeIndex: 4718 entries, 0 to 4717\n",
      "Data columns (total 31 columns):\n",
      " #   Column             Non-Null Count  Dtype  \n",
      "---  ------             --------------  -----  \n",
      " 0   CustomerID         4687 non-null   object \n",
      " 1   Count              4691 non-null   float64\n",
      " 2   Country            4708 non-null   object \n",
      " 3   State              4715 non-null   object \n",
      " 4   City               4688 non-null   object \n",
      " 5   Zip Code           4698 non-null   float64\n",
      " 6   Lat Long           4713 non-null   object \n",
      " 7   Latitude           4695 non-null   float64\n",
      " 8   Longitude          4685 non-null   float64\n",
      " 9   Gender             4698 non-null   object \n",
      " 10  Senior Citizen     4711 non-null   object \n",
      " 11  Partner            4678 non-null   object \n",
      " 12  Dependents         4672 non-null   object \n",
      " 13  Tenure Months      4704 non-null   float64\n",
      " 14  Phone Service      4692 non-null   object \n",
      " 15  Multiple Lines     4696 non-null   object \n",
      " 16  Internet Service   4692 non-null   object \n",
      " 17  Online Security    4674 non-null   object \n",
      " 18  Online Backup      4714 non-null   object \n",
      " 19  Device Protection  4711 non-null   object \n",
      " 20  Tech Support       4695 non-null   object \n",
      " 21  Streaming TV       4686 non-null   object \n",
      " 22  Streaming Movies   4688 non-null   object \n",
      " 23  Contract           4672 non-null   object \n",
      " 24  Paperless Billing  4694 non-null   object \n",
      " 25  Payment Method     4717 non-null   object \n",
      " 26  Monthly Charges    4714 non-null   float64\n",
      " 27  Total Charges      4704 non-null   object \n",
      " 28  CLTV               4692 non-null   float64\n",
      " 29  Churn Reason       1261 non-null   object \n",
      " 30  Churn Value        4693 non-null   float64\n",
      "dtypes: float64(8), object(23)\n",
      "memory usage: 1.1+ MB\n"
     ]
    }
   ],
   "source": [
    "Tele_comm_DF.info()"
   ]
  },
  {
   "cell_type": "code",
   "execution_count": 7,
   "id": "c8681d92",
   "metadata": {},
   "outputs": [
    {
     "data": {
      "text/html": [
       "<div>\n",
       "<style scoped>\n",
       "    .dataframe tbody tr th:only-of-type {\n",
       "        vertical-align: middle;\n",
       "    }\n",
       "\n",
       "    .dataframe tbody tr th {\n",
       "        vertical-align: top;\n",
       "    }\n",
       "\n",
       "    .dataframe thead th {\n",
       "        text-align: right;\n",
       "    }\n",
       "</style>\n",
       "<table border=\"1\" class=\"dataframe\">\n",
       "  <thead>\n",
       "    <tr style=\"text-align: right;\">\n",
       "      <th></th>\n",
       "      <th>Monthly Charges</th>\n",
       "      <th>Tenure Months</th>\n",
       "      <th>CLTV</th>\n",
       "    </tr>\n",
       "  </thead>\n",
       "  <tbody>\n",
       "    <tr>\n",
       "      <th>count</th>\n",
       "      <td>4714.000000</td>\n",
       "      <td>4704.000000</td>\n",
       "      <td>4692.000000</td>\n",
       "    </tr>\n",
       "    <tr>\n",
       "      <th>mean</th>\n",
       "      <td>64.885395</td>\n",
       "      <td>32.733418</td>\n",
       "      <td>4406.633205</td>\n",
       "    </tr>\n",
       "    <tr>\n",
       "      <th>std</th>\n",
       "      <td>30.140852</td>\n",
       "      <td>24.605091</td>\n",
       "      <td>1187.667229</td>\n",
       "    </tr>\n",
       "    <tr>\n",
       "      <th>min</th>\n",
       "      <td>18.250000</td>\n",
       "      <td>0.000000</td>\n",
       "      <td>2003.000000</td>\n",
       "    </tr>\n",
       "    <tr>\n",
       "      <th>25%</th>\n",
       "      <td>35.462500</td>\n",
       "      <td>9.000000</td>\n",
       "      <td>3477.500000</td>\n",
       "    </tr>\n",
       "    <tr>\n",
       "      <th>50%</th>\n",
       "      <td>70.375000</td>\n",
       "      <td>30.000000</td>\n",
       "      <td>4533.000000</td>\n",
       "    </tr>\n",
       "    <tr>\n",
       "      <th>75%</th>\n",
       "      <td>89.950000</td>\n",
       "      <td>56.000000</td>\n",
       "      <td>5402.250000</td>\n",
       "    </tr>\n",
       "    <tr>\n",
       "      <th>max</th>\n",
       "      <td>118.750000</td>\n",
       "      <td>72.000000</td>\n",
       "      <td>6499.000000</td>\n",
       "    </tr>\n",
       "  </tbody>\n",
       "</table>\n",
       "</div>"
      ],
      "text/plain": [
       "       Monthly Charges  Tenure Months         CLTV\n",
       "count      4714.000000    4704.000000  4692.000000\n",
       "mean         64.885395      32.733418  4406.633205\n",
       "std          30.140852      24.605091  1187.667229\n",
       "min          18.250000       0.000000  2003.000000\n",
       "25%          35.462500       9.000000  3477.500000\n",
       "50%          70.375000      30.000000  4533.000000\n",
       "75%          89.950000      56.000000  5402.250000\n",
       "max         118.750000      72.000000  6499.000000"
      ]
     },
     "execution_count": 7,
     "metadata": {},
     "output_type": "execute_result"
    }
   ],
   "source": [
    "Tele_comm_DF[[\"Monthly Charges\",\"Tenure Months\",\"CLTV\"]].describe()"
   ]
  },
  {
   "cell_type": "code",
   "execution_count": 8,
   "id": "d186505d",
   "metadata": {},
   "outputs": [
    {
     "data": {
      "text/plain": [
       "Gender  Churn Value\n",
       "Female  0.0            1671\n",
       "        1.0             630\n",
       "Male    0.0            1745\n",
       "        1.0             627\n",
       "Name: Churn Value, dtype: int64"
      ]
     },
     "execution_count": 8,
     "metadata": {},
     "output_type": "execute_result"
    }
   ],
   "source": [
    "Tele_comm_DF.groupby(['Gender','Churn Value'])['Churn Value'].count()"
   ]
  },
  {
   "cell_type": "code",
   "execution_count": 9,
   "id": "81337f9d",
   "metadata": {},
   "outputs": [
    {
     "data": {
      "text/plain": [
       "Senior Citizen  Churn Value\n",
       "No              0.0            2969\n",
       "                1.0             947\n",
       "Yes             0.0             432\n",
       "                1.0             312\n",
       "Name: CLTV, dtype: int64"
      ]
     },
     "execution_count": 9,
     "metadata": {},
     "output_type": "execute_result"
    }
   ],
   "source": [
    "Tele_comm_DF.groupby(['Senior Citizen','Churn Value'])['CLTV'].count()"
   ]
  },
  {
   "cell_type": "code",
   "execution_count": 10,
   "id": "efed0be5",
   "metadata": {},
   "outputs": [
    {
     "data": {
      "text/plain": [
       "<pandas.plotting._core.PlotAccessor object at 0x000001FF2ABC53D0>"
      ]
     },
     "execution_count": 10,
     "metadata": {},
     "output_type": "execute_result"
    }
   ],
   "source": [
    "Tele_comm_DF[\"Monthly Charges\"].plot"
   ]
  },
  {
   "cell_type": "code",
   "execution_count": 11,
   "id": "2e1eb1a9",
   "metadata": {},
   "outputs": [],
   "source": [
    "df = pd.DataFrame(np.random.randn(100,3), columns = ['A', 'B', 'C'])\n",
    "df.head()\n",
    "df['A'] = df['A'].cumsum() + 20\n",
    "df['B'] = df['B'].cumsum() + 20\n",
    "df['C'] = df['C'].cumsum() + 20"
   ]
  },
  {
   "cell_type": "markdown",
   "id": "b889c582",
   "metadata": {},
   "source": [
    "### Converting Total Charges & Lat Long to a numerical data type."
   ]
  },
  {
   "cell_type": "code",
   "execution_count": 12,
   "id": "ef728ff4",
   "metadata": {},
   "outputs": [],
   "source": [
    "        Tele_comm_DF[\"Lat Long\"]= pd.to_numeric(Tele_comm_DF[\"Lat Long\"], errors='coerce')"
   ]
  },
  {
   "cell_type": "code",
   "execution_count": 13,
   "id": "830867e1",
   "metadata": {},
   "outputs": [],
   "source": [
    "Tele_comm_DF[\"Total Charges\"] = pd.to_numeric(Tele_comm_DF[\"Total Charges\"], errors='coerce')"
   ]
  },
  {
   "cell_type": "markdown",
   "id": "3dc4c5f5",
   "metadata": {},
   "source": [
    "### Let's convert all the categorical variables into dummy variables"
   ]
  },
  {
   "cell_type": "code",
   "execution_count": 14,
   "id": "cd18251f",
   "metadata": {},
   "outputs": [
    {
     "data": {
      "text/html": [
       "<div>\n",
       "<style scoped>\n",
       "    .dataframe tbody tr th:only-of-type {\n",
       "        vertical-align: middle;\n",
       "    }\n",
       "\n",
       "    .dataframe tbody tr th {\n",
       "        vertical-align: top;\n",
       "    }\n",
       "\n",
       "    .dataframe thead th {\n",
       "        text-align: right;\n",
       "    }\n",
       "</style>\n",
       "<table border=\"1\" class=\"dataframe\">\n",
       "  <thead>\n",
       "    <tr style=\"text-align: right;\">\n",
       "      <th></th>\n",
       "      <th>Count</th>\n",
       "      <th>Zip Code</th>\n",
       "      <th>Lat Long</th>\n",
       "      <th>Latitude</th>\n",
       "      <th>Longitude</th>\n",
       "      <th>Tenure Months</th>\n",
       "      <th>Monthly Charges</th>\n",
       "      <th>Total Charges</th>\n",
       "      <th>CLTV</th>\n",
       "      <th>Churn Value</th>\n",
       "      <th>...</th>\n",
       "      <th>Churn Reason_Lack of self-service on Website</th>\n",
       "      <th>Churn Reason_Limited range of services</th>\n",
       "      <th>Churn Reason_Long distance charges</th>\n",
       "      <th>Churn Reason_Moved</th>\n",
       "      <th>Churn Reason_Network reliability</th>\n",
       "      <th>Churn Reason_Poor expertise of online support</th>\n",
       "      <th>Churn Reason_Poor expertise of phone support</th>\n",
       "      <th>Churn Reason_Price too high</th>\n",
       "      <th>Churn Reason_Product dissatisfaction</th>\n",
       "      <th>Churn Reason_Service dissatisfaction</th>\n",
       "    </tr>\n",
       "  </thead>\n",
       "  <tbody>\n",
       "    <tr>\n",
       "      <th>0</th>\n",
       "      <td>1.0</td>\n",
       "      <td>93446.0</td>\n",
       "      <td>NaN</td>\n",
       "      <td>35.634222</td>\n",
       "      <td>-120.728341</td>\n",
       "      <td>67.0</td>\n",
       "      <td>60.05</td>\n",
       "      <td>3994.05</td>\n",
       "      <td>6148.0</td>\n",
       "      <td>0.0</td>\n",
       "      <td>...</td>\n",
       "      <td>0</td>\n",
       "      <td>0</td>\n",
       "      <td>0</td>\n",
       "      <td>0</td>\n",
       "      <td>0</td>\n",
       "      <td>0</td>\n",
       "      <td>0</td>\n",
       "      <td>0</td>\n",
       "      <td>0</td>\n",
       "      <td>0</td>\n",
       "    </tr>\n",
       "    <tr>\n",
       "      <th>1</th>\n",
       "      <td>1.0</td>\n",
       "      <td>90005.0</td>\n",
       "      <td>NaN</td>\n",
       "      <td>34.059281</td>\n",
       "      <td>-118.307420</td>\n",
       "      <td>53.0</td>\n",
       "      <td>90.80</td>\n",
       "      <td>4921.20</td>\n",
       "      <td>5249.0</td>\n",
       "      <td>0.0</td>\n",
       "      <td>...</td>\n",
       "      <td>0</td>\n",
       "      <td>0</td>\n",
       "      <td>0</td>\n",
       "      <td>0</td>\n",
       "      <td>0</td>\n",
       "      <td>0</td>\n",
       "      <td>0</td>\n",
       "      <td>0</td>\n",
       "      <td>0</td>\n",
       "      <td>0</td>\n",
       "    </tr>\n",
       "    <tr>\n",
       "      <th>2</th>\n",
       "      <td>1.0</td>\n",
       "      <td>91963.0</td>\n",
       "      <td>NaN</td>\n",
       "      <td>32.619465</td>\n",
       "      <td>-116.593605</td>\n",
       "      <td>48.0</td>\n",
       "      <td>78.75</td>\n",
       "      <td>3682.45</td>\n",
       "      <td>2257.0</td>\n",
       "      <td>0.0</td>\n",
       "      <td>...</td>\n",
       "      <td>0</td>\n",
       "      <td>0</td>\n",
       "      <td>0</td>\n",
       "      <td>0</td>\n",
       "      <td>0</td>\n",
       "      <td>0</td>\n",
       "      <td>0</td>\n",
       "      <td>0</td>\n",
       "      <td>0</td>\n",
       "      <td>0</td>\n",
       "    </tr>\n",
       "    <tr>\n",
       "      <th>3</th>\n",
       "      <td>1.0</td>\n",
       "      <td>93551.0</td>\n",
       "      <td>NaN</td>\n",
       "      <td>34.613476</td>\n",
       "      <td>-118.256358</td>\n",
       "      <td>1.0</td>\n",
       "      <td>70.05</td>\n",
       "      <td>70.05</td>\n",
       "      <td>2469.0</td>\n",
       "      <td>0.0</td>\n",
       "      <td>...</td>\n",
       "      <td>0</td>\n",
       "      <td>0</td>\n",
       "      <td>0</td>\n",
       "      <td>0</td>\n",
       "      <td>0</td>\n",
       "      <td>0</td>\n",
       "      <td>0</td>\n",
       "      <td>0</td>\n",
       "      <td>0</td>\n",
       "      <td>0</td>\n",
       "    </tr>\n",
       "    <tr>\n",
       "      <th>4</th>\n",
       "      <td>1.0</td>\n",
       "      <td>95639.0</td>\n",
       "      <td>NaN</td>\n",
       "      <td>38.375325</td>\n",
       "      <td>-121.507935</td>\n",
       "      <td>57.0</td>\n",
       "      <td>74.30</td>\n",
       "      <td>4018.35</td>\n",
       "      <td>4133.0</td>\n",
       "      <td>0.0</td>\n",
       "      <td>...</td>\n",
       "      <td>0</td>\n",
       "      <td>0</td>\n",
       "      <td>0</td>\n",
       "      <td>0</td>\n",
       "      <td>0</td>\n",
       "      <td>0</td>\n",
       "      <td>0</td>\n",
       "      <td>0</td>\n",
       "      <td>0</td>\n",
       "      <td>0</td>\n",
       "    </tr>\n",
       "  </tbody>\n",
       "</table>\n",
       "<p>5 rows × 5879 columns</p>\n",
       "</div>"
      ],
      "text/plain": [
       "   Count  Zip Code  Lat Long   Latitude   Longitude  Tenure Months  \\\n",
       "0    1.0   93446.0       NaN  35.634222 -120.728341           67.0   \n",
       "1    1.0   90005.0       NaN  34.059281 -118.307420           53.0   \n",
       "2    1.0   91963.0       NaN  32.619465 -116.593605           48.0   \n",
       "3    1.0   93551.0       NaN  34.613476 -118.256358            1.0   \n",
       "4    1.0   95639.0       NaN  38.375325 -121.507935           57.0   \n",
       "\n",
       "   Monthly Charges  Total Charges    CLTV  Churn Value  ...  \\\n",
       "0            60.05        3994.05  6148.0          0.0  ...   \n",
       "1            90.80        4921.20  5249.0          0.0  ...   \n",
       "2            78.75        3682.45  2257.0          0.0  ...   \n",
       "3            70.05          70.05  2469.0          0.0  ...   \n",
       "4            74.30        4018.35  4133.0          0.0  ...   \n",
       "\n",
       "   Churn Reason_Lack of self-service on Website  \\\n",
       "0                                             0   \n",
       "1                                             0   \n",
       "2                                             0   \n",
       "3                                             0   \n",
       "4                                             0   \n",
       "\n",
       "   Churn Reason_Limited range of services  Churn Reason_Long distance charges  \\\n",
       "0                                       0                                   0   \n",
       "1                                       0                                   0   \n",
       "2                                       0                                   0   \n",
       "3                                       0                                   0   \n",
       "4                                       0                                   0   \n",
       "\n",
       "   Churn Reason_Moved  Churn Reason_Network reliability  \\\n",
       "0                   0                                 0   \n",
       "1                   0                                 0   \n",
       "2                   0                                 0   \n",
       "3                   0                                 0   \n",
       "4                   0                                 0   \n",
       "\n",
       "   Churn Reason_Poor expertise of online support  \\\n",
       "0                                              0   \n",
       "1                                              0   \n",
       "2                                              0   \n",
       "3                                              0   \n",
       "4                                              0   \n",
       "\n",
       "   Churn Reason_Poor expertise of phone support  Churn Reason_Price too high  \\\n",
       "0                                             0                            0   \n",
       "1                                             0                            0   \n",
       "2                                             0                            0   \n",
       "3                                             0                            0   \n",
       "4                                             0                            0   \n",
       "\n",
       "   Churn Reason_Product dissatisfaction  Churn Reason_Service dissatisfaction  \n",
       "0                                     0                                     0  \n",
       "1                                     0                                     0  \n",
       "2                                     0                                     0  \n",
       "3                                     0                                     0  \n",
       "4                                     0                                     0  \n",
       "\n",
       "[5 rows x 5879 columns]"
      ]
     },
     "execution_count": 14,
     "metadata": {},
     "output_type": "execute_result"
    }
   ],
   "source": [
    "Tele_comm_DF_dummies = pd.get_dummies(Tele_comm_DF)\n",
    "Tele_comm_DF_dummies.head()"
   ]
  },
  {
   "cell_type": "markdown",
   "id": "a7805485",
   "metadata": {},
   "source": [
    "Month to month contracts, absence of online security and tech support seem to be positively correlated with churn. While, tenure, two year contracts seem to be negatively correlated with churn.\n",
    "\n",
    "Interestingly, services such as Online security, streaming TV, online backup, tech support, etc. without internet connection seem to be negatively related to churn.\n",
    "\n",
    "We will explore the patterns for the above correlations below before we delve into modelling and identifying the important variables."
   ]
  },
  {
   "cell_type": "code",
   "execution_count": 15,
   "id": "97f0c05e",
   "metadata": {},
   "outputs": [
    {
     "name": "stderr",
     "output_type": "stream",
     "text": [
      "f:\\mlpacktpro\\env\\lib\\site-packages\\seaborn\\distributions.py:2557: FutureWarning:\n",
      "\n",
      "`distplot` is a deprecated function and will be removed in a future version. Please adapt your code to use either `displot` (a figure-level function with similar flexibility) or `histplot` (an axes-level function for histograms).\n",
      "\n"
     ]
    },
    {
     "data": {
      "text/plain": [
       "Text(0.5, 1.0, '# of Customers by their tenure')"
      ]
     },
     "execution_count": 15,
     "metadata": {},
     "output_type": "execute_result"
    },
    {
     "data": {
      "image/png": "[encoded data removed]",
      "text/plain": [
       "<Figure size 432x288 with 1 Axes>"
      ]
     },
     "metadata": {
      "needs_background": "light"
     },
     "output_type": "display_data"
    }
   ],
   "source": [
    "ax = sns.distplot(Tele_comm_DF['Tenure Months'], hist=True, kde=False, \n",
    "             bins=int(180/5), color = 'darkblue', \n",
    "             hist_kws={'edgecolor':'black'},\n",
    "             kde_kws={'linewidth': 4})\n",
    "ax.set_ylabel('# of Customers')\n",
    "ax.set_xlabel('Tenure (months)')\n",
    "ax.set_title('# of Customers by their tenure')"
   ]
  },
  {
   "cell_type": "code",
   "execution_count": 16,
   "id": "106cf9f9",
   "metadata": {},
   "outputs": [
    {
     "data": {
      "text/plain": [
       "Text(0.5, 1.0, '# of Customers by Contract Type')"
      ]
     },
     "execution_count": 16,
     "metadata": {},
     "output_type": "execute_result"
    },
    {
     "data": {
      "image/png": "[encoded data removed]",
      "text/plain": [
       "<Figure size 432x288 with 1 Axes>"
      ]
     },
     "metadata": {
      "needs_background": "light"
     },
     "output_type": "display_data"
    }
   ],
   "source": [
    "ax =Tele_comm_DF['Contract'].value_counts().plot(kind = 'bar',rot = 0, width = 0.3)\n",
    "ax.set_ylabel('# of Customers')\n",
    "ax.set_title('# of Customers by Contract Type')"
   ]
  },
  {
   "cell_type": "markdown",
   "id": "0e96553d",
   "metadata": {},
   "source": [
    "As we can see from this graph most of the customers are in the month to month contract. While there are equal number of customers in the 1 year and 2 year contracts.\n",
    "\n"
   ]
  },
  {
   "cell_type": "markdown",
   "id": "2bc871fd",
   "metadata": {},
   "source": [
    "### Let us now look at the distribution of various services used by customers"
   ]
  },
  {
   "cell_type": "code",
   "execution_count": 17,
   "id": "ccb84641",
   "metadata": {},
   "outputs": [
    {
     "data": {
      "image/png": "[encoded data removed]",
      "text/plain": [
       "<Figure size 1080x864 with 9 Axes>"
      ]
     },
     "metadata": {
      "needs_background": "light"
     },
     "output_type": "display_data"
    }
   ],
   "source": [
    "services = ['Phone Service','Multiple Lines','Internet Service','Online Security',\n",
    "           'Online Backup','Device Protection','Tech Support','Streaming TV','Streaming Movies']\n",
    "\n",
    "fig, axes = plt.subplots(nrows = 3,ncols = 3,figsize = (15,12))\n",
    "for i, item in enumerate(services):\n",
    "    if i < 3:\n",
    "        ax = Tele_comm_DF[item].value_counts().plot(kind = 'bar',ax=axes[i,0],rot = 0)\n",
    "        \n",
    "    elif i >=3 and i < 6:\n",
    "        ax = Tele_comm_DF[item].value_counts().plot(kind = 'bar',ax=axes[i-3,1],rot = 0)\n",
    "        \n",
    "    elif i < 9:\n",
    "        ax = Tele_comm_DF[item].value_counts().plot(kind = 'bar',ax=axes[i-6,2],rot = 0)\n",
    "    ax.set_title(item)"
   ]
  },
  {
   "cell_type": "markdown",
   "id": "15ce7081",
   "metadata": {},
   "source": [
    "### Let's take a look at out  Churn Value and understand its interaction with other important variables .\n"
   ]
  },
  {
   "cell_type": "code",
   "execution_count": 22,
   "id": "4f3b7683",
   "metadata": {},
   "outputs": [
    {
     "data": {
      "image/png": "[encoded data removed]",
      "text/plain": [
       "<Figure size 576x432 with 1 Axes>"
      ]
     },
     "metadata": {
      "needs_background": "light"
     },
     "output_type": "display_data"
    }
   ],
   "source": [
    "colors = ['#4D3425','#E4512B']\n",
    "ax = (Tele_comm_DF['Churn Value'].value_counts()*100.0 /len(Tele_comm_DF)).plot(kind='bar',stacked = True,rot = 0,color = colors,figsize = (8,6))\n",
    "ax.yaxis.set_major_formatter(mtick.PercentFormatter())\n",
    "ax.set_ylabel('% Customers',size = 14)\n",
    "ax.set_xlabel('Churn Value',size = 14)\n",
    "ax.set_title('Churn Rate', size = 14)\n",
    "\n",
    "# create a list to collect the plt.patches data\n",
    "totals = []\n",
    "\n",
    "# find the values and append to list\n",
    "for i in ax.patches:\n",
    "    totals.append(i.get_width())\n",
    "\n",
    "# set individual bar lables using above list\n",
    "total = sum(totals)\n",
    "\n",
    "for i in ax.patches:\n",
    "    # get_width pulls left or right; get_y pushes up or down\n",
    "    ax.text(i.get_x()+.15, i.get_height()-4.0, \\\n",
    "            str(round((i.get_height()/total), 1))+'%',\n",
    "            fontsize=12,\n",
    "            color='white',\n",
    "           weight = 'bold',\n",
    "           size = 14)"
   ]
  },
  {
   "cell_type": "code",
   "execution_count": 24,
   "id": "3305fb26",
   "metadata": {},
   "outputs": [],
   "source": [
    "# find the values and append to list\n",
    "for i in ax.patches:\n",
    "    totals.append(i.get_width())\n",
    "\n",
    "# set individual bar lables using above list\n",
    "total = sum(totals)\n",
    "\n",
    "for i in ax.patches:\n",
    "    # get_width pulls left or right; get_y pushes up or down\n",
    "    ax.text(i.get_x()+.15, i.get_height()-4.0, \\\n",
    "            str(round((i.get_height()/total), 1))+'%',\n",
    "            fontsize=12,\n",
    "            color='white',\n",
    "           weight = 'bold',\n",
    "           size = 14)"
   ]
  },
  {
   "cell_type": "markdown",
   "id": "3b9761c9",
   "metadata": {},
   "source": [
    "#### Churn Value based on contract type"
   ]
  },
  {
   "cell_type": "code",
   "execution_count": 29,
   "id": "ce0e8230",
   "metadata": {},
   "outputs": [
    {
     "data": {
      "image/png": "[encoded data removed]",
      "text/plain": [
       "<Figure size 720x432 with 1 Axes>"
      ]
     },
     "metadata": {
      "needs_background": "light"
     },
     "output_type": "display_data"
    }
   ],
   "source": [
    "colors = ['#4D3425','#E4512B']\n",
    "contract_churn =Tele_comm_DF.groupby(['Contract','Churn Value']).size().unstack()\n",
    "\n",
    "ax = (contract_churn.T*100.0 / contract_churn.T.sum()).T.plot(kind='bar',width = 0.3,stacked = True,rot = 0, figsize = (10,6),color = colors)\n",
    "ax.yaxis.set_major_formatter(mtick.PercentFormatter())\n",
    "ax.legend(loc='best',prop={'size':14},title = 'Churn')\n",
    "ax.set_ylabel('% Customers',size = 14)\n",
    "ax.set_title('Churn by Contract Type',size = 14)\n",
    "\n",
    "# Code to add the data labels on the stacked bar chart\n",
    "for p in ax.patches:\n",
    "    width, height = p.get_width(), p.get_height()\n",
    "    x, y = p.get_xy() \n",
    "    ax.annotate('{:.0f}%'.format(height), (p.get_x()+.25*width, p.get_y()+.4*height),\n",
    "                color = 'white',\n",
    "               weight = 'bold',\n",
    "               size = 14)"
   ]
  },
  {
   "cell_type": "markdown",
   "id": "6fcd32eb",
   "metadata": {},
   "source": [
    "#### Churn Value based on Seniority Level"
   ]
  },
  {
   "cell_type": "code",
   "execution_count": 27,
   "id": "114db443",
   "metadata": {},
   "outputs": [
    {
     "data": {
      "image/png": "[encoded data removed]",
      "text/plain": [
       "<Figure size 576x432 with 1 Axes>"
      ]
     },
     "metadata": {
      "needs_background": "light"
     },
     "output_type": "display_data"
    }
   ],
   "source": [
    "colors = ['#4D3425','#E4512B']\n",
    "seniority_churn = Tele_comm_DF.groupby(['Senior Citizen','Churn Value']).size().unstack()\n",
    "ax = (seniority_churn.T*100.0 / seniority_churn.T.sum()).T.plot(kind='bar',width = 0.2,stacked = True,rot = 0, figsize = (8,6),color = colors)\n",
    "ax.yaxis.set_major_formatter(mtick.PercentFormatter())\n",
    "ax.legend(loc='center',prop={'size':14},title = 'Churn Value')\n",
    "ax.set_ylabel('% Customers')\n",
    "ax.set_title('Churn by Seniority Level',size = 14)\n",
    "\n",
    "# Code to add the data labels on the stacked bar chart\n",
    "for p in ax.patches:\n",
    "    width, height = p.get_width(), p.get_height()\n",
    "    x, y = p.get_xy() \n",
    "    ax.annotate('{:.0f}%'.format(height), (p.get_x()+.25*width, p.get_y()+.4*height),\n",
    "                color = 'white',\n",
    "               weight = 'bold',size =14)"
   ]
  },
  {
   "cell_type": "code",
   "execution_count": 36,
   "id": "d9a5732a",
   "metadata": {},
   "outputs": [
    {
     "data": {
      "image/png": "[encoded data removed]",
      "text/plain": [
       "<Figure size 576x432 with 1 Axes>"
      ]
     },
     "metadata": {
      "needs_background": "light"
     },
     "output_type": "display_data"
    }
   ],
   "source": [
    "colors = ['#4D3425','#E4512B']\n",
    "StreamMovie_churn = Tele_comm_DF.groupby(['Streaming Movies','Churn Value']).size().unstack()\n",
    "ax = (StreamMovie_churn.T*100.0 / StreamMovie_churn.T.sum()).T.plot(kind='bar',width = 0.2,stacked = True,rot = 0, figsize = (8,6),color = colors)\n",
    "ax.yaxis.set_major_formatter(mtick.PercentFormatter())\n",
    "ax.legend(loc='center',prop={'size':14},title = 'Churn Value')\n",
    "ax.set_ylabel('% Customers')\n",
    "ax.set_title('Churn by Streaming Movies',size = 14)\n",
    "\n",
    "# Code to add the data labels on the stacked bar chart\n",
    "for p in ax.patches:\n",
    "    width, height = p.get_width(), p.get_height()\n",
    "    x, y = p.get_xy() \n",
    "    ax.annotate('{:.0f}%'.format(height), (p.get_x()+.25*width, p.get_y()+.4*height),\n",
    "                color = 'white',\n",
    "               weight = 'bold',size =14)"
   ]
  },
  {
   "cell_type": "code",
   "execution_count": 41,
   "id": "8d79596e",
   "metadata": {},
   "outputs": [
    {
     "data": {
      "image/png": "[encoded data removed]",
      "text/plain": [
       "<Figure size 576x432 with 1 Axes>"
      ]
     },
     "metadata": {
      "needs_background": "light"
     },
     "output_type": "display_data"
    }
   ],
   "source": [
    "colors = ['#FF0000','#4D3425']\n",
    "OnlineSecurity_churn = Tele_comm_DF.groupby(['Online Security','Churn Value']).size().unstack()\n",
    "ax = (OnlineSecurity_churn.T*100.0 /OnlineSecurity_churn.T.sum()).T.plot(kind='bar',width = 0.2,stacked = True,rot = 0, figsize = (8,6),color = colors)\n",
    "ax.yaxis.set_major_formatter(mtick.PercentFormatter())\n",
    "ax.legend(loc='center',prop={'size':14},title = 'Churn Value')\n",
    "ax.set_ylabel('% Customers')\n",
    "ax.set_title('Churn by Online Security',size = 14)\n",
    "\n",
    "# Code to add the data labels on the stacked bar chart\n",
    "for p in ax.patches:\n",
    "    width, height = p.get_width(), p.get_height()\n",
    "    x, y = p.get_xy() \n",
    "    ax.annotate('{:.0f}%'.format(height), (p.get_x()+.25*width, p.get_y()+.4*height),\n",
    "                color = 'white',\n",
    "               weight = 'bold',size =14)"
   ]
  },
  {
   "cell_type": "code",
   "execution_count": null,
   "id": "8bf1c19f",
   "metadata": {},
   "outputs": [],
   "source": []
  }
 ],
 "metadata": {
  "kernelspec": {
   "display_name": "Vikas Python 3(ipykernel)",
   "language": "python",
   "name": "python3"
  },
  "language_info": {
   "codemirror_mode": {
    "name": "ipython",
    "version": 3
   },
   "file_extension": ".py",
   "mimetype": "text/x-python",
   "name": "python",
   "nbconvert_exporter": "python",
   "pygments_lexer": "ipython3",
   "version": "3.9.0"
  }
 },
 "nbformat": 4,
 "nbformat_minor": 5
}
