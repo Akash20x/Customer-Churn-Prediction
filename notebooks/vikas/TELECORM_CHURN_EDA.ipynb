{
 "cells": [
  {
   "cell_type": "markdown",
   "id": "5edf61ac",
   "metadata": {},
   "source": [
    "### Table Of content"
   ]
  },
  {
   "cell_type": "markdown",
   "id": "fdf80f48",
   "metadata": {},
   "source": [
    "[Data Analysis](#Data_Analysis)\n"
   ]
  },
  {
   "cell_type": "markdown",
   "id": "0519448d",
   "metadata": {},
   "source": [
    "[Reason For churn](#Frequence_of_reason_for_churn)"
   ]
  },
  {
   "cell_type": "markdown",
   "id": "6e3ebc30",
   "metadata": {},
   "source": [
    "[City wise churn](#City_wise_customer)"
   ]
  },
  {
   "cell_type": "markdown",
   "id": "9bf21b3b",
   "metadata": {},
   "source": [
    "[Filling missing values](#Filling_missing_values)"
   ]
  },
  {
   "cell_type": "markdown",
   "id": "ed8810c4",
   "metadata": {},
   "source": [
    "[Churn VS Services](#Churn_VS_Services)"
   ]
  },
  {
   "cell_type": "markdown",
   "id": "01eb5ca1",
   "metadata": {},
   "source": [
    "### Importing important Libaries"
   ]
  },
  {
   "cell_type": "code",
   "execution_count": 60,
   "id": "84e4ed53",
   "metadata": {},
   "outputs": [],
   "source": [
    "import numpy as np\n",
    "import pandas as pd\n",
    "import matplotlib.pyplot as plt\n",
    "import matplotlib.ticker as mtick\n",
    "import seaborn as sns "
   ]
  },
  {
   "cell_type": "markdown",
   "id": "ed0316ef",
   "metadata": {},
   "source": [
    "## Importing_data"
   ]
  },
  {
   "cell_type": "code",
   "execution_count": 61,
   "id": "be8fdea2",
   "metadata": {},
   "outputs": [],
   "source": [
    "Tele_comm_Df=pd.read_csv(r\"F:\\MLPacktPro\\Customer-Churn-Prediction-main\\Customer-Churn-Prediction-main\\data\\1\\TelcoCustomerChurn.csv\")"
   ]
  },
  {
   "cell_type": "markdown",
   "id": "f86e4c66",
   "metadata": {},
   "source": [
    "### Data_Analysis"
   ]
  },
  {
   "cell_type": "code",
   "execution_count": 62,
   "id": "6dfca3cb",
   "metadata": {},
   "outputs": [
    {
     "data": {
      "text/html": [
       "<div>\n",
       "<style scoped>\n",
       "    .dataframe tbody tr th:only-of-type {\n",
       "        vertical-align: middle;\n",
       "    }\n",
       "\n",
       "    .dataframe tbody tr th {\n",
       "        vertical-align: top;\n",
       "    }\n",
       "\n",
       "    .dataframe thead th {\n",
       "        text-align: right;\n",
       "    }\n",
       "</style>\n",
       "<table border=\"1\" class=\"dataframe\">\n",
       "  <thead>\n",
       "    <tr style=\"text-align: right;\">\n",
       "      <th></th>\n",
       "      <th>CustomerID</th>\n",
       "      <th>Count</th>\n",
       "      <th>Country</th>\n",
       "      <th>State</th>\n",
       "      <th>City</th>\n",
       "      <th>Zip Code</th>\n",
       "      <th>Lat Long</th>\n",
       "      <th>Latitude</th>\n",
       "      <th>Longitude</th>\n",
       "      <th>Gender</th>\n",
       "      <th>...</th>\n",
       "      <th>Streaming TV</th>\n",
       "      <th>Streaming Movies</th>\n",
       "      <th>Contract</th>\n",
       "      <th>Paperless Billing</th>\n",
       "      <th>Payment Method</th>\n",
       "      <th>Monthly Charges</th>\n",
       "      <th>Total Charges</th>\n",
       "      <th>CLTV</th>\n",
       "      <th>Churn Reason</th>\n",
       "      <th>Churn Value</th>\n",
       "    </tr>\n",
       "  </thead>\n",
       "  <tbody>\n",
       "    <tr>\n",
       "      <th>0</th>\n",
       "      <td>5196-WPYOW</td>\n",
       "      <td>1.0</td>\n",
       "      <td>United States</td>\n",
       "      <td>California</td>\n",
       "      <td>Paso Robles</td>\n",
       "      <td>93446.0</td>\n",
       "      <td>35.634222, -120.728341</td>\n",
       "      <td>35.634222</td>\n",
       "      <td>-120.728341</td>\n",
       "      <td>Male</td>\n",
       "      <td>...</td>\n",
       "      <td>No</td>\n",
       "      <td>No</td>\n",
       "      <td>One year</td>\n",
       "      <td>No</td>\n",
       "      <td>Mailed check</td>\n",
       "      <td>60.05</td>\n",
       "      <td>3994.05</td>\n",
       "      <td>6148.0</td>\n",
       "      <td>NaN</td>\n",
       "      <td>0.0</td>\n",
       "    </tr>\n",
       "    <tr>\n",
       "      <th>1</th>\n",
       "      <td>8189-HBVRW</td>\n",
       "      <td>1.0</td>\n",
       "      <td>United States</td>\n",
       "      <td>California</td>\n",
       "      <td>Los Angeles</td>\n",
       "      <td>90005.0</td>\n",
       "      <td>34.059281, -118.30742</td>\n",
       "      <td>34.059281</td>\n",
       "      <td>-118.307420</td>\n",
       "      <td>Female</td>\n",
       "      <td>...</td>\n",
       "      <td>No</td>\n",
       "      <td>No</td>\n",
       "      <td>Month-to-month</td>\n",
       "      <td>No</td>\n",
       "      <td>Electronic check</td>\n",
       "      <td>90.80</td>\n",
       "      <td>4921.2</td>\n",
       "      <td>5249.0</td>\n",
       "      <td>NaN</td>\n",
       "      <td>0.0</td>\n",
       "    </tr>\n",
       "    <tr>\n",
       "      <th>2</th>\n",
       "      <td>4091-TVOCN</td>\n",
       "      <td>1.0</td>\n",
       "      <td>United States</td>\n",
       "      <td>California</td>\n",
       "      <td>Potrero</td>\n",
       "      <td>91963.0</td>\n",
       "      <td>32.619465, -116.593605</td>\n",
       "      <td>32.619465</td>\n",
       "      <td>-116.593605</td>\n",
       "      <td>Male</td>\n",
       "      <td>...</td>\n",
       "      <td>Yes</td>\n",
       "      <td>Yes</td>\n",
       "      <td>One year</td>\n",
       "      <td>Yes</td>\n",
       "      <td>Credit card (automatic)</td>\n",
       "      <td>78.75</td>\n",
       "      <td>3682.45</td>\n",
       "      <td>2257.0</td>\n",
       "      <td>NaN</td>\n",
       "      <td>0.0</td>\n",
       "    </tr>\n",
       "    <tr>\n",
       "      <th>3</th>\n",
       "      <td>9603-OAIHC</td>\n",
       "      <td>1.0</td>\n",
       "      <td>United States</td>\n",
       "      <td>California</td>\n",
       "      <td>Palmdale</td>\n",
       "      <td>93551.0</td>\n",
       "      <td>34.613476, -118.256358</td>\n",
       "      <td>34.613476</td>\n",
       "      <td>-118.256358</td>\n",
       "      <td>Male</td>\n",
       "      <td>...</td>\n",
       "      <td>No</td>\n",
       "      <td>No</td>\n",
       "      <td>Month-to-month</td>\n",
       "      <td>Yes</td>\n",
       "      <td>Electronic check</td>\n",
       "      <td>70.05</td>\n",
       "      <td>70.05</td>\n",
       "      <td>2469.0</td>\n",
       "      <td>NaN</td>\n",
       "      <td>0.0</td>\n",
       "    </tr>\n",
       "    <tr>\n",
       "      <th>4</th>\n",
       "      <td>8647-SDTWQ</td>\n",
       "      <td>1.0</td>\n",
       "      <td>United States</td>\n",
       "      <td>California</td>\n",
       "      <td>Hood</td>\n",
       "      <td>95639.0</td>\n",
       "      <td>38.375325, -121.507935</td>\n",
       "      <td>38.375325</td>\n",
       "      <td>-121.507935</td>\n",
       "      <td>Male</td>\n",
       "      <td>...</td>\n",
       "      <td>No</td>\n",
       "      <td>No</td>\n",
       "      <td>Month-to-month</td>\n",
       "      <td>Yes</td>\n",
       "      <td>Electronic check</td>\n",
       "      <td>74.30</td>\n",
       "      <td>4018.35</td>\n",
       "      <td>4133.0</td>\n",
       "      <td>NaN</td>\n",
       "      <td>0.0</td>\n",
       "    </tr>\n",
       "  </tbody>\n",
       "</table>\n",
       "<p>5 rows × 31 columns</p>\n",
       "</div>"
      ],
      "text/plain": [
       "   CustomerID  Count        Country       State         City  Zip Code  \\\n",
       "0  5196-WPYOW    1.0  United States  California  Paso Robles   93446.0   \n",
       "1  8189-HBVRW    1.0  United States  California  Los Angeles   90005.0   \n",
       "2  4091-TVOCN    1.0  United States  California      Potrero   91963.0   \n",
       "3  9603-OAIHC    1.0  United States  California     Palmdale   93551.0   \n",
       "4  8647-SDTWQ    1.0  United States  California         Hood   95639.0   \n",
       "\n",
       "                 Lat Long   Latitude   Longitude  Gender  ... Streaming TV  \\\n",
       "0  35.634222, -120.728341  35.634222 -120.728341    Male  ...           No   \n",
       "1   34.059281, -118.30742  34.059281 -118.307420  Female  ...           No   \n",
       "2  32.619465, -116.593605  32.619465 -116.593605    Male  ...          Yes   \n",
       "3  34.613476, -118.256358  34.613476 -118.256358    Male  ...           No   \n",
       "4  38.375325, -121.507935  38.375325 -121.507935    Male  ...           No   \n",
       "\n",
       "  Streaming Movies        Contract  Paperless Billing  \\\n",
       "0               No        One year                 No   \n",
       "1               No  Month-to-month                 No   \n",
       "2              Yes        One year                Yes   \n",
       "3               No  Month-to-month                Yes   \n",
       "4               No  Month-to-month                Yes   \n",
       "\n",
       "            Payment Method Monthly Charges Total Charges    CLTV Churn Reason  \\\n",
       "0             Mailed check           60.05       3994.05  6148.0          NaN   \n",
       "1         Electronic check           90.80        4921.2  5249.0          NaN   \n",
       "2  Credit card (automatic)           78.75       3682.45  2257.0          NaN   \n",
       "3         Electronic check           70.05         70.05  2469.0          NaN   \n",
       "4         Electronic check           74.30       4018.35  4133.0          NaN   \n",
       "\n",
       "  Churn Value  \n",
       "0         0.0  \n",
       "1         0.0  \n",
       "2         0.0  \n",
       "3         0.0  \n",
       "4         0.0  \n",
       "\n",
       "[5 rows x 31 columns]"
      ]
     },
     "execution_count": 62,
     "metadata": {},
     "output_type": "execute_result"
    }
   ],
   "source": [
    "Tele_comm_Df.head()"
   ]
  },
  {
   "cell_type": "code",
   "execution_count": 63,
   "id": "5f3697ec",
   "metadata": {},
   "outputs": [
    {
     "data": {
      "text/html": [
       "<div>\n",
       "<style scoped>\n",
       "    .dataframe tbody tr th:only-of-type {\n",
       "        vertical-align: middle;\n",
       "    }\n",
       "\n",
       "    .dataframe tbody tr th {\n",
       "        vertical-align: top;\n",
       "    }\n",
       "\n",
       "    .dataframe thead th {\n",
       "        text-align: right;\n",
       "    }\n",
       "</style>\n",
       "<table border=\"1\" class=\"dataframe\">\n",
       "  <thead>\n",
       "    <tr style=\"text-align: right;\">\n",
       "      <th></th>\n",
       "      <th>CustomerID</th>\n",
       "      <th>Country</th>\n",
       "      <th>State</th>\n",
       "      <th>City</th>\n",
       "      <th>Zip Code</th>\n",
       "      <th>Lat Long</th>\n",
       "      <th>Latitude</th>\n",
       "      <th>Longitude</th>\n",
       "      <th>Gender</th>\n",
       "      <th>Senior Citizen</th>\n",
       "      <th>...</th>\n",
       "      <th>Streaming TV</th>\n",
       "      <th>Streaming Movies</th>\n",
       "      <th>Contract</th>\n",
       "      <th>Paperless Billing</th>\n",
       "      <th>Payment Method</th>\n",
       "      <th>Monthly Charges</th>\n",
       "      <th>Total Charges</th>\n",
       "      <th>CLTV</th>\n",
       "      <th>Churn Reason</th>\n",
       "      <th>Churn Value</th>\n",
       "    </tr>\n",
       "  </thead>\n",
       "  <tbody>\n",
       "    <tr>\n",
       "      <th>0</th>\n",
       "      <td>5196-WPYOW</td>\n",
       "      <td>United States</td>\n",
       "      <td>California</td>\n",
       "      <td>Paso Robles</td>\n",
       "      <td>93446.0</td>\n",
       "      <td>35.634222, -120.728341</td>\n",
       "      <td>35.634222</td>\n",
       "      <td>-120.728341</td>\n",
       "      <td>Male</td>\n",
       "      <td>No</td>\n",
       "      <td>...</td>\n",
       "      <td>No</td>\n",
       "      <td>No</td>\n",
       "      <td>One year</td>\n",
       "      <td>No</td>\n",
       "      <td>Mailed check</td>\n",
       "      <td>60.05</td>\n",
       "      <td>3994.05</td>\n",
       "      <td>6148.0</td>\n",
       "      <td>NaN</td>\n",
       "      <td>0.0</td>\n",
       "    </tr>\n",
       "    <tr>\n",
       "      <th>1</th>\n",
       "      <td>8189-HBVRW</td>\n",
       "      <td>United States</td>\n",
       "      <td>California</td>\n",
       "      <td>Los Angeles</td>\n",
       "      <td>90005.0</td>\n",
       "      <td>34.059281, -118.30742</td>\n",
       "      <td>34.059281</td>\n",
       "      <td>-118.307420</td>\n",
       "      <td>Female</td>\n",
       "      <td>No</td>\n",
       "      <td>...</td>\n",
       "      <td>No</td>\n",
       "      <td>No</td>\n",
       "      <td>Month-to-month</td>\n",
       "      <td>No</td>\n",
       "      <td>Electronic check</td>\n",
       "      <td>90.80</td>\n",
       "      <td>4921.2</td>\n",
       "      <td>5249.0</td>\n",
       "      <td>NaN</td>\n",
       "      <td>0.0</td>\n",
       "    </tr>\n",
       "    <tr>\n",
       "      <th>2</th>\n",
       "      <td>4091-TVOCN</td>\n",
       "      <td>United States</td>\n",
       "      <td>California</td>\n",
       "      <td>Potrero</td>\n",
       "      <td>91963.0</td>\n",
       "      <td>32.619465, -116.593605</td>\n",
       "      <td>32.619465</td>\n",
       "      <td>-116.593605</td>\n",
       "      <td>Male</td>\n",
       "      <td>No</td>\n",
       "      <td>...</td>\n",
       "      <td>Yes</td>\n",
       "      <td>Yes</td>\n",
       "      <td>One year</td>\n",
       "      <td>Yes</td>\n",
       "      <td>Credit card (automatic)</td>\n",
       "      <td>78.75</td>\n",
       "      <td>3682.45</td>\n",
       "      <td>2257.0</td>\n",
       "      <td>NaN</td>\n",
       "      <td>0.0</td>\n",
       "    </tr>\n",
       "    <tr>\n",
       "      <th>3</th>\n",
       "      <td>9603-OAIHC</td>\n",
       "      <td>United States</td>\n",
       "      <td>California</td>\n",
       "      <td>Palmdale</td>\n",
       "      <td>93551.0</td>\n",
       "      <td>34.613476, -118.256358</td>\n",
       "      <td>34.613476</td>\n",
       "      <td>-118.256358</td>\n",
       "      <td>Male</td>\n",
       "      <td>Yes</td>\n",
       "      <td>...</td>\n",
       "      <td>No</td>\n",
       "      <td>No</td>\n",
       "      <td>Month-to-month</td>\n",
       "      <td>Yes</td>\n",
       "      <td>Electronic check</td>\n",
       "      <td>70.05</td>\n",
       "      <td>70.05</td>\n",
       "      <td>2469.0</td>\n",
       "      <td>NaN</td>\n",
       "      <td>0.0</td>\n",
       "    </tr>\n",
       "    <tr>\n",
       "      <th>4</th>\n",
       "      <td>8647-SDTWQ</td>\n",
       "      <td>United States</td>\n",
       "      <td>California</td>\n",
       "      <td>Hood</td>\n",
       "      <td>95639.0</td>\n",
       "      <td>38.375325, -121.507935</td>\n",
       "      <td>38.375325</td>\n",
       "      <td>-121.507935</td>\n",
       "      <td>Male</td>\n",
       "      <td>No</td>\n",
       "      <td>...</td>\n",
       "      <td>No</td>\n",
       "      <td>No</td>\n",
       "      <td>Month-to-month</td>\n",
       "      <td>Yes</td>\n",
       "      <td>Electronic check</td>\n",
       "      <td>74.30</td>\n",
       "      <td>4018.35</td>\n",
       "      <td>4133.0</td>\n",
       "      <td>NaN</td>\n",
       "      <td>0.0</td>\n",
       "    </tr>\n",
       "    <tr>\n",
       "      <th>...</th>\n",
       "      <td>...</td>\n",
       "      <td>...</td>\n",
       "      <td>...</td>\n",
       "      <td>...</td>\n",
       "      <td>...</td>\n",
       "      <td>...</td>\n",
       "      <td>...</td>\n",
       "      <td>...</td>\n",
       "      <td>...</td>\n",
       "      <td>...</td>\n",
       "      <td>...</td>\n",
       "      <td>...</td>\n",
       "      <td>...</td>\n",
       "      <td>...</td>\n",
       "      <td>...</td>\n",
       "      <td>...</td>\n",
       "      <td>...</td>\n",
       "      <td>...</td>\n",
       "      <td>...</td>\n",
       "      <td>...</td>\n",
       "      <td>...</td>\n",
       "    </tr>\n",
       "    <tr>\n",
       "      <th>4713</th>\n",
       "      <td>0829-DDVLK</td>\n",
       "      <td>United States</td>\n",
       "      <td>California</td>\n",
       "      <td>Orange</td>\n",
       "      <td>92866.0</td>\n",
       "      <td>33.784597, -117.844535</td>\n",
       "      <td>33.784597</td>\n",
       "      <td>-117.844535</td>\n",
       "      <td>Female</td>\n",
       "      <td>No</td>\n",
       "      <td>...</td>\n",
       "      <td>No internet service</td>\n",
       "      <td>No internet service</td>\n",
       "      <td>One year</td>\n",
       "      <td>No</td>\n",
       "      <td>Credit card (automatic)</td>\n",
       "      <td>20.10</td>\n",
       "      <td>302.45</td>\n",
       "      <td>4359.0</td>\n",
       "      <td>NaN</td>\n",
       "      <td>0.0</td>\n",
       "    </tr>\n",
       "    <tr>\n",
       "      <th>4714</th>\n",
       "      <td>3230-JCNZS</td>\n",
       "      <td>United States</td>\n",
       "      <td>California</td>\n",
       "      <td>San Francisco</td>\n",
       "      <td>94107.0</td>\n",
       "      <td>37.768881, -122.395521</td>\n",
       "      <td>37.768881</td>\n",
       "      <td>-122.395521</td>\n",
       "      <td>Female</td>\n",
       "      <td>No</td>\n",
       "      <td>...</td>\n",
       "      <td>Yes</td>\n",
       "      <td>No</td>\n",
       "      <td>Two year</td>\n",
       "      <td>Yes</td>\n",
       "      <td>Credit card (automatic)</td>\n",
       "      <td>99.00</td>\n",
       "      <td>7061.65</td>\n",
       "      <td>4305.0</td>\n",
       "      <td>NaN</td>\n",
       "      <td>0.0</td>\n",
       "    </tr>\n",
       "    <tr>\n",
       "      <th>4715</th>\n",
       "      <td>7384-GHBPI</td>\n",
       "      <td>United States</td>\n",
       "      <td>California</td>\n",
       "      <td>San Dimas</td>\n",
       "      <td>91773.0</td>\n",
       "      <td>34.102119, -117.815532</td>\n",
       "      <td>34.102119</td>\n",
       "      <td>-117.815532</td>\n",
       "      <td>Male</td>\n",
       "      <td>No</td>\n",
       "      <td>...</td>\n",
       "      <td>No</td>\n",
       "      <td>Yes</td>\n",
       "      <td>Month-to-month</td>\n",
       "      <td>Yes</td>\n",
       "      <td>Electronic check</td>\n",
       "      <td>35.15</td>\n",
       "      <td>99.75</td>\n",
       "      <td>2987.0</td>\n",
       "      <td>Attitude of support person</td>\n",
       "      <td>1.0</td>\n",
       "    </tr>\n",
       "    <tr>\n",
       "      <th>4716</th>\n",
       "      <td>9254-RBFON</td>\n",
       "      <td>United States</td>\n",
       "      <td>California</td>\n",
       "      <td>Klamath River</td>\n",
       "      <td>96050.0</td>\n",
       "      <td>41.816595, -122.948287</td>\n",
       "      <td>41.816595</td>\n",
       "      <td>-122.948287</td>\n",
       "      <td>Female</td>\n",
       "      <td>No</td>\n",
       "      <td>...</td>\n",
       "      <td>Yes</td>\n",
       "      <td>Yes</td>\n",
       "      <td>One year</td>\n",
       "      <td>No</td>\n",
       "      <td>Bank transfer (automatic)</td>\n",
       "      <td>98.60</td>\n",
       "      <td>1704.95</td>\n",
       "      <td>5160.0</td>\n",
       "      <td>Moved</td>\n",
       "      <td>1.0</td>\n",
       "    </tr>\n",
       "    <tr>\n",
       "      <th>4717</th>\n",
       "      <td>0022-TCJCI</td>\n",
       "      <td>United States</td>\n",
       "      <td>California</td>\n",
       "      <td>Daly City</td>\n",
       "      <td>94015.0</td>\n",
       "      <td>37.680844, -122.48131</td>\n",
       "      <td>37.680844</td>\n",
       "      <td>-122.481310</td>\n",
       "      <td>Male</td>\n",
       "      <td>Yes</td>\n",
       "      <td>...</td>\n",
       "      <td>No</td>\n",
       "      <td>Yes</td>\n",
       "      <td>One year</td>\n",
       "      <td>No</td>\n",
       "      <td>Credit card (automatic)</td>\n",
       "      <td>62.70</td>\n",
       "      <td>2791.5</td>\n",
       "      <td>2654.0</td>\n",
       "      <td>Limited range of services</td>\n",
       "      <td>1.0</td>\n",
       "    </tr>\n",
       "  </tbody>\n",
       "</table>\n",
       "<p>4718 rows × 30 columns</p>\n",
       "</div>"
      ],
      "text/plain": [
       "      CustomerID        Country       State           City  Zip Code  \\\n",
       "0     5196-WPYOW  United States  California    Paso Robles   93446.0   \n",
       "1     8189-HBVRW  United States  California    Los Angeles   90005.0   \n",
       "2     4091-TVOCN  United States  California        Potrero   91963.0   \n",
       "3     9603-OAIHC  United States  California       Palmdale   93551.0   \n",
       "4     8647-SDTWQ  United States  California           Hood   95639.0   \n",
       "...          ...            ...         ...            ...       ...   \n",
       "4713  0829-DDVLK  United States  California         Orange   92866.0   \n",
       "4714  3230-JCNZS  United States  California  San Francisco   94107.0   \n",
       "4715  7384-GHBPI  United States  California      San Dimas   91773.0   \n",
       "4716  9254-RBFON  United States  California  Klamath River   96050.0   \n",
       "4717  0022-TCJCI  United States  California      Daly City   94015.0   \n",
       "\n",
       "                    Lat Long   Latitude   Longitude  Gender Senior Citizen  \\\n",
       "0     35.634222, -120.728341  35.634222 -120.728341    Male             No   \n",
       "1      34.059281, -118.30742  34.059281 -118.307420  Female             No   \n",
       "2     32.619465, -116.593605  32.619465 -116.593605    Male             No   \n",
       "3     34.613476, -118.256358  34.613476 -118.256358    Male            Yes   \n",
       "4     38.375325, -121.507935  38.375325 -121.507935    Male             No   \n",
       "...                      ...        ...         ...     ...            ...   \n",
       "4713  33.784597, -117.844535  33.784597 -117.844535  Female             No   \n",
       "4714  37.768881, -122.395521  37.768881 -122.395521  Female             No   \n",
       "4715  34.102119, -117.815532  34.102119 -117.815532    Male             No   \n",
       "4716  41.816595, -122.948287  41.816595 -122.948287  Female             No   \n",
       "4717   37.680844, -122.48131  37.680844 -122.481310    Male            Yes   \n",
       "\n",
       "      ...         Streaming TV     Streaming Movies        Contract  \\\n",
       "0     ...                   No                   No        One year   \n",
       "1     ...                   No                   No  Month-to-month   \n",
       "2     ...                  Yes                  Yes        One year   \n",
       "3     ...                   No                   No  Month-to-month   \n",
       "4     ...                   No                   No  Month-to-month   \n",
       "...   ...                  ...                  ...             ...   \n",
       "4713  ...  No internet service  No internet service        One year   \n",
       "4714  ...                  Yes                   No        Two year   \n",
       "4715  ...                   No                  Yes  Month-to-month   \n",
       "4716  ...                  Yes                  Yes        One year   \n",
       "4717  ...                   No                  Yes        One year   \n",
       "\n",
       "     Paperless Billing             Payment Method Monthly Charges  \\\n",
       "0                   No               Mailed check           60.05   \n",
       "1                   No           Electronic check           90.80   \n",
       "2                  Yes    Credit card (automatic)           78.75   \n",
       "3                  Yes           Electronic check           70.05   \n",
       "4                  Yes           Electronic check           74.30   \n",
       "...                ...                        ...             ...   \n",
       "4713                No    Credit card (automatic)           20.10   \n",
       "4714               Yes    Credit card (automatic)           99.00   \n",
       "4715               Yes           Electronic check           35.15   \n",
       "4716                No  Bank transfer (automatic)           98.60   \n",
       "4717                No    Credit card (automatic)           62.70   \n",
       "\n",
       "     Total Charges    CLTV                Churn Reason Churn Value  \n",
       "0          3994.05  6148.0                         NaN         0.0  \n",
       "1           4921.2  5249.0                         NaN         0.0  \n",
       "2          3682.45  2257.0                         NaN         0.0  \n",
       "3            70.05  2469.0                         NaN         0.0  \n",
       "4          4018.35  4133.0                         NaN         0.0  \n",
       "...            ...     ...                         ...         ...  \n",
       "4713        302.45  4359.0                         NaN         0.0  \n",
       "4714       7061.65  4305.0                         NaN         0.0  \n",
       "4715         99.75  2987.0  Attitude of support person         1.0  \n",
       "4716       1704.95  5160.0                       Moved         1.0  \n",
       "4717        2791.5  2654.0   Limited range of services         1.0  \n",
       "\n",
       "[4718 rows x 30 columns]"
      ]
     },
     "execution_count": 63,
     "metadata": {},
     "output_type": "execute_result"
    }
   ],
   "source": [
    "# Drop ID  & count as its not valuable to the model\n",
    "\n",
    "Tele_comm_Df.drop(columns=[\"CustomerID\"])\n",
    "Tele_comm_Df.drop(columns=[\"Count\"])"
   ]
  },
  {
   "cell_type": "code",
   "execution_count": 64,
   "id": "97e75f9f",
   "metadata": {},
   "outputs": [
    {
     "name": "stdout",
     "output_type": "stream",
     "text": [
      "<class 'pandas.core.frame.DataFrame'>\n",
      "RangeIndex: 4718 entries, 0 to 4717\n",
      "Data columns (total 31 columns):\n",
      " #   Column             Non-Null Count  Dtype  \n",
      "---  ------             --------------  -----  \n",
      " 0   CustomerID         4687 non-null   object \n",
      " 1   Count              4691 non-null   float64\n",
      " 2   Country            4708 non-null   object \n",
      " 3   State              4715 non-null   object \n",
      " 4   City               4688 non-null   object \n",
      " 5   Zip Code           4698 non-null   float64\n",
      " 6   Lat Long           4713 non-null   object \n",
      " 7   Latitude           4695 non-null   float64\n",
      " 8   Longitude          4685 non-null   float64\n",
      " 9   Gender             4698 non-null   object \n",
      " 10  Senior Citizen     4711 non-null   object \n",
      " 11  Partner            4678 non-null   object \n",
      " 12  Dependents         4672 non-null   object \n",
      " 13  Tenure Months      4704 non-null   float64\n",
      " 14  Phone Service      4692 non-null   object \n",
      " 15  Multiple Lines     4696 non-null   object \n",
      " 16  Internet Service   4692 non-null   object \n",
      " 17  Online Security    4674 non-null   object \n",
      " 18  Online Backup      4714 non-null   object \n",
      " 19  Device Protection  4711 non-null   object \n",
      " 20  Tech Support       4695 non-null   object \n",
      " 21  Streaming TV       4686 non-null   object \n",
      " 22  Streaming Movies   4688 non-null   object \n",
      " 23  Contract           4672 non-null   object \n",
      " 24  Paperless Billing  4694 non-null   object \n",
      " 25  Payment Method     4717 non-null   object \n",
      " 26  Monthly Charges    4714 non-null   float64\n",
      " 27  Total Charges      4704 non-null   object \n",
      " 28  CLTV               4692 non-null   float64\n",
      " 29  Churn Reason       1261 non-null   object \n",
      " 30  Churn Value        4693 non-null   float64\n",
      "dtypes: float64(8), object(23)\n",
      "memory usage: 1.1+ MB\n"
     ]
    }
   ],
   "source": [
    "# View the data types\n",
    "\n",
    "Tele_comm_Df.info()\n"
   ]
  },
  {
   "cell_type": "code",
   "execution_count": 65,
   "id": "a7ff1312",
   "metadata": {},
   "outputs": [],
   "source": [
    "Tele_comm_Df[\"Total Charges\"] = pd.to_numeric(Tele_comm_Df[\"Total Charges\"], errors='coerce')"
   ]
  },
  {
   "cell_type": "code",
   "execution_count": 66,
   "id": "dbbdca05",
   "metadata": {},
   "outputs": [
    {
     "data": {
      "text/plain": [
       "['CustomerID',\n",
       " 'Count',\n",
       " 'Country',\n",
       " 'State',\n",
       " 'City',\n",
       " 'Zip Code',\n",
       " 'Lat Long',\n",
       " 'Latitude',\n",
       " 'Longitude',\n",
       " 'Gender',\n",
       " 'Senior Citizen',\n",
       " 'Partner',\n",
       " 'Dependents',\n",
       " 'Tenure Months',\n",
       " 'Phone Service',\n",
       " 'Multiple Lines',\n",
       " 'Internet Service',\n",
       " 'Online Security',\n",
       " 'Online Backup',\n",
       " 'Device Protection',\n",
       " 'Tech Support',\n",
       " 'Streaming TV',\n",
       " 'Streaming Movies',\n",
       " 'Contract',\n",
       " 'Paperless Billing',\n",
       " 'Payment Method',\n",
       " 'Monthly Charges',\n",
       " 'Total Charges',\n",
       " 'CLTV',\n",
       " 'Churn Reason',\n",
       " 'Churn Value']"
      ]
     },
     "execution_count": 66,
     "metadata": {},
     "output_type": "execute_result"
    }
   ],
   "source": [
    "# Gather a list of the column names\n",
    "\n",
    "Tele_comm_Df.columns.tolist()"
   ]
  },
  {
   "cell_type": "code",
   "execution_count": 67,
   "id": "fa2ac9b0",
   "metadata": {
    "scrolled": true
   },
   "outputs": [
    {
     "name": "stdout",
     "output_type": "stream",
     "text": [
      "CustomerID : ['5196-WPYOW' '8189-HBVRW' '4091-TVOCN' ... '7384-GHBPI' '9254-RBFON'\n",
      " '0022-TCJCI']\n",
      "Count : [ 1. nan]\n",
      "Country : ['United States' nan]\n",
      "State : ['California' nan]\n",
      "City : ['Paso Robles' 'Los Angeles' 'Potrero' ... 'Long Barn' 'Mount Hermon'\n",
      " 'Gerber']\n",
      "Zip Code : [93446. 90005. 91963. ... 95041. 96035. 94403.]\n",
      "Lat Long : ['35.634222, -120.728341' '34.059281, -118.30742' '32.619465, -116.593605'\n",
      " ... '37.051166, -122.056194' '40.03194, -122.176023'\n",
      " '37.538309, -122.305109']\n",
      "Latitude : [35.634222 34.059281 32.619465 ... 37.051166 40.03194  37.538309]\n",
      "Longitude : [-120.728341 -118.30742  -116.593605 ... -122.056194 -122.176023\n",
      " -122.305109]\n",
      "Gender : ['Male' 'Female' nan]\n",
      "Senior Citizen : ['No' 'Yes' nan]\n",
      "Partner : ['Yes' 'No' nan]\n",
      "Dependents : ['Yes' 'No' nan]\n",
      "Tenure Months : [67. 53. 48.  1. 57. 10. 33. 59. 28. 54. 29. 43. 62. 51.  9. 71. 65. 44.\n",
      " 19. 39. 72. 40. 63.  3. 61. 25. 23. 11. 12.  5.  4. 35.  2.  7. 22. 26.\n",
      " 37. 58. 36. 34. 15. 13. 18. 55. 46.  6. 21. 70.  8. 16. 52. 24. 49. nan\n",
      " 32. 38. 20. 41. 56. 60. 17. 42. 50. 68. 27. 69. 30. 66. 64. 45. 31. 14.\n",
      " 47.  0.]\n",
      "Phone Service : ['Yes' 'No' nan]\n",
      "Multiple Lines : ['No' 'Yes' 'No phone service' nan]\n",
      "Internet Service : ['DSL' 'Fiber optic' 'No' nan]\n",
      "Online Security : ['Yes' 'No' 'No internet service' nan]\n",
      "Online Backup : ['Yes' 'No' 'No internet service' nan]\n",
      "Device Protection : ['No' 'Yes' 'No internet service' nan]\n",
      "Tech Support : ['Yes' nan 'No' 'No internet service']\n",
      "Streaming TV : ['No' 'Yes' 'No internet service' nan]\n",
      "Streaming Movies : ['No' 'Yes' 'No internet service' nan]\n",
      "Contract : ['One year' 'Month-to-month' 'Two year' nan]\n",
      "Paperless Billing : ['No' 'Yes' nan]\n",
      "Payment Method : ['Mailed check' 'Electronic check' 'Credit card (automatic)'\n",
      " 'Bank transfer (automatic)' nan]\n",
      "Monthly Charges : [60.05 90.8  78.75 ... 48.65 86.95 62.7 ]\n",
      "Total Charges : [3994.05 4921.2  3682.45 ... 7061.65 1704.95 2791.5 ]\n",
      "CLTV : [6148. 5249. 2257. ... 5322. 3758. 4305.]\n",
      "Churn Reason : [nan 'Attitude of support person' 'Competitor made better offer' 'Moved'\n",
      " 'Attitude of service provider' 'Limited range of services'\n",
      " 'Product dissatisfaction' 'Competitor had better devices'\n",
      " 'Extra data charges' \"Don't know\" 'Competitor offered more data'\n",
      " 'Competitor offered higher download speeds' 'Price too high'\n",
      " 'Service dissatisfaction' 'Lack of affordable download/upload speed'\n",
      " 'Long distance charges' 'Network reliability'\n",
      " 'Lack of self-service on Website' 'Poor expertise of phone support'\n",
      " 'Poor expertise of online support' 'Deceased']\n",
      "Churn Value : [ 0.  1. nan]\n"
     ]
    }
   ],
   "source": [
    "# Print out all unique values for each variable\n",
    "for col in Tele_comm_Df.columns:\n",
    "    print(col, \":\",Tele_comm_Df[col].unique())"
   ]
  },
  {
   "cell_type": "code",
   "execution_count": 82,
   "id": "0ce33971",
   "metadata": {},
   "outputs": [],
   "source": [
    "Tele_comm_Df.drop(columns=[\"CustomerID\",\"Count\",\"Latitude\",\"Longitude\"],axis=1,inplace=True)"
   ]
  },
  {
   "cell_type": "markdown",
   "id": "ea9411cc",
   "metadata": {},
   "source": [
    "#### Frequence_of_reason_for_churn"
   ]
  },
  {
   "cell_type": "code",
   "execution_count": 83,
   "id": "55ee406d",
   "metadata": {},
   "outputs": [
    {
     "data": {
      "text/plain": [
       "Attitude of support person                   128\n",
       "Competitor offered higher download speeds    118\n",
       "Competitor offered more data                 110\n",
       "Don't know                                   104\n",
       "Competitor made better offer                 102\n",
       "Attitude of service provider                  90\n",
       "Competitor had better devices                 87\n",
       "Price too high                                71\n",
       "Product dissatisfaction                       70\n",
       "Network reliability                           65\n",
       "Lack of self-service on Website               59\n",
       "Service dissatisfaction                       59\n",
       "Extra data charges                            40\n",
       "Moved                                         36\n",
       "Lack of affordable download/upload speed      34\n",
       "Limited range of services                     31\n",
       "Long distance charges                         27\n",
       "Poor expertise of online support              15\n",
       "Poor expertise of phone support               12\n",
       "Deceased                                       3\n",
       "Name: Churn Reason, dtype: int64"
      ]
     },
     "execution_count": 83,
     "metadata": {},
     "output_type": "execute_result"
    }
   ],
   "source": [
    "Tele_comm_Df[\"Churn Reason\"].value_counts()"
   ]
  },
  {
   "cell_type": "markdown",
   "id": "94efd0db",
   "metadata": {},
   "source": [
    "#####  Based of above analysis we can say that bad customer support,  getting better offer from competitor comparatively high price are measure reason for churn/"
   ]
  },
  {
   "cell_type": "code",
   "execution_count": 69,
   "id": "c014769a",
   "metadata": {},
   "outputs": [
    {
     "data": {
      "text/plain": [
       "Text(0.5, 1.0, '# of Customers by Contract Type')"
      ]
     },
     "execution_count": 69,
     "metadata": {},
     "output_type": "execute_result"
    },
    {
     "data": {
      "image/png": "[encoded data removed]",
      "text/plain": [
       "<Figure size 1080x720 with 1 Axes>"
      ]
     },
     "metadata": {
      "needs_background": "light"
     },
     "output_type": "display_data"
    }
   ],
   "source": [
    "# Bar Plot for reason of churn\n",
    "\n",
    "\n",
    "ax =Tele_comm_Df['Churn Reason'].value_counts().plot(kind = 'bar',rot = 0, width = 0.4, figsize=(15,10))\n",
    "ax.set_ylabel('# of Customers')\n",
    "ax.set_title('# of Customers by Contract Type')\n"
   ]
  },
  {
   "cell_type": "markdown",
   "id": "6632f547",
   "metadata": {},
   "source": [
    "#### City_wise_customer"
   ]
  },
  {
   "cell_type": "code",
   "execution_count": 84,
   "id": "e26e5406",
   "metadata": {},
   "outputs": [
    {
     "data": {
      "text/plain": [
       "Los Angeles      214\n",
       "San Diego         85\n",
       "San Francisco     73\n",
       "Sacramento        67\n",
       "San Jose          62\n",
       "                ... \n",
       "Doyle              1\n",
       "Nubieber           1\n",
       "El Cerrito         1\n",
       "Cambria            1\n",
       "Gerber             1\n",
       "Name: City, Length: 1117, dtype: int64"
      ]
     },
     "execution_count": 84,
     "metadata": {},
     "output_type": "execute_result"
    }
   ],
   "source": [
    "Tele_comm_Df[\"City\"].value_counts()"
   ]
  },
  {
   "cell_type": "markdown",
   "id": "e3e87600",
   "metadata": {},
   "source": [
    "##### Service is present im 1117 different city"
   ]
  },
  {
   "cell_type": "code",
   "execution_count": 85,
   "id": "48a2cfeb",
   "metadata": {},
   "outputs": [
    {
     "data": {
      "text/plain": [
       "Los Angeles      214\n",
       "San Diego         85\n",
       "San Francisco     73\n",
       "Sacramento        67\n",
       "San Jose          62\n",
       "                ... \n",
       "Moreno Valley      9\n",
       "Santa Clara        9\n",
       "Downey             9\n",
       "Sherman Oaks       8\n",
       "Hemet              8\n",
       "Name: City, Length: 65, dtype: int64"
      ]
     },
     "execution_count": 85,
     "metadata": {},
     "output_type": "execute_result"
    }
   ],
   "source": [
    "Tele_comm_Df[\"City\"].value_counts().head(65)"
   ]
  },
  {
   "cell_type": "code",
   "execution_count": 72,
   "id": "26e5b9fc",
   "metadata": {},
   "outputs": [
    {
     "data": {
      "text/plain": [
       "4082"
      ]
     },
     "execution_count": 72,
     "metadata": {},
     "output_type": "execute_result"
    }
   ],
   "source": [
    "Tele_comm_Df[\"City\"].value_counts().head(770).sum()"
   ]
  },
  {
   "cell_type": "code",
   "execution_count": 73,
   "id": "1d95d70a",
   "metadata": {},
   "outputs": [
    {
     "data": {
      "text/plain": [
       "3422"
      ]
     },
     "execution_count": 73,
     "metadata": {},
     "output_type": "execute_result"
    }
   ],
   "source": [
    "Tele_comm_Df[\"City\"].value_counts().head(550).sum()"
   ]
  },
  {
   "cell_type": "markdown",
   "id": "7d2cd6d5",
   "metadata": {},
   "source": [
    "####  50 % city covers 70 % of customers\n",
    "####  70% of cities cover 82 % of customers.\n",
    "#### That means most of the revenue is coming from 70 % of the cities only."
   ]
  },
  {
   "cell_type": "code",
   "execution_count": 74,
   "id": "25dfc72d",
   "metadata": {},
   "outputs": [
    {
     "data": {
      "text/plain": [
       "array([184,  85,  73,  67,  62,  40,  38,  33,  28,  27,  21,  20,  19,\n",
       "        18,  17,  16,  15,  14,  13,  12,  11,  10,   9,   8,   7,   6,\n",
       "         5,   4,   3,   2,   1], dtype=int64)"
      ]
     },
     "execution_count": 74,
     "metadata": {},
     "output_type": "execute_result"
    }
   ],
   "source": [
    "Tele_comm_Df[\"City\"].value_counts().unique()"
   ]
  },
  {
   "cell_type": "code",
   "execution_count": 75,
   "id": "5b84db46",
   "metadata": {},
   "outputs": [],
   "source": [
    "Tele_comm_Df.drop(columns=[\"Country\",\"State\"],axis=1,inplace=True)"
   ]
  },
  {
   "cell_type": "code",
   "execution_count": 76,
   "id": "a8f2e16f",
   "metadata": {},
   "outputs": [
    {
     "data": {
      "text/html": [
       "<div>\n",
       "<style scoped>\n",
       "    .dataframe tbody tr th:only-of-type {\n",
       "        vertical-align: middle;\n",
       "    }\n",
       "\n",
       "    .dataframe tbody tr th {\n",
       "        vertical-align: top;\n",
       "    }\n",
       "\n",
       "    .dataframe thead th {\n",
       "        text-align: right;\n",
       "    }\n",
       "</style>\n",
       "<table border=\"1\" class=\"dataframe\">\n",
       "  <thead>\n",
       "    <tr style=\"text-align: right;\">\n",
       "      <th></th>\n",
       "      <th>CustomerID</th>\n",
       "      <th>Count</th>\n",
       "      <th>City</th>\n",
       "      <th>Zip Code</th>\n",
       "      <th>Lat Long</th>\n",
       "      <th>Latitude</th>\n",
       "      <th>Longitude</th>\n",
       "      <th>Gender</th>\n",
       "      <th>Senior Citizen</th>\n",
       "      <th>Partner</th>\n",
       "      <th>...</th>\n",
       "      <th>Streaming TV</th>\n",
       "      <th>Streaming Movies</th>\n",
       "      <th>Contract</th>\n",
       "      <th>Paperless Billing</th>\n",
       "      <th>Payment Method</th>\n",
       "      <th>Monthly Charges</th>\n",
       "      <th>Total Charges</th>\n",
       "      <th>CLTV</th>\n",
       "      <th>Churn Reason</th>\n",
       "      <th>Churn Value</th>\n",
       "    </tr>\n",
       "  </thead>\n",
       "  <tbody>\n",
       "    <tr>\n",
       "      <th>0</th>\n",
       "      <td>5196-WPYOW</td>\n",
       "      <td>1.0</td>\n",
       "      <td>Paso Robles</td>\n",
       "      <td>93446.0</td>\n",
       "      <td>35.634222, -120.728341</td>\n",
       "      <td>35.634222</td>\n",
       "      <td>-120.728341</td>\n",
       "      <td>Male</td>\n",
       "      <td>No</td>\n",
       "      <td>Yes</td>\n",
       "      <td>...</td>\n",
       "      <td>No</td>\n",
       "      <td>No</td>\n",
       "      <td>One year</td>\n",
       "      <td>No</td>\n",
       "      <td>Mailed check</td>\n",
       "      <td>60.05</td>\n",
       "      <td>3994.05</td>\n",
       "      <td>6148.0</td>\n",
       "      <td>NaN</td>\n",
       "      <td>0.0</td>\n",
       "    </tr>\n",
       "    <tr>\n",
       "      <th>1</th>\n",
       "      <td>8189-HBVRW</td>\n",
       "      <td>1.0</td>\n",
       "      <td>Los Angeles</td>\n",
       "      <td>90005.0</td>\n",
       "      <td>34.059281, -118.30742</td>\n",
       "      <td>34.059281</td>\n",
       "      <td>-118.307420</td>\n",
       "      <td>Female</td>\n",
       "      <td>No</td>\n",
       "      <td>No</td>\n",
       "      <td>...</td>\n",
       "      <td>No</td>\n",
       "      <td>No</td>\n",
       "      <td>Month-to-month</td>\n",
       "      <td>No</td>\n",
       "      <td>Electronic check</td>\n",
       "      <td>90.80</td>\n",
       "      <td>4921.20</td>\n",
       "      <td>5249.0</td>\n",
       "      <td>NaN</td>\n",
       "      <td>0.0</td>\n",
       "    </tr>\n",
       "    <tr>\n",
       "      <th>2</th>\n",
       "      <td>4091-TVOCN</td>\n",
       "      <td>1.0</td>\n",
       "      <td>Potrero</td>\n",
       "      <td>91963.0</td>\n",
       "      <td>32.619465, -116.593605</td>\n",
       "      <td>32.619465</td>\n",
       "      <td>-116.593605</td>\n",
       "      <td>Male</td>\n",
       "      <td>No</td>\n",
       "      <td>No</td>\n",
       "      <td>...</td>\n",
       "      <td>Yes</td>\n",
       "      <td>Yes</td>\n",
       "      <td>One year</td>\n",
       "      <td>Yes</td>\n",
       "      <td>Credit card (automatic)</td>\n",
       "      <td>78.75</td>\n",
       "      <td>3682.45</td>\n",
       "      <td>2257.0</td>\n",
       "      <td>NaN</td>\n",
       "      <td>0.0</td>\n",
       "    </tr>\n",
       "    <tr>\n",
       "      <th>3</th>\n",
       "      <td>9603-OAIHC</td>\n",
       "      <td>1.0</td>\n",
       "      <td>Palmdale</td>\n",
       "      <td>93551.0</td>\n",
       "      <td>34.613476, -118.256358</td>\n",
       "      <td>34.613476</td>\n",
       "      <td>-118.256358</td>\n",
       "      <td>Male</td>\n",
       "      <td>Yes</td>\n",
       "      <td>No</td>\n",
       "      <td>...</td>\n",
       "      <td>No</td>\n",
       "      <td>No</td>\n",
       "      <td>Month-to-month</td>\n",
       "      <td>Yes</td>\n",
       "      <td>Electronic check</td>\n",
       "      <td>70.05</td>\n",
       "      <td>70.05</td>\n",
       "      <td>2469.0</td>\n",
       "      <td>NaN</td>\n",
       "      <td>0.0</td>\n",
       "    </tr>\n",
       "    <tr>\n",
       "      <th>4</th>\n",
       "      <td>8647-SDTWQ</td>\n",
       "      <td>1.0</td>\n",
       "      <td>Hood</td>\n",
       "      <td>95639.0</td>\n",
       "      <td>38.375325, -121.507935</td>\n",
       "      <td>38.375325</td>\n",
       "      <td>-121.507935</td>\n",
       "      <td>Male</td>\n",
       "      <td>No</td>\n",
       "      <td>Yes</td>\n",
       "      <td>...</td>\n",
       "      <td>No</td>\n",
       "      <td>No</td>\n",
       "      <td>Month-to-month</td>\n",
       "      <td>Yes</td>\n",
       "      <td>Electronic check</td>\n",
       "      <td>74.30</td>\n",
       "      <td>4018.35</td>\n",
       "      <td>4133.0</td>\n",
       "      <td>NaN</td>\n",
       "      <td>0.0</td>\n",
       "    </tr>\n",
       "  </tbody>\n",
       "</table>\n",
       "<p>5 rows × 29 columns</p>\n",
       "</div>"
      ],
      "text/plain": [
       "   CustomerID  Count         City  Zip Code                Lat Long  \\\n",
       "0  5196-WPYOW    1.0  Paso Robles   93446.0  35.634222, -120.728341   \n",
       "1  8189-HBVRW    1.0  Los Angeles   90005.0   34.059281, -118.30742   \n",
       "2  4091-TVOCN    1.0      Potrero   91963.0  32.619465, -116.593605   \n",
       "3  9603-OAIHC    1.0     Palmdale   93551.0  34.613476, -118.256358   \n",
       "4  8647-SDTWQ    1.0         Hood   95639.0  38.375325, -121.507935   \n",
       "\n",
       "    Latitude   Longitude  Gender Senior Citizen Partner  ... Streaming TV  \\\n",
       "0  35.634222 -120.728341    Male             No     Yes  ...           No   \n",
       "1  34.059281 -118.307420  Female             No      No  ...           No   \n",
       "2  32.619465 -116.593605    Male             No      No  ...          Yes   \n",
       "3  34.613476 -118.256358    Male            Yes      No  ...           No   \n",
       "4  38.375325 -121.507935    Male             No     Yes  ...           No   \n",
       "\n",
       "   Streaming Movies        Contract Paperless Billing  \\\n",
       "0                No        One year                No   \n",
       "1                No  Month-to-month                No   \n",
       "2               Yes        One year               Yes   \n",
       "3                No  Month-to-month               Yes   \n",
       "4                No  Month-to-month               Yes   \n",
       "\n",
       "            Payment Method Monthly Charges Total Charges    CLTV Churn Reason  \\\n",
       "0             Mailed check           60.05       3994.05  6148.0          NaN   \n",
       "1         Electronic check           90.80       4921.20  5249.0          NaN   \n",
       "2  Credit card (automatic)           78.75       3682.45  2257.0          NaN   \n",
       "3         Electronic check           70.05         70.05  2469.0          NaN   \n",
       "4         Electronic check           74.30       4018.35  4133.0          NaN   \n",
       "\n",
       "  Churn Value  \n",
       "0         0.0  \n",
       "1         0.0  \n",
       "2         0.0  \n",
       "3         0.0  \n",
       "4         0.0  \n",
       "\n",
       "[5 rows x 29 columns]"
      ]
     },
     "execution_count": 76,
     "metadata": {},
     "output_type": "execute_result"
    }
   ],
   "source": [
    "Tele_comm_Df.head()"
   ]
  },
  {
   "cell_type": "code",
   "execution_count": 77,
   "id": "f19a3b59",
   "metadata": {},
   "outputs": [
    {
     "data": {
      "text/plain": [
       "CustomerID             31\n",
       "Count                  27\n",
       "City                   30\n",
       "Zip Code               20\n",
       "Lat Long                5\n",
       "Latitude               23\n",
       "Longitude              33\n",
       "Gender                 20\n",
       "Senior Citizen          7\n",
       "Partner                40\n",
       "Dependents             46\n",
       "Tenure Months          14\n",
       "Phone Service          26\n",
       "Multiple Lines         22\n",
       "Internet Service       26\n",
       "Online Security        44\n",
       "Online Backup           4\n",
       "Device Protection       7\n",
       "Tech Support           23\n",
       "Streaming TV           32\n",
       "Streaming Movies       30\n",
       "Contract               46\n",
       "Paperless Billing      24\n",
       "Payment Method          1\n",
       "Monthly Charges         4\n",
       "Total Charges          23\n",
       "CLTV                   26\n",
       "Churn Reason         3457\n",
       "Churn Value            25\n",
       "dtype: int64"
      ]
     },
     "execution_count": 77,
     "metadata": {},
     "output_type": "execute_result"
    }
   ],
   "source": [
    "Tele_comm_Df.isna().sum()"
   ]
  },
  {
   "cell_type": "markdown",
   "id": "783da1c6",
   "metadata": {},
   "source": [
    "### Filling_missing_values"
   ]
  },
  {
   "cell_type": "code",
   "execution_count": 79,
   "id": "e30d0a10",
   "metadata": {},
   "outputs": [],
   "source": [
    "# Replacing with mean\n",
    "\n",
    "replcae_mean=[\"Monthly Charges\",\"Total Charges\",\"CLTV\",\"Tenure Months\"]\n",
    "for i in replcae_mean:\n",
    "    Tele_comm_Df[i].fillna(value=Tele_comm_Df[i].mean(),inplace=True)"
   ]
  },
  {
   "cell_type": "code",
   "execution_count": 80,
   "id": "95cd7d48",
   "metadata": {},
   "outputs": [],
   "source": [
    "# Replacing missing values with mode\n",
    "\n",
    "find_mode=['Lat Long','Gender','City','Zip Code',\n",
    " 'Churn Value',\n",
    " 'Senior Citizen',\n",
    " 'Partner',\n",
    " 'Dependents',\n",
    " 'Phone Service',\n",
    " 'Multiple Lines',\n",
    " 'Internet Service',\n",
    " 'Online Security',\n",
    " 'Online Backup',\n",
    " 'Device Protection',\n",
    " 'Tech Support',\n",
    " 'Streaming TV',\n",
    " 'Streaming Movies',\n",
    " 'Contract',\n",
    " 'Paperless Billing',\n",
    " 'Payment Method']\n",
    "for j in find_mode:\n",
    "    a=Tele_comm_Df[j].mode()\n",
    "    for i in a:\n",
    "        Tele_comm_Df[j].fillna(value=i,inplace=True)\n",
    "        \n",
    "      \n",
    "                                                                              \n"
   ]
  },
  {
   "cell_type": "code",
   "execution_count": 86,
   "id": "4e740a40",
   "metadata": {},
   "outputs": [
    {
     "data": {
      "text/plain": [
       "City                    0\n",
       "Zip Code                0\n",
       "Lat Long                0\n",
       "Gender                  0\n",
       "Senior Citizen          0\n",
       "Partner                 0\n",
       "Dependents              0\n",
       "Tenure Months           0\n",
       "Phone Service           0\n",
       "Multiple Lines          0\n",
       "Internet Service        0\n",
       "Online Security         0\n",
       "Online Backup           0\n",
       "Device Protection       0\n",
       "Tech Support            0\n",
       "Streaming TV            0\n",
       "Streaming Movies        0\n",
       "Contract                0\n",
       "Paperless Billing       0\n",
       "Payment Method          0\n",
       "Monthly Charges         0\n",
       "Total Charges           0\n",
       "CLTV                    0\n",
       "Churn Reason         3457\n",
       "Churn Value             0\n",
       "dtype: int64"
      ]
     },
     "execution_count": 86,
     "metadata": {},
     "output_type": "execute_result"
    }
   ],
   "source": [
    "Tele_comm_Df.isna().sum()  "
   ]
  },
  {
   "cell_type": "code",
   "execution_count": 24,
   "id": "71c69cc6",
   "metadata": {},
   "outputs": [],
   "source": [
    "target = Tele_comm_Df[\"Churn Value\"] "
   ]
  },
  {
   "cell_type": "code",
   "execution_count": 25,
   "id": "4f22332d",
   "metadata": {},
   "outputs": [
    {
     "data": {
      "text/plain": [
       "<AxesSubplot:>"
      ]
     },
     "execution_count": 25,
     "metadata": {},
     "output_type": "execute_result"
    },
    {
     "data": {
      "image/png": "[encoded data removed]",
      "text/plain": [
       "<Figure size 432x288 with 2 Axes>"
      ]
     },
     "metadata": {
      "needs_background": "light"
     },
     "output_type": "display_data"
    }
   ],
   "source": [
    "corrdata = pd.concat([Tele_comm_Df.drop(columns=[\"Churn Value\"],axis=1),target],axis=1)\n",
    "corr = corrdata.corr()\n",
    "sns.heatmap(corr, annot=True)"
   ]
  },
  {
   "cell_type": "markdown",
   "id": "10dc2d44",
   "metadata": {},
   "source": [
    "#### Churn_VS_Services"
   ]
  },
  {
   "cell_type": "code",
   "execution_count": 26,
   "id": "b054ee59",
   "metadata": {},
   "outputs": [
    {
     "data": {
      "image/png": "[encoded data removed]",
      "text/plain": [
       "<Figure size 1080x864 with 9 Axes>"
      ]
     },
     "metadata": {
      "needs_background": "light"
     },
     "output_type": "display_data"
    }
   ],
   "source": [
    "services = ['Phone Service','Multiple Lines','Internet Service','Online Security',\n",
    "           'Online Backup','Device Protection','Tech Support','Streaming TV','Streaming Movies']\n",
    "\n",
    "fig, axes = plt.subplots(nrows = 3,ncols = 3,figsize = (15,12))\n",
    "for i, item in enumerate(services):\n",
    "    if i < 3:\n",
    "        ax = Tele_comm_Df[item].value_counts().plot(kind = 'bar',ax=axes[i,0],rot = 0)\n",
    "        \n",
    "    elif i >=3 and i < 6:\n",
    "        ax = Tele_comm_Df[item].value_counts().plot(kind = 'bar',ax=axes[i-3,1],rot = 0)\n",
    "        \n",
    "    elif i < 9:\n",
    "        ax = Tele_comm_Df[item].value_counts().plot(kind = 'bar',ax=axes[i-6,2],rot = 0)\n",
    "    ax.set_title(item)"
   ]
  },
  {
   "cell_type": "markdown",
   "id": "d332f703",
   "metadata": {},
   "source": [
    "                                "
   ]
  },
  {
   "cell_type": "code",
   "execution_count": 27,
   "id": "c3bd6759",
   "metadata": {},
   "outputs": [
    {
     "data": {
      "image/png": "[encoded data removed]",
      "text/plain": [
       "<Figure size 720x360 with 1 Axes>"
      ]
     },
     "metadata": {
      "needs_background": "light"
     },
     "output_type": "display_data"
    }
   ],
   "source": [
    "colors = ['#4D3425','#E4512B']\n",
    "city_churn =Tele_comm_Df.groupby(['Phone Service','Churn Value']).size().unstack()\n",
    "\n",
    "ax = (city_churn.T*100.0 / city_churn.T.sum()).T.plot(kind='bar',width = 0.5,stacked = True,rot = 0, figsize = (10,5),color = colors)\n",
    "ax.yaxis.set_major_formatter(mtick.PercentFormatter())\n",
    "ax.legend(loc='best',prop={'size':14},title = 'Churn')\n",
    "ax.set_ylabel('% Customers',size = 14)\n",
    "ax.set_title('Churn VS Phone Service',size = 14)\n",
    "\n",
    "# Code to add the data labels on the stacked bar chart\n",
    "for p in ax.patches:\n",
    "    width, height = p.get_width(), p.get_height()\n",
    "    x, y = p.get_xy() \n",
    "    ax.annotate('{:.0f}%'.format(height), (p.get_x()+.25*width, p.get_y()+.4*height),\n",
    "                color = 'white',\n",
    "               weight = 'bold',\n",
    "               size = 14)"
   ]
  },
  {
   "cell_type": "code",
   "execution_count": 28,
   "id": "0d5bcd87",
   "metadata": {},
   "outputs": [
    {
     "data": {
      "image/png": "[encoded data removed]",
      "text/plain": [
       "<Figure size 720x360 with 1 Axes>"
      ]
     },
     "metadata": {
      "needs_background": "light"
     },
     "output_type": "display_data"
    }
   ],
   "source": [
    "colors = ['#4D3425','#E4512B']\n",
    "city_churn =Tele_comm_Df.groupby(['Online Security','Churn Value']).size().unstack()\n",
    "\n",
    "ax = (city_churn.T*100.0 / city_churn.T.sum()).T.plot(kind='bar',width = 0.5,stacked = True,rot = 0, figsize = (10,5),color = colors)\n",
    "ax.yaxis.set_major_formatter(mtick.PercentFormatter())\n",
    "ax.legend(loc='best',prop={'size':14},title = 'Churn')\n",
    "ax.set_ylabel('% Customers',size = 14)\n",
    "ax.set_title('Churn VS Online Security',size = 14)\n",
    "\n",
    "# Code to add the data labels on the stacked bar chart\n",
    "for p in ax.patches:\n",
    "    width, height = p.get_width(), p.get_height()\n",
    "    x, y = p.get_xy() \n",
    "    ax.annotate('{:.0f}%'.format(height), (p.get_x()+.25*width, p.get_y()+.4*height),\n",
    "                color = 'white',\n",
    "               weight = 'bold',\n",
    "               size = 14)"
   ]
  },
  {
   "cell_type": "markdown",
   "id": "7c2f923d",
   "metadata": {},
   "source": [
    "### Churn rate is highest for customer without online security"
   ]
  },
  {
   "cell_type": "code",
   "execution_count": 172,
   "id": "e16eedf9",
   "metadata": {},
   "outputs": [
    {
     "data": {
      "image/png": "[encoded data removed]",
      "text/plain": [
       "<Figure size 720x360 with 1 Axes>"
      ]
     },
     "metadata": {
      "needs_background": "light"
     },
     "output_type": "display_data"
    }
   ],
   "source": [
    "colors = ['#4D3425','#E4512B']\n",
    "city_churn =Tele_comm_Df.groupby(['Tech Support','Churn Value']).size().unstack()\n",
    "\n",
    "ax = (city_churn.T*100.0 / city_churn.T.sum()).T.plot(kind='bar',width = 0.5,stacked = True,rot = 0, figsize = (10,5),color = colors)\n",
    "ax.yaxis.set_major_formatter(mtick.PercentFormatter())\n",
    "ax.legend(loc='best',prop={'size':14},title = 'Churn')\n",
    "ax.set_ylabel('% Customers',size = 14)\n",
    "ax.set_title('Churn VS Tech Support',size = 14)\n",
    "\n",
    "# Code to add the data labels on the stacked bar chart\n",
    "for p in ax.patches:\n",
    "    width, height = p.get_width(), p.get_height()\n",
    "    x, y = p.get_xy() \n",
    "    ax.annotate('{:.0f}%'.format(height), (p.get_x()+.25*width, p.get_y()+.4*height),\n",
    "                color = 'white',\n",
    "               weight = 'bold',\n",
    "               size = 14)"
   ]
  },
  {
   "cell_type": "markdown",
   "id": "aef28a13",
   "metadata": {},
   "source": [
    "### Churn rate is highest for customer without tech support"
   ]
  },
  {
   "cell_type": "markdown",
   "id": "afab0875",
   "metadata": {},
   "source": [
    "#### Total Value for online security and tech support and churn ratio is same for type of service in equal in both the column that means those who have taken online security also got tech support as well so we can delete any of the column out of two. Since online security has more missing value so will delete that column.¶"
   ]
  },
  {
   "cell_type": "code",
   "execution_count": 15,
   "id": "7281dd3a",
   "metadata": {},
   "outputs": [
    {
     "data": {
      "image/png": "[encoded data removed]",
      "text/plain": [
       "<Figure size 720x360 with 1 Axes>"
      ]
     },
     "metadata": {
      "needs_background": "light"
     },
     "output_type": "display_data"
    }
   ],
   "source": [
    "colors = ['#4D3425','#E4512B']\n",
    "city_churn =Tele_comm_Df.groupby(['Online Backup','Churn Value']).size().unstack()\n",
    "\n",
    "ax = (city_churn.T*100.0 / city_churn.T.sum()).T.plot(kind='bar',width = 0.5,stacked = True,rot = 0, figsize = (10,5),color = colors)\n",
    "ax.yaxis.set_major_formatter(mtick.PercentFormatter())\n",
    "ax.legend(loc='best',prop={'size':14},title = 'Churn')\n",
    "ax.set_ylabel('% Customers',size = 14)\n",
    "ax.set_title('Churn VS Online backup',size = 14)\n",
    "\n",
    "# Code to add the data labels on the stacked bar chart\n",
    "for p in ax.patches:\n",
    "    width, height = p.get_width(), p.get_height()\n",
    "    x, y = p.get_xy() \n",
    "    ax.annotate('{:.0f}%'.format(height), (p.get_x()+.25*width, p.get_y()+.4*height),\n",
    "                color = 'white',\n",
    "               weight = 'bold',\n",
    "               size = 14)"
   ]
  },
  {
   "cell_type": "code",
   "execution_count": 174,
   "id": "fd48509b",
   "metadata": {},
   "outputs": [
    {
     "data": {
      "image/png": "[encoded data removed]",
      "text/plain": [
       "<Figure size 720x360 with 1 Axes>"
      ]
     },
     "metadata": {
      "needs_background": "light"
     },
     "output_type": "display_data"
    }
   ],
   "source": [
    "colors = ['#4D3425','#E4512B']\n",
    "city_churn =Tele_comm_Df.groupby(['Device Protection','Churn Value']).size().unstack()\n",
    "\n",
    "ax = (city_churn.T*100.0 / city_churn.T.sum()).T.plot(kind='bar',width = 0.5,stacked = True,rot = 0, figsize = (10,5),color = colors)\n",
    "ax.yaxis.set_major_formatter(mtick.PercentFormatter())\n",
    "ax.legend(loc='best',prop={'size':14},title = 'Churn')\n",
    "ax.set_ylabel('% Customers',size = 14)\n",
    "ax.set_title('Churn by Device Protection',size = 14)\n",
    "\n",
    "# Code to add the data labels on the stacked bar chart\n",
    "for p in ax.patches:\n",
    "    width, height = p.get_width(), p.get_height()\n",
    "    x, y = p.get_xy() \n",
    "    ax.annotate('{:.0f}%'.format(height), (p.get_x()+.25*width, p.get_y()+.4*height),\n",
    "                color = 'white',\n",
    "               weight = 'bold',\n",
    "               size = 14)"
   ]
  },
  {
   "cell_type": "markdown",
   "id": "fa10407c",
   "metadata": {},
   "source": [
    "####  Total Value for online backup and device protection and churn ratio is for type of service in  equal in both the column that means those who have taken online backup also got device protection  as well so we can delete any of the column out of two. Since online backup  has more missing value so will delete that column.¶"
   ]
  },
  {
   "cell_type": "code",
   "execution_count": 175,
   "id": "87211df4",
   "metadata": {},
   "outputs": [
    {
     "data": {
      "image/png": "[encoded data removed]",
      "text/plain": [
       "<Figure size 720x360 with 1 Axes>"
      ]
     },
     "metadata": {
      "needs_background": "light"
     },
     "output_type": "display_data"
    }
   ],
   "source": [
    "colors = ['#4D3425','#E4512B'] \n",
    "city_churn =Tele_comm_Df.groupby(['Streaming Movies','Churn Value']).size().unstack()\n",
    "\n",
    "ax = (city_churn.T*100.0 / city_churn.T.sum()).T.plot(kind='bar',width = 0.5,stacked = True,rot = 0, figsize = (10,5),color = colors)\n",
    "ax.yaxis.set_major_formatter(mtick.PercentFormatter())\n",
    "ax.legend(loc='best',prop={'size':14},title = 'Churn')\n",
    "ax.set_ylabel('% Customers',size = 14)\n",
    "ax.set_title('Churn VS Streaming Movies',size = 14)\n",
    "\n",
    "# Code to add the data labels on the stacked bar chart\n",
    "for p in ax.patches:\n",
    "    width, height = p.get_width(), p.get_height()\n",
    "    x, y = p.get_xy() \n",
    "    ax.annotate('{:.0f}%'.format(height), (p.get_x()+.25*width, p.get_y()+.4*height),\n",
    "                color = 'white',\n",
    "               weight = 'bold',\n",
    "               size = 14)"
   ]
  },
  {
   "cell_type": "code",
   "execution_count": 16,
   "id": "3955e73f",
   "metadata": {},
   "outputs": [
    {
     "data": {
      "image/png": "[encoded data removed]",
      "text/plain": [
       "<Figure size 720x360 with 1 Axes>"
      ]
     },
     "metadata": {
      "needs_background": "light"
     },
     "output_type": "display_data"
    }
   ],
   "source": [
    "colors = ['#4D3425','#E4512B']\n",
    "city_churn =Tele_comm_Df.groupby(['Streaming TV','Churn Value']).size().unstack()\n",
    "\n",
    "ax = (city_churn.T*100.0 / city_churn.T.sum()).T.plot(kind='bar',width = 0.5,stacked = True,rot = 0, figsize = (10,5),color = colors)\n",
    "ax.yaxis.set_major_formatter(mtick.PercentFormatter())\n",
    "ax.legend(loc='best',prop={'size':14},title = 'Churn')\n",
    "ax.set_ylabel('% Customers',size = 14)\n",
    "ax.set_title('Churn VS Streaming TV',size = 14)\n",
    "\n",
    "# Code to add the data labels on the stacked bar chart\n",
    "for p in ax.patches:\n",
    "    width, height = p.get_width(), p.get_height()\n",
    "    x, y = p.get_xy() \n",
    "    ax.annotate('{:.0f}%'.format(height), (p.get_x()+.25*width, p.get_y()+.4*height),\n",
    "                color = 'white',\n",
    "               weight = 'bold',\n",
    "               size = 14) "
   ]
  },
  {
   "cell_type": "markdown",
   "id": "b9b63656",
   "metadata": {},
   "source": [
    "#### Total Value for streaming movies and streaming and churn value is equal that means those who have taken streaming movies also got streaming Tv as well so we can delete any of the column out of two. Since streaming TV have more missing value so will delete that column."
   ]
  },
  {
   "cell_type": "code",
   "execution_count": 17,
   "id": "48de5cc4",
   "metadata": {},
   "outputs": [
    {
     "data": {
      "image/png": "[encoded data removed]",
      "text/plain": [
       "<Figure size 720x360 with 1 Axes>"
      ]
     },
     "metadata": {
      "needs_background": "light"
     },
     "output_type": "display_data"
    }
   ],
   "source": [
    "colors = ['#4D3425','#E4512B']\n",
    "city_churn =Tele_comm_Df.groupby(['Internet Service','Churn Value']).size().unstack()\n",
    "\n",
    "ax = (city_churn.T*100.0 / city_churn.T.sum()).T.plot(kind='bar',\n",
    "                                                      width = 0.5,\n",
    "                                                      stacked = True,\n",
    "                                                      rot = 0, \n",
    "                                                      figsize = (10,5),\n",
    "                                                      color = colors)\n",
    "ax.yaxis.set_major_formatter(mtick.PercentFormatter())\n",
    "ax.legend(loc='best',prop={'size':14},title = 'Churn')\n",
    "ax.set_ylabel('% Customers',size = 14)\n",
    "ax.set_title('Churn VS Internet Service',size = 14)\n",
    "\n",
    "# Code to add the data labels on the stacked bar chart\n",
    "for p in ax.patches:\n",
    "    width, height = p.get_width(), p.get_height()\n",
    "    x, y = p.get_xy() \n",
    "    ax.annotate('{:.0f}%'.format(height), (p.get_x()+.25*width, p.get_y()+.4*height),\n",
    "                color = 'white',\n",
    "               weight = 'bold',\n",
    "               size = 14)"
   ]
  },
  {
   "cell_type": "markdown",
   "id": "367e177b",
   "metadata": {},
   "source": [
    "#### Churn rate is  highest for fiber optic internal service"
   ]
  },
  {
   "cell_type": "code",
   "execution_count": 18,
   "id": "6b42e7c3",
   "metadata": {},
   "outputs": [
    {
     "data": {
      "image/png": "[encoded data removed]",
      "text/plain": [
       "<Figure size 720x360 with 1 Axes>"
      ]
     },
     "metadata": {
      "needs_background": "light"
     },
     "output_type": "display_data"
    }
   ],
   "source": [
    "colors = ['#4D3425','#E4512B']\n",
    "city_churn =Tele_comm_Df.groupby(['Multiple Lines','Churn Value']).size().unstack()\n",
    "\n",
    "ax = (city_churn.T*100.0 / city_churn.T.sum()).T.plot(kind='bar',width = 0.5,stacked = True,rot = 0, figsize = (10,5),color = colors)\n",
    "ax.yaxis.set_major_formatter(mtick.PercentFormatter())\n",
    "ax.legend(loc='best',prop={'size':14},title = 'Churn')\n",
    "ax.set_ylabel('% Customers',size = 14)\n",
    "ax.set_title('Churn VS Multiple Lines',size = 14)\n",
    "\n",
    "# Code to add the data labels on the stacked bar chart\n",
    "for p in ax.patches:\n",
    "    width, height = p.get_width(), p.get_height()\n",
    "    x, y = p.get_xy() \n",
    "    ax.annotate('{:.0f}%'.format(height), (p.get_x()+.25*width, p.get_y()+.4*height),\n",
    "                color = 'white',\n",
    "               weight = 'bold',\n",
    "               size = 14)"
   ]
  },
  {
   "cell_type": "markdown",
   "id": "f337018c",
   "metadata": {},
   "source": [
    "#### Churn rate is almost same for all type of lines "
   ]
  },
  {
   "cell_type": "code",
   "execution_count": 19,
   "id": "3ec0adbe",
   "metadata": {},
   "outputs": [
    {
     "data": {
      "text/plain": [
       "Text(0.5, 1.0, '# of Customers VS Contract Type')"
      ]
     },
     "execution_count": 19,
     "metadata": {},
     "output_type": "execute_result"
    },
    {
     "data": {
      "image/png": "[encoded data removed]",
      "text/plain": [
       "<Figure size 432x288 with 1 Axes>"
      ]
     },
     "metadata": {
      "needs_background": "light"
     },
     "output_type": "display_data"
    }
   ],
   "source": [
    "ax =Tele_comm_Df['Contract'].value_counts().plot(kind = 'bar',rot = 0, width = 0.3)\n",
    "ax.set_ylabel('# of Customers')\n",
    "ax.set_title('# of Customers VS Contract Type')"
   ]
  },
  {
   "cell_type": "code",
   "execution_count": 20,
   "id": "5dddfd7b",
   "metadata": {},
   "outputs": [
    {
     "data": {
      "image/png": "[encoded data removed]",
      "text/plain": [
       "<Figure size 720x432 with 1 Axes>"
      ]
     },
     "metadata": {
      "needs_background": "light"
     },
     "output_type": "display_data"
    }
   ],
   "source": [
    "colors = ['#4D3425','#E4512B']\n",
    "contract_churn =Tele_comm_Df.groupby(['Contract','Churn Value']).size().unstack()\n",
    "\n",
    "ax = (contract_churn.T*100.0 / contract_churn.T.sum()).T.plot(kind='bar',width = 0.3,stacked = True,rot = 0, figsize = (10,6),color = colors)\n",
    "ax.yaxis.set_major_formatter(mtick.PercentFormatter())\n",
    "ax.legend(loc='best',prop={'size':14},title = 'Churn')\n",
    "ax.set_ylabel('% Customers',size = 14)\n",
    "ax.set_title('Churn VS Contract Type',size = 14)\n",
    "\n",
    "# Code to add the data labels on the stacked bar chart\n",
    "for p in ax.patches:\n",
    "    width, height = p.get_width(), p.get_height()\n",
    "    x, y = p.get_xy() \n",
    "    ax.annotate('{:.0f}%'.format(height), (p.get_x()+.25*width, p.get_y()+.4*height),\n",
    "                color = 'white',\n",
    "               weight = 'bold',\n",
    "               size = 14)"
   ]
  },
  {
   "cell_type": "markdown",
   "id": "47b67fe2",
   "metadata": {},
   "source": [
    "#### Most of the customer prefer monthly plan and churn rate is  highest for monthly plan"
   ]
  },
  {
   "cell_type": "code",
   "execution_count": 21,
   "id": "c01956a5",
   "metadata": {},
   "outputs": [
    {
     "data": {
      "text/plain": [
       "Text(0.5, 1.0, '# of Customers VS Seniority Level')"
      ]
     },
     "execution_count": 21,
     "metadata": {},
     "output_type": "execute_result"
    },
    {
     "data": {
      "image/png": "[encoded data removed]",
      "text/plain": [
       "<Figure size 432x288 with 1 Axes>"
      ]
     },
     "metadata": {
      "needs_background": "light"
     },
     "output_type": "display_data"
    }
   ],
   "source": [
    "ax =Tele_comm_Df['Senior Citizen'].value_counts().plot(kind = 'bar',rot = 0, width = 0.3)\n",
    "ax.set_ylabel('# of Customers')\n",
    "ax.set_title('# of Customers VS Seniority Level') "
   ]
  },
  {
   "cell_type": "code",
   "execution_count": 22,
   "id": "a8475828",
   "metadata": {},
   "outputs": [
    {
     "data": {
      "image/png": "[encoded data removed]",
      "text/plain": [
       "<Figure size 576x432 with 1 Axes>"
      ]
     },
     "metadata": {
      "needs_background": "light"
     },
     "output_type": "display_data"
    }
   ],
   "source": [
    "colors = ['#4D3425','#E4512B']\n",
    "seniority_churn = Tele_comm_Df.groupby(['Senior Citizen','Churn Value']).size().unstack()\n",
    "ax = (seniority_churn.T*100.0 / seniority_churn.T.sum()).T.plot(kind='bar',width = 0.2,stacked = True,rot = 0, figsize = (8,6),color = colors)\n",
    "ax.yaxis.set_major_formatter(mtick.PercentFormatter())\n",
    "ax.legend(loc='center',prop={'size':14},title = 'Churn Value')\n",
    "ax.set_ylabel('% Customers')\n",
    "ax.set_title('Churn VS Seniority Level',size = 14)\n",
    "\n",
    "# Code to add the data labels on the stacked bar chart\n",
    "for p in ax.patches:\n",
    "    width, height = p.get_width(), p.get_height()\n",
    "    x, y = p.get_xy() \n",
    "    ax.annotate('{:.0f}%'.format(height), (p.get_x()+.25*width, p.get_y()+.4*height),\n",
    "                color = 'white',\n",
    "               weight = 'bold',size =14)"
   ]
  },
  {
   "cell_type": "markdown",
   "id": "351f17ff",
   "metadata": {},
   "source": [
    "#### Churn rate for senior citizen is comparatively high"
   ]
  },
  {
   "cell_type": "code",
   "execution_count": null,
   "id": "a7040399",
   "metadata": {},
   "outputs": [],
   "source": []
  }
 ],
 "metadata": {
  "kernelspec": {
   "display_name": "Vikas Python 3(ipykernel)",
   "language": "python",
   "name": "python3"
  },
  "language_info": {
   "codemirror_mode": {
    "name": "ipython",
    "version": 3
   },
   "file_extension": ".py",
   "mimetype": "text/x-python",
   "name": "python",
   "nbconvert_exporter": "python",
   "pygments_lexer": "ipython3",
   "version": "3.9.0"
  }
 },
 "nbformat": 4,
 "nbformat_minor": 5
}
