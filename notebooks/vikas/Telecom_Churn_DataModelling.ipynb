{
 "cells": [
  {
   "cell_type": "markdown",
   "id": "5923b559",
   "metadata": {},
   "source": [
    "## Importing Libraries "
   ]
  },
  {
   "cell_type": "code",
   "execution_count": 1,
   "id": "789443ff",
   "metadata": {},
   "outputs": [],
   "source": [
    "import numpy as np\n",
    "import pandas as pd\n",
    "                                                                                   \n",
    "from sklearn.model_selection import train_test_split\n",
    "from sklearn.decomposition import PCA\n",
    "\n",
    "from sklearn.model_selection import GridSearchCV\n",
    "from sklearn.metrics import accuracy_score, confusion_matrix,classification_report\n",
    "from sklearn.ensemble import RandomForestClassifier\n",
    "from sklearn.linear_model import LogisticRegression\n",
    "from sklearn.tree import DecisionTreeClassifier\n",
    "from sklearn.pipeline import Pipeline\n",
    "from sklearn.preprocessing import StandardScaler\n",
    "\n",
    "from sklearn.compose import ColumnTransformer\n",
    "from sklearn.impute import SimpleImputer\n",
    "\n",
    "import pickle\n",
    "\n",
    "import warnings\n",
    "warnings.filterwarnings('ignore')"
   ]
  },
  {
   "cell_type": "markdown",
   "id": "f4b72e1d",
   "metadata": {},
   "source": [
    "## Loading Data"
   ]
  },
  {
   "cell_type": "code",
   "execution_count": 8,
   "id": "8f5718f0",
   "metadata": {},
   "outputs": [],
   "source": [
    "telco_customer = pd.read_csv(\"ChurnTrainDataset.csv.csv\")"
   ]
  },
  {
   "cell_type": "markdown",
   "id": "7ca81fbe",
   "metadata": {},
   "source": [
    "## Preprocessing"
   ]
  },
  {
   "cell_type": "code",
   "execution_count": 9,
   "id": "e5960295",
   "metadata": {},
   "outputs": [],
   "source": [
    "# Encoding categorical data using cat codes\n",
    "for col in telco_customer.columns[telco_customer.dtypes == 'object']:\n",
    "    if col!='churn':\n",
    "        telco_customer[col]=telco_customer[col].astype('category').cat.codes\n",
    "\n",
    "# Fill Null Values of target column\n",
    "telco_customer['churn'] =  telco_customer['churn'].fillna(telco_customer['churn'].mode()[0])\n",
    "\n",
    "# Manual encoding the target variable\n",
    "a={'yes':1,'no':0}\n",
    "telco_customer['churn']=telco_customer['churn'].map(a)"
   ]
  },
  {
   "cell_type": "markdown",
   "id": "9d155c19",
   "metadata": {},
   "source": [
    "## Seperate Features & Target Variable "
   ]
  },
  {
   "cell_type": "code",
   "execution_count": 10,
   "id": "0a276b7c",
   "metadata": {},
   "outputs": [],
   "source": [
    "X = telco_customer.drop('churn',axis=1)\n",
    "y=telco_customer['churn']"
   ]
  },
  {
   "cell_type": "code",
   "execution_count": 11,
   "id": "98d68459",
   "metadata": {},
   "outputs": [],
   "source": [
    "cat_cols = X.select_dtypes(include=['int8']).columns.values"
   ]
  },
  {
   "cell_type": "code",
   "execution_count": 12,
   "id": "fe0b2af9",
   "metadata": {},
   "outputs": [],
   "source": [
    "num_cols = X.select_dtypes(include=['float64']).columns.values\n"
   ]
  },
  {
   "cell_type": "markdown",
   "id": "b306a334",
   "metadata": {},
   "source": [
    "## Train Test Split"
   ]
  },
  {
   "cell_type": "code",
   "execution_count": 13,
   "id": "0ac4426a",
   "metadata": {},
   "outputs": [],
   "source": [
    "X_train, X_test, y_train, y_test = train_test_split(X, y, test_size=0.2, random_state=17)"
   ]
  },
  {
   "cell_type": "markdown",
   "id": "0234d6ab",
   "metadata": {},
   "source": [
    "## Feature Engineering pipeline"
   ]
  },
  {
   "cell_type": "code",
   "execution_count": 14,
   "id": "38c6ae18",
   "metadata": {},
   "outputs": [],
   "source": [
    "# Imputation Transformer to fill null values\n",
    "fill_null_col = ColumnTransformer([\n",
    "        ('FillCat',SimpleImputer(strategy='most_frequent'),cat_cols),\n",
    "        ('FillNumeric',SimpleImputer(strategy='median'),num_cols),\n",
    "    ],remainder='passthrough')\n",
    "\n",
    "# Scaling\n",
    "scale_col = ColumnTransformer([\n",
    "    ('scale', StandardScaler(),slice(5,18))\n",
    "])\n",
    "\n",
    "# Principal Component Analysis\n",
    "pca_col = ColumnTransformer([\n",
    "    ('PCA', PCA(n_components=10),slice(0,18))\n",
    "])\n",
    "\n",
    "# # Model\n",
    "logistic=LogisticRegression()\n",
    "decision=DecisionTreeClassifier()\n",
    "random = RandomForestClassifier()"
   ]
  },
  {
   "cell_type": "markdown",
   "id": "5c540b8e",
   "metadata": {},
   "source": [
    "## Model Pipeline"
   ]
  },
  {
   "cell_type": "code",
   "execution_count": 15,
   "id": "0ed925b2",
   "metadata": {},
   "outputs": [],
   "source": [
    "pipeline_model1 = Pipeline([('fill_null_col', fill_null_col),\n",
    "                 ('scale_col', scale_col),\n",
    "                 ('pca_col', pca_col),\n",
    "                 ('classifier1', logistic)])\n",
    "\n",
    "pipeline_model2 = Pipeline([('fill_null_col', fill_null_col),\n",
    "                 ('scale_col', scale_col),\n",
    "                 ('pca_col', pca_col),\n",
    "                 ('classifier2', decision)])\n",
    "\n",
    "pipeline_model3 = Pipeline([('fill_null_col', fill_null_col),\n",
    "                 ('scale_col', scale_col),\n",
    "                 ('pca_col', pca_col),\n",
    "                 ('classifier3', random)])"
   ]
  },
  {
   "cell_type": "code",
   "execution_count": 16,
   "id": "cf58071f",
   "metadata": {},
   "outputs": [],
   "source": [
    "pipelines=[pipeline_model1,pipeline_model2,pipeline_model3]"
   ]
  },
  {
   "cell_type": "code",
   "execution_count": 17,
   "id": "fea1e2a0",
   "metadata": {},
   "outputs": [],
   "source": [
    "best_accuracy=0.0\n",
    "best_classifier=0\n",
    "best_pipeline=\"\""
   ]
  },
  {
   "cell_type": "code",
   "execution_count": 18,
   "id": "23aa1044",
   "metadata": {},
   "outputs": [],
   "source": [
    "pipe_dict={0:'Logistic Regression',1:'Decision Tree',2:'Random Forest'}\n",
    "\n",
    "# Fitting pipelines\n",
    "for pipe in pipelines:\n",
    "    pipe.fit(X_train,y_train)"
   ]
  },
  {
   "cell_type": "code",
   "execution_count": 19,
   "id": "139947a3",
   "metadata": {},
   "outputs": [
    {
     "name": "stdout",
     "output_type": "stream",
     "text": [
      "Logistic Regression Test Accuracy : 0.8552941176470589\n",
      "Decision Tree Test Accuracy : 0.8105882352941176\n",
      "Random Forest Test Accuracy : 0.8811764705882353\n"
     ]
    }
   ],
   "source": [
    "for i,model in enumerate(pipelines):\n",
    "    print(\"{} Test Accuracy : {}\".format(pipe_dict[i],model.score(X_test,y_test)))"
   ]
  },
  {
   "cell_type": "code",
   "execution_count": 20,
   "id": "e18fa1ae",
   "metadata": {},
   "outputs": [
    {
     "name": "stdout",
     "output_type": "stream",
     "text": [
      "\n",
      "Logistic Regression Classification Report :\n",
      "               precision    recall  f1-score   support\n",
      "\n",
      "           0       0.85      1.00      0.92       724\n",
      "           1       1.00      0.02      0.05       126\n",
      "\n",
      "    accuracy                           0.86       850\n",
      "   macro avg       0.93      0.51      0.48       850\n",
      "weighted avg       0.88      0.86      0.79       850\n",
      "\n",
      "\n",
      "Decision Tree Classification Report :\n",
      "               precision    recall  f1-score   support\n",
      "\n",
      "           0       0.90      0.88      0.89       724\n",
      "           1       0.38      0.42      0.40       126\n",
      "\n",
      "    accuracy                           0.81       850\n",
      "   macro avg       0.64      0.65      0.64       850\n",
      "weighted avg       0.82      0.81      0.81       850\n",
      "\n",
      "\n",
      "Random Forest Classification Report :\n",
      "               precision    recall  f1-score   support\n",
      "\n",
      "           0       0.88      0.99      0.93       724\n",
      "           1       0.88      0.23      0.36       126\n",
      "\n",
      "    accuracy                           0.88       850\n",
      "   macro avg       0.88      0.61      0.65       850\n",
      "weighted avg       0.88      0.88      0.85       850\n",
      "\n"
     ]
    }
   ],
   "source": [
    "for i,model in enumerate(pipelines):\n",
    "    pred=model.predict(X_test)\n",
    "    print(\"\\n{} Classification Report :\\n {}\".format(pipe_dict[i],classification_report(y_test,pred)))"
   ]
  },
  {
   "cell_type": "code",
   "execution_count": 21,
   "id": "154ac400",
   "metadata": {},
   "outputs": [
    {
     "name": "stdout",
     "output_type": "stream",
     "text": [
      "Classifier with the best accuracy:Random Forest\n"
     ]
    }
   ],
   "source": [
    "for i,model in enumerate(pipelines):\n",
    "    if model.score(X_test,y_test)>best_accuracy:\n",
    "        best_accuracy=model.score(X_test,y_test)\n",
    "        best_pipeline=model\n",
    "        best_classifier=i\n",
    "print('Classifier with the best accuracy:{}'.format(pipe_dict[best_classifier]))"
   ]
  },
  {
   "cell_type": "markdown",
   "id": "b187a36e",
   "metadata": {},
   "source": [
    "## Best Hyperparameters for Random Forest Classifier Using GridSearchCV using a pipeline"
   ]
  },
  {
   "cell_type": "code",
   "execution_count": null,
   "id": "c8207d76",
   "metadata": {},
   "outputs": [],
   "source": [
    "params = [{\"classifier3__n_estimators\": range(100, 501, 100),\n",
    "           \"classifier3__max_depth\":range(10,30,10),\n",
    "           \"classifier3__min_samples_leaf\":[1, 2, 4],\n",
    "           \"classifier3__min_samples_split\": [2, 5, 10],\n",
    "          }]\n",
    "                 \n",
    "randomized_cv = GridSearchCV(estimator = pipeline_model3,\n",
    "                           param_grid = params,\n",
    "                           cv = 10 ,verbose = 1, n_jobs=-1)\n",
    "\n",
    "randomized_cv.fit(X_train,y_train)\n",
    "randomized_cv.best_params_"
   ]
  },
  {
   "cell_type": "code",
   "execution_count": null,
   "id": "33e63991",
   "metadata": {},
   "outputs": [],
   "source": [
    "randomized_cv = Pipeline([('fill_null_col', fill_null_col),\n",
    "                 ('scale_col', scale_col),\n",
    "                 ('pca_col', pca_col),\n",
    "                 ('classifier3', RandomForestClassifier(max_depth=20,min_samples_leaf=1,min_samples_split=5,n_estimators=400))])\n",
    "\n",
    "randomized_cv.fit(X_train,y_train)\n",
    "filename = 'modelv1.pkl'\n",
    "pickle.dump(randomized_cv, open(filename, 'wb'))"
   ]
  },
  {
   "cell_type": "markdown",
   "id": "c1c52c54",
   "metadata": {},
   "source": [
    "## Load the model from disk"
   ]
  },
  {
   "cell_type": "code",
   "execution_count": null,
   "id": "f15c2cd3",
   "metadata": {},
   "outputs": [],
   "source": [
    "filename = 'modelv1.pkl'\n",
    "loaded_model = pickle.load(open(filename, 'rb'))\n",
    "result = loaded_model.score(X_test, y_test)\n",
    "print(result)"
   ]
  },
  {
   "cell_type": "markdown",
   "id": "0b4e073b",
   "metadata": {},
   "source": [
    "## Model Prediction"
   ]
  },
  {
   "cell_type": "code",
   "execution_count": null,
   "id": "737839b9",
   "metadata": {},
   "outputs": [],
   "source": [
    "prediction = loaded_model.predict(X_test)\n",
    "prediction"
   ]
  },
  {
   "cell_type": "markdown",
   "id": "694e191e",
   "metadata": {},
   "source": [
    "## Model Evaluation"
   ]
  },
  {
   "cell_type": "code",
   "execution_count": null,
   "id": "88e432f5",
   "metadata": {},
   "outputs": [],
   "source": [
    "conf_matrix = confusion_matrix(y_test, prediction)\n",
    "print(\"confusion matrix\")\n",
    "print(conf_matrix)\n",
    "print(classification_report(y_test,prediction))"
   ]
  },
  {
   "cell_type": "code",
   "execution_count": null,
   "id": "97c203d8",
   "metadata": {},
   "outputs": [],
   "source": []
  },
  {
   "cell_type": "code",
   "execution_count": null,
   "id": "1a801fdd",
   "metadata": {},
   "outputs": [],
   "source": []
  }
 ],
 "metadata": {
  "kernelspec": {
   "display_name": "Vikas Python 3(ipykernel)",
   "language": "python",
   "name": "python3"
  },
  "language_info": {
   "codemirror_mode": {
    "name": "ipython",
    "version": 3
   },
   "file_extension": ".py",
   "mimetype": "text/x-python",
   "name": "python",
   "nbconvert_exporter": "python",
   "pygments_lexer": "ipython3",
   "version": "3.9.0"
  }
 },
 "nbformat": 4,
 "nbformat_minor": 5
}
