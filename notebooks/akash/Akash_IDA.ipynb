{
  "nbformat": 4,
  "nbformat_minor": 0,
  "metadata": {
    "colab": {
      "name": "Akash_IDA.ipynb",
      "provenance": [],
      "collapsed_sections": []
    },
    "kernelspec": {
      "display_name": "Python 3 (ipykernel)",
      "language": "python",
      "name": "python3"
    },
    "language_info": {
      "codemirror_mode": {
        "name": "ipython",
        "version": 3
      },
      "file_extension": ".py",
      "mimetype": "text/x-python",
      "name": "python",
      "nbconvert_exporter": "python",
      "pygments_lexer": "ipython3",
      "version": "3.9.6"
    }
  },
  "cells": [
    {
      "cell_type": "markdown",
      "metadata": {
        "id": "8jfXY-8EhQKk"
      },
      "source": [
        "# **Customer Churn Analysis**"
      ]
    },
    {
      "cell_type": "markdown",
      "metadata": {
        "id": "RKaBymvwDTSA"
      },
      "source": [
        "### Table of Contents\n",
        "\n",
        "* [Importing Required Libraries](#head1)\n",
        "* [Loading Data](#head2)\n",
        "* [Inittial Data Analysis](#head3)\n",
        "    * [Display first 5 rows of data](#subhead1)\n",
        "    * [Information related to dataset](#subhead2)\n",
        "    * [Converting Total Charges into numeric data type](#subhead3)\n",
        "    * [Checking Null Values](#subhead4)\n",
        "    * [Unique Value of each feature in the dataset](#subhead5)\n",
        "    * [Dropping Unnecessary Columns](#subhead6)\n",
        "    * [Convert Zip Code, Tenure Months and Churn Value into int64](#subhead7)\n",
        "    * [Categorical Features & Numeric Features](#subhead8)\n",
        "    * [Statistical Description of numeric Features](#subhead9)\n",
        "    * [Handling Null Values](#subhead10)\n",
        "    "
      ]
    },
    {
      "cell_type": "markdown",
      "metadata": {
        "id": "RlCmlho_hKvQ"
      },
      "source": [
        "## **Importing Required Libraries** <a class=\"anchor\" id=\"head1\"></a>"
      ]
    },
    {
      "cell_type": "code",
      "metadata": {
        "id": "gUbu617is2GS"
      },
      "source": [
        "import numpy as np\n",
        "import pandas as pd\n",
        "import matplotlib.pyplot as plt\n",
        "import seaborn as sns"
      ],
      "execution_count": 1,
      "outputs": []
    },
    {
      "cell_type": "markdown",
      "metadata": {
        "id": "0Om_DvEUERAg"
      },
      "source": [
        "## **Loading Data** <a class=\"anchor\" id=\"head2\"></a>"
      ]
    },
    {
      "cell_type": "code",
      "metadata": {
        "id": "tOnuLyRPDLb_"
      },
      "source": [
        "telecom_customer = pd.read_csv(\"https://raw.githubusercontent.com/TeamEpicProjects/Customer-Churn-Prediction/main/data/1/TelcoCustomerChurn.csv\")"
      ],
      "execution_count": 2,
      "outputs": []
    },
    {
      "cell_type": "markdown",
      "metadata": {
        "id": "UAouJpgCFpzd"
      },
      "source": [
        "## **Initial Data Analysis** <a class=\"anchor\" id=\"head3\"></a>"
      ]
    },
    {
      "cell_type": "markdown",
      "metadata": {
        "id": "g2ftSI4CFvAZ"
      },
      "source": [
        "**Display first 5 rows of data** <a class=\"anchor\" id=\"subhead1\"></a>"
      ]
    },
    {
      "cell_type": "code",
      "metadata": {
        "colab": {
          "base_uri": "https://localhost:8080/",
          "height": 330
        },
        "id": "B5Nzo02kFOHX",
        "outputId": "bc33505d-07a5-4e9f-ae0c-18e6148875fd"
      },
      "source": [
        "telecom_customer.head()"
      ],
      "execution_count": 3,
      "outputs": [
        {
          "output_type": "execute_result",
          "data": {
            "text/html": [
              "<div>\n",
              "<style scoped>\n",
              "    .dataframe tbody tr th:only-of-type {\n",
              "        vertical-align: middle;\n",
              "    }\n",
              "\n",
              "    .dataframe tbody tr th {\n",
              "        vertical-align: top;\n",
              "    }\n",
              "\n",
              "    .dataframe thead th {\n",
              "        text-align: right;\n",
              "    }\n",
              "</style>\n",
              "<table border=\"1\" class=\"dataframe\">\n",
              "  <thead>\n",
              "    <tr style=\"text-align: right;\">\n",
              "      <th></th>\n",
              "      <th>CustomerID</th>\n",
              "      <th>Count</th>\n",
              "      <th>Country</th>\n",
              "      <th>State</th>\n",
              "      <th>City</th>\n",
              "      <th>Zip Code</th>\n",
              "      <th>Lat Long</th>\n",
              "      <th>Latitude</th>\n",
              "      <th>Longitude</th>\n",
              "      <th>Gender</th>\n",
              "      <th>Senior Citizen</th>\n",
              "      <th>Partner</th>\n",
              "      <th>Dependents</th>\n",
              "      <th>Tenure Months</th>\n",
              "      <th>Phone Service</th>\n",
              "      <th>Multiple Lines</th>\n",
              "      <th>Internet Service</th>\n",
              "      <th>Online Security</th>\n",
              "      <th>Online Backup</th>\n",
              "      <th>Device Protection</th>\n",
              "      <th>Tech Support</th>\n",
              "      <th>Streaming TV</th>\n",
              "      <th>Streaming Movies</th>\n",
              "      <th>Contract</th>\n",
              "      <th>Paperless Billing</th>\n",
              "      <th>Payment Method</th>\n",
              "      <th>Monthly Charges</th>\n",
              "      <th>Total Charges</th>\n",
              "      <th>CLTV</th>\n",
              "      <th>Churn Reason</th>\n",
              "      <th>Churn Value</th>\n",
              "    </tr>\n",
              "  </thead>\n",
              "  <tbody>\n",
              "    <tr>\n",
              "      <th>0</th>\n",
              "      <td>5196-WPYOW</td>\n",
              "      <td>1.0</td>\n",
              "      <td>United States</td>\n",
              "      <td>California</td>\n",
              "      <td>Paso Robles</td>\n",
              "      <td>93446.0</td>\n",
              "      <td>35.634222, -120.728341</td>\n",
              "      <td>35.634222</td>\n",
              "      <td>-120.728341</td>\n",
              "      <td>Male</td>\n",
              "      <td>No</td>\n",
              "      <td>Yes</td>\n",
              "      <td>Yes</td>\n",
              "      <td>67.0</td>\n",
              "      <td>Yes</td>\n",
              "      <td>No</td>\n",
              "      <td>DSL</td>\n",
              "      <td>Yes</td>\n",
              "      <td>Yes</td>\n",
              "      <td>No</td>\n",
              "      <td>Yes</td>\n",
              "      <td>No</td>\n",
              "      <td>No</td>\n",
              "      <td>One year</td>\n",
              "      <td>No</td>\n",
              "      <td>Mailed check</td>\n",
              "      <td>60.05</td>\n",
              "      <td>3994.05</td>\n",
              "      <td>6148.0</td>\n",
              "      <td>NaN</td>\n",
              "      <td>0.0</td>\n",
              "    </tr>\n",
              "    <tr>\n",
              "      <th>1</th>\n",
              "      <td>8189-HBVRW</td>\n",
              "      <td>1.0</td>\n",
              "      <td>United States</td>\n",
              "      <td>California</td>\n",
              "      <td>Los Angeles</td>\n",
              "      <td>90005.0</td>\n",
              "      <td>34.059281, -118.30742</td>\n",
              "      <td>34.059281</td>\n",
              "      <td>-118.307420</td>\n",
              "      <td>Female</td>\n",
              "      <td>No</td>\n",
              "      <td>No</td>\n",
              "      <td>No</td>\n",
              "      <td>53.0</td>\n",
              "      <td>Yes</td>\n",
              "      <td>Yes</td>\n",
              "      <td>Fiber optic</td>\n",
              "      <td>Yes</td>\n",
              "      <td>Yes</td>\n",
              "      <td>Yes</td>\n",
              "      <td>NaN</td>\n",
              "      <td>No</td>\n",
              "      <td>No</td>\n",
              "      <td>Month-to-month</td>\n",
              "      <td>No</td>\n",
              "      <td>Electronic check</td>\n",
              "      <td>90.80</td>\n",
              "      <td>4921.2</td>\n",
              "      <td>5249.0</td>\n",
              "      <td>NaN</td>\n",
              "      <td>0.0</td>\n",
              "    </tr>\n",
              "    <tr>\n",
              "      <th>2</th>\n",
              "      <td>4091-TVOCN</td>\n",
              "      <td>1.0</td>\n",
              "      <td>United States</td>\n",
              "      <td>California</td>\n",
              "      <td>Potrero</td>\n",
              "      <td>91963.0</td>\n",
              "      <td>32.619465, -116.593605</td>\n",
              "      <td>32.619465</td>\n",
              "      <td>-116.593605</td>\n",
              "      <td>Male</td>\n",
              "      <td>No</td>\n",
              "      <td>No</td>\n",
              "      <td>No</td>\n",
              "      <td>48.0</td>\n",
              "      <td>Yes</td>\n",
              "      <td>Yes</td>\n",
              "      <td>DSL</td>\n",
              "      <td>Yes</td>\n",
              "      <td>No</td>\n",
              "      <td>Yes</td>\n",
              "      <td>No</td>\n",
              "      <td>Yes</td>\n",
              "      <td>Yes</td>\n",
              "      <td>One year</td>\n",
              "      <td>Yes</td>\n",
              "      <td>Credit card (automatic)</td>\n",
              "      <td>78.75</td>\n",
              "      <td>3682.45</td>\n",
              "      <td>2257.0</td>\n",
              "      <td>NaN</td>\n",
              "      <td>0.0</td>\n",
              "    </tr>\n",
              "    <tr>\n",
              "      <th>3</th>\n",
              "      <td>9603-OAIHC</td>\n",
              "      <td>1.0</td>\n",
              "      <td>United States</td>\n",
              "      <td>California</td>\n",
              "      <td>Palmdale</td>\n",
              "      <td>93551.0</td>\n",
              "      <td>34.613476, -118.256358</td>\n",
              "      <td>34.613476</td>\n",
              "      <td>-118.256358</td>\n",
              "      <td>Male</td>\n",
              "      <td>Yes</td>\n",
              "      <td>No</td>\n",
              "      <td>No</td>\n",
              "      <td>1.0</td>\n",
              "      <td>Yes</td>\n",
              "      <td>No</td>\n",
              "      <td>Fiber optic</td>\n",
              "      <td>No</td>\n",
              "      <td>No</td>\n",
              "      <td>No</td>\n",
              "      <td>No</td>\n",
              "      <td>No</td>\n",
              "      <td>No</td>\n",
              "      <td>Month-to-month</td>\n",
              "      <td>Yes</td>\n",
              "      <td>Electronic check</td>\n",
              "      <td>70.05</td>\n",
              "      <td>70.05</td>\n",
              "      <td>2469.0</td>\n",
              "      <td>NaN</td>\n",
              "      <td>0.0</td>\n",
              "    </tr>\n",
              "    <tr>\n",
              "      <th>4</th>\n",
              "      <td>8647-SDTWQ</td>\n",
              "      <td>1.0</td>\n",
              "      <td>United States</td>\n",
              "      <td>California</td>\n",
              "      <td>Hood</td>\n",
              "      <td>95639.0</td>\n",
              "      <td>38.375325, -121.507935</td>\n",
              "      <td>38.375325</td>\n",
              "      <td>-121.507935</td>\n",
              "      <td>Male</td>\n",
              "      <td>No</td>\n",
              "      <td>Yes</td>\n",
              "      <td>Yes</td>\n",
              "      <td>57.0</td>\n",
              "      <td>Yes</td>\n",
              "      <td>Yes</td>\n",
              "      <td>Fiber optic</td>\n",
              "      <td>No</td>\n",
              "      <td>No</td>\n",
              "      <td>No</td>\n",
              "      <td>No</td>\n",
              "      <td>No</td>\n",
              "      <td>No</td>\n",
              "      <td>Month-to-month</td>\n",
              "      <td>Yes</td>\n",
              "      <td>Electronic check</td>\n",
              "      <td>74.30</td>\n",
              "      <td>4018.35</td>\n",
              "      <td>4133.0</td>\n",
              "      <td>NaN</td>\n",
              "      <td>0.0</td>\n",
              "    </tr>\n",
              "  </tbody>\n",
              "</table>\n",
              "</div>"
            ],
            "text/plain": [
              "   CustomerID  Count        Country  ...    CLTV Churn Reason  Churn Value\n",
              "0  5196-WPYOW    1.0  United States  ...  6148.0          NaN          0.0\n",
              "1  8189-HBVRW    1.0  United States  ...  5249.0          NaN          0.0\n",
              "2  4091-TVOCN    1.0  United States  ...  2257.0          NaN          0.0\n",
              "3  9603-OAIHC    1.0  United States  ...  2469.0          NaN          0.0\n",
              "4  8647-SDTWQ    1.0  United States  ...  4133.0          NaN          0.0\n",
              "\n",
              "[5 rows x 31 columns]"
            ]
          },
          "metadata": {
            "tags": []
          },
          "execution_count": 3
        }
      ]
    },
    {
      "cell_type": "markdown",
      "metadata": {
        "id": "OhoVpoKmF5Ug"
      },
      "source": [
        "**Information related to dataset** <a class=\"anchor\" id=\"subhead2\"></a>"
      ]
    },
    {
      "cell_type": "code",
      "metadata": {
        "colab": {
          "base_uri": "https://localhost:8080/"
        },
        "id": "2_Hgs0gNFbRw",
        "outputId": "1c1e242a-72fc-45b3-9ba9-e62fe41a6abf"
      },
      "source": [
        "telecom_customer.info()"
      ],
      "execution_count": 4,
      "outputs": [
        {
          "output_type": "stream",
          "text": [
            "<class 'pandas.core.frame.DataFrame'>\n",
            "RangeIndex: 4718 entries, 0 to 4717\n",
            "Data columns (total 31 columns):\n",
            " #   Column             Non-Null Count  Dtype  \n",
            "---  ------             --------------  -----  \n",
            " 0   CustomerID         4687 non-null   object \n",
            " 1   Count              4691 non-null   float64\n",
            " 2   Country            4708 non-null   object \n",
            " 3   State              4715 non-null   object \n",
            " 4   City               4688 non-null   object \n",
            " 5   Zip Code           4698 non-null   float64\n",
            " 6   Lat Long           4713 non-null   object \n",
            " 7   Latitude           4695 non-null   float64\n",
            " 8   Longitude          4685 non-null   float64\n",
            " 9   Gender             4698 non-null   object \n",
            " 10  Senior Citizen     4711 non-null   object \n",
            " 11  Partner            4678 non-null   object \n",
            " 12  Dependents         4672 non-null   object \n",
            " 13  Tenure Months      4704 non-null   float64\n",
            " 14  Phone Service      4692 non-null   object \n",
            " 15  Multiple Lines     4696 non-null   object \n",
            " 16  Internet Service   4692 non-null   object \n",
            " 17  Online Security    4674 non-null   object \n",
            " 18  Online Backup      4714 non-null   object \n",
            " 19  Device Protection  4711 non-null   object \n",
            " 20  Tech Support       4695 non-null   object \n",
            " 21  Streaming TV       4686 non-null   object \n",
            " 22  Streaming Movies   4688 non-null   object \n",
            " 23  Contract           4672 non-null   object \n",
            " 24  Paperless Billing  4694 non-null   object \n",
            " 25  Payment Method     4717 non-null   object \n",
            " 26  Monthly Charges    4714 non-null   float64\n",
            " 27  Total Charges      4704 non-null   object \n",
            " 28  CLTV               4692 non-null   float64\n",
            " 29  Churn Reason       1261 non-null   object \n",
            " 30  Churn Value        4693 non-null   float64\n",
            "dtypes: float64(8), object(23)\n",
            "memory usage: 1.1+ MB\n"
          ],
          "name": "stdout"
        }
      ]
    },
    {
      "cell_type": "markdown",
      "metadata": {
        "id": "i0DlO4EdHHE5"
      },
      "source": [
        "* Total Charges should be in float64 instead of object\n",
        "* All features contains null values"
      ]
    },
    {
      "cell_type": "markdown",
      "metadata": {
        "id": "dZNwhn_hMbN5"
      },
      "source": [
        "**Converting Total Charges into numeric data type** <a class=\"anchor\" id=\"subhead3\"></a>"
      ]
    },
    {
      "cell_type": "code",
      "metadata": {
        "id": "WmZvuHrCMu87"
      },
      "source": [
        "telecom_customer['Total Charges'] = pd.to_numeric(telecom_customer['Total Charges'],errors=\"coerce\")"
      ],
      "execution_count": 5,
      "outputs": []
    },
    {
      "cell_type": "markdown",
      "metadata": {
        "id": "9IJC6ra9HmaC"
      },
      "source": [
        "**Checking Null Values** <a class=\"anchor\" id=\"subhead4\"></a>"
      ]
    },
    {
      "cell_type": "code",
      "metadata": {
        "colab": {
          "base_uri": "https://localhost:8080/"
        },
        "id": "v45R88eYFktB",
        "outputId": "570ff131-ee9b-4b8f-8163-13dac73b023c"
      },
      "source": [
        "telecom_customer.isnull().sum()"
      ],
      "execution_count": 6,
      "outputs": [
        {
          "output_type": "execute_result",
          "data": {
            "text/plain": [
              "CustomerID             31\n",
              "Count                  27\n",
              "Country                10\n",
              "State                   3\n",
              "City                   30\n",
              "Zip Code               20\n",
              "Lat Long                5\n",
              "Latitude               23\n",
              "Longitude              33\n",
              "Gender                 20\n",
              "Senior Citizen          7\n",
              "Partner                40\n",
              "Dependents             46\n",
              "Tenure Months          14\n",
              "Phone Service          26\n",
              "Multiple Lines         22\n",
              "Internet Service       26\n",
              "Online Security        44\n",
              "Online Backup           4\n",
              "Device Protection       7\n",
              "Tech Support           23\n",
              "Streaming TV           32\n",
              "Streaming Movies       30\n",
              "Contract               46\n",
              "Paperless Billing      24\n",
              "Payment Method          1\n",
              "Monthly Charges         4\n",
              "Total Charges          23\n",
              "CLTV                   26\n",
              "Churn Reason         3457\n",
              "Churn Value            25\n",
              "dtype: int64"
            ]
          },
          "metadata": {
            "tags": []
          },
          "execution_count": 6
        }
      ]
    },
    {
      "cell_type": "markdown",
      "metadata": {
        "id": "D7HINeaGH8XU"
      },
      "source": [
        "**Unique Value of each feature in the dataset** <a class=\"anchor\" id=\"subhead5\"></a>"
      ]
    },
    {
      "cell_type": "code",
      "metadata": {
        "colab": {
          "base_uri": "https://localhost:8080/"
        },
        "id": "yAYuvgQJH0ON",
        "outputId": "177cde8f-4551-4a1e-a47e-c5e960aa8071"
      },
      "source": [
        "telecom_customer.nunique()\n"
      ],
      "execution_count": 7,
      "outputs": [
        {
          "output_type": "execute_result",
          "data": {
            "text/plain": [
              "CustomerID           4687\n",
              "Count                   1\n",
              "Country                 1\n",
              "State                   1\n",
              "City                 1117\n",
              "Zip Code             1633\n",
              "Lat Long             1633\n",
              "Latitude             1632\n",
              "Longitude            1632\n",
              "Gender                  2\n",
              "Senior Citizen          2\n",
              "Partner                 2\n",
              "Dependents              2\n",
              "Tenure Months          73\n",
              "Phone Service           2\n",
              "Multiple Lines          3\n",
              "Internet Service        3\n",
              "Online Security         3\n",
              "Online Backup           3\n",
              "Device Protection       3\n",
              "Tech Support            3\n",
              "Streaming TV            3\n",
              "Streaming Movies        3\n",
              "Contract                3\n",
              "Paperless Billing       2\n",
              "Payment Method          4\n",
              "Monthly Charges      1421\n",
              "Total Charges        4462\n",
              "CLTV                 2807\n",
              "Churn Reason           20\n",
              "Churn Value             2\n",
              "dtype: int64"
            ]
          },
          "metadata": {
            "tags": []
          },
          "execution_count": 7
        }
      ]
    },
    {
      "cell_type": "markdown",
      "metadata": {
        "id": "HhWhUdhhIw1T"
      },
      "source": [
        "* Count, Country and State have only 1 unique value, no relevant contribution in our analysis so drop it.\n",
        "* CustomerID is also not required for our analysis so we have to drop it.\n",
        "* Latitude & Longitude is not required as we already have Lat Long,so drop them."
      ]
    },
    {
      "cell_type": "markdown",
      "metadata": {
        "id": "ceUiu0fwKMNS"
      },
      "source": [
        "**Dropping Unnecessary Columns** <a class=\"anchor\" id=\"subhead6\"></a>"
      ]
    },
    {
      "cell_type": "code",
      "metadata": {
        "colab": {
          "base_uri": "https://localhost:8080/",
          "height": 738
        },
        "id": "GyI6p64kIVYu",
        "outputId": "00a3b51d-2ece-40a2-e008-17ae69208c9a"
      },
      "source": [
        "telecom_customer.drop(['CustomerID','Count','Country','State','Lat Long'],axis=1,inplace=True)\n",
        "telecom_customer"
      ],
      "execution_count": 8,
      "outputs": [
        {
          "output_type": "execute_result",
          "data": {
            "text/html": [
              "<div>\n",
              "<style scoped>\n",
              "    .dataframe tbody tr th:only-of-type {\n",
              "        vertical-align: middle;\n",
              "    }\n",
              "\n",
              "    .dataframe tbody tr th {\n",
              "        vertical-align: top;\n",
              "    }\n",
              "\n",
              "    .dataframe thead th {\n",
              "        text-align: right;\n",
              "    }\n",
              "</style>\n",
              "<table border=\"1\" class=\"dataframe\">\n",
              "  <thead>\n",
              "    <tr style=\"text-align: right;\">\n",
              "      <th></th>\n",
              "      <th>City</th>\n",
              "      <th>Zip Code</th>\n",
              "      <th>Latitude</th>\n",
              "      <th>Longitude</th>\n",
              "      <th>Gender</th>\n",
              "      <th>Senior Citizen</th>\n",
              "      <th>Partner</th>\n",
              "      <th>Dependents</th>\n",
              "      <th>Tenure Months</th>\n",
              "      <th>Phone Service</th>\n",
              "      <th>Multiple Lines</th>\n",
              "      <th>Internet Service</th>\n",
              "      <th>Online Security</th>\n",
              "      <th>Online Backup</th>\n",
              "      <th>Device Protection</th>\n",
              "      <th>Tech Support</th>\n",
              "      <th>Streaming TV</th>\n",
              "      <th>Streaming Movies</th>\n",
              "      <th>Contract</th>\n",
              "      <th>Paperless Billing</th>\n",
              "      <th>Payment Method</th>\n",
              "      <th>Monthly Charges</th>\n",
              "      <th>Total Charges</th>\n",
              "      <th>CLTV</th>\n",
              "      <th>Churn Reason</th>\n",
              "      <th>Churn Value</th>\n",
              "    </tr>\n",
              "  </thead>\n",
              "  <tbody>\n",
              "    <tr>\n",
              "      <th>0</th>\n",
              "      <td>Paso Robles</td>\n",
              "      <td>93446.0</td>\n",
              "      <td>35.634222</td>\n",
              "      <td>-120.728341</td>\n",
              "      <td>Male</td>\n",
              "      <td>No</td>\n",
              "      <td>Yes</td>\n",
              "      <td>Yes</td>\n",
              "      <td>67.0</td>\n",
              "      <td>Yes</td>\n",
              "      <td>No</td>\n",
              "      <td>DSL</td>\n",
              "      <td>Yes</td>\n",
              "      <td>Yes</td>\n",
              "      <td>No</td>\n",
              "      <td>Yes</td>\n",
              "      <td>No</td>\n",
              "      <td>No</td>\n",
              "      <td>One year</td>\n",
              "      <td>No</td>\n",
              "      <td>Mailed check</td>\n",
              "      <td>60.05</td>\n",
              "      <td>3994.05</td>\n",
              "      <td>6148.0</td>\n",
              "      <td>NaN</td>\n",
              "      <td>0.0</td>\n",
              "    </tr>\n",
              "    <tr>\n",
              "      <th>1</th>\n",
              "      <td>Los Angeles</td>\n",
              "      <td>90005.0</td>\n",
              "      <td>34.059281</td>\n",
              "      <td>-118.307420</td>\n",
              "      <td>Female</td>\n",
              "      <td>No</td>\n",
              "      <td>No</td>\n",
              "      <td>No</td>\n",
              "      <td>53.0</td>\n",
              "      <td>Yes</td>\n",
              "      <td>Yes</td>\n",
              "      <td>Fiber optic</td>\n",
              "      <td>Yes</td>\n",
              "      <td>Yes</td>\n",
              "      <td>Yes</td>\n",
              "      <td>NaN</td>\n",
              "      <td>No</td>\n",
              "      <td>No</td>\n",
              "      <td>Month-to-month</td>\n",
              "      <td>No</td>\n",
              "      <td>Electronic check</td>\n",
              "      <td>90.80</td>\n",
              "      <td>4921.20</td>\n",
              "      <td>5249.0</td>\n",
              "      <td>NaN</td>\n",
              "      <td>0.0</td>\n",
              "    </tr>\n",
              "    <tr>\n",
              "      <th>2</th>\n",
              "      <td>Potrero</td>\n",
              "      <td>91963.0</td>\n",
              "      <td>32.619465</td>\n",
              "      <td>-116.593605</td>\n",
              "      <td>Male</td>\n",
              "      <td>No</td>\n",
              "      <td>No</td>\n",
              "      <td>No</td>\n",
              "      <td>48.0</td>\n",
              "      <td>Yes</td>\n",
              "      <td>Yes</td>\n",
              "      <td>DSL</td>\n",
              "      <td>Yes</td>\n",
              "      <td>No</td>\n",
              "      <td>Yes</td>\n",
              "      <td>No</td>\n",
              "      <td>Yes</td>\n",
              "      <td>Yes</td>\n",
              "      <td>One year</td>\n",
              "      <td>Yes</td>\n",
              "      <td>Credit card (automatic)</td>\n",
              "      <td>78.75</td>\n",
              "      <td>3682.45</td>\n",
              "      <td>2257.0</td>\n",
              "      <td>NaN</td>\n",
              "      <td>0.0</td>\n",
              "    </tr>\n",
              "    <tr>\n",
              "      <th>3</th>\n",
              "      <td>Palmdale</td>\n",
              "      <td>93551.0</td>\n",
              "      <td>34.613476</td>\n",
              "      <td>-118.256358</td>\n",
              "      <td>Male</td>\n",
              "      <td>Yes</td>\n",
              "      <td>No</td>\n",
              "      <td>No</td>\n",
              "      <td>1.0</td>\n",
              "      <td>Yes</td>\n",
              "      <td>No</td>\n",
              "      <td>Fiber optic</td>\n",
              "      <td>No</td>\n",
              "      <td>No</td>\n",
              "      <td>No</td>\n",
              "      <td>No</td>\n",
              "      <td>No</td>\n",
              "      <td>No</td>\n",
              "      <td>Month-to-month</td>\n",
              "      <td>Yes</td>\n",
              "      <td>Electronic check</td>\n",
              "      <td>70.05</td>\n",
              "      <td>70.05</td>\n",
              "      <td>2469.0</td>\n",
              "      <td>NaN</td>\n",
              "      <td>0.0</td>\n",
              "    </tr>\n",
              "    <tr>\n",
              "      <th>4</th>\n",
              "      <td>Hood</td>\n",
              "      <td>95639.0</td>\n",
              "      <td>38.375325</td>\n",
              "      <td>-121.507935</td>\n",
              "      <td>Male</td>\n",
              "      <td>No</td>\n",
              "      <td>Yes</td>\n",
              "      <td>Yes</td>\n",
              "      <td>57.0</td>\n",
              "      <td>Yes</td>\n",
              "      <td>Yes</td>\n",
              "      <td>Fiber optic</td>\n",
              "      <td>No</td>\n",
              "      <td>No</td>\n",
              "      <td>No</td>\n",
              "      <td>No</td>\n",
              "      <td>No</td>\n",
              "      <td>No</td>\n",
              "      <td>Month-to-month</td>\n",
              "      <td>Yes</td>\n",
              "      <td>Electronic check</td>\n",
              "      <td>74.30</td>\n",
              "      <td>4018.35</td>\n",
              "      <td>4133.0</td>\n",
              "      <td>NaN</td>\n",
              "      <td>0.0</td>\n",
              "    </tr>\n",
              "    <tr>\n",
              "      <th>...</th>\n",
              "      <td>...</td>\n",
              "      <td>...</td>\n",
              "      <td>...</td>\n",
              "      <td>...</td>\n",
              "      <td>...</td>\n",
              "      <td>...</td>\n",
              "      <td>...</td>\n",
              "      <td>...</td>\n",
              "      <td>...</td>\n",
              "      <td>...</td>\n",
              "      <td>...</td>\n",
              "      <td>...</td>\n",
              "      <td>...</td>\n",
              "      <td>...</td>\n",
              "      <td>...</td>\n",
              "      <td>...</td>\n",
              "      <td>...</td>\n",
              "      <td>...</td>\n",
              "      <td>...</td>\n",
              "      <td>...</td>\n",
              "      <td>...</td>\n",
              "      <td>...</td>\n",
              "      <td>...</td>\n",
              "      <td>...</td>\n",
              "      <td>...</td>\n",
              "      <td>...</td>\n",
              "    </tr>\n",
              "    <tr>\n",
              "      <th>4713</th>\n",
              "      <td>Orange</td>\n",
              "      <td>92866.0</td>\n",
              "      <td>33.784597</td>\n",
              "      <td>-117.844535</td>\n",
              "      <td>Female</td>\n",
              "      <td>No</td>\n",
              "      <td>No</td>\n",
              "      <td>No</td>\n",
              "      <td>15.0</td>\n",
              "      <td>Yes</td>\n",
              "      <td>No</td>\n",
              "      <td>No</td>\n",
              "      <td>No internet service</td>\n",
              "      <td>No internet service</td>\n",
              "      <td>No internet service</td>\n",
              "      <td>No internet service</td>\n",
              "      <td>No internet service</td>\n",
              "      <td>No internet service</td>\n",
              "      <td>One year</td>\n",
              "      <td>No</td>\n",
              "      <td>Credit card (automatic)</td>\n",
              "      <td>20.10</td>\n",
              "      <td>302.45</td>\n",
              "      <td>4359.0</td>\n",
              "      <td>NaN</td>\n",
              "      <td>0.0</td>\n",
              "    </tr>\n",
              "    <tr>\n",
              "      <th>4714</th>\n",
              "      <td>San Francisco</td>\n",
              "      <td>94107.0</td>\n",
              "      <td>37.768881</td>\n",
              "      <td>-122.395521</td>\n",
              "      <td>Female</td>\n",
              "      <td>No</td>\n",
              "      <td>Yes</td>\n",
              "      <td>Yes</td>\n",
              "      <td>71.0</td>\n",
              "      <td>Yes</td>\n",
              "      <td>Yes</td>\n",
              "      <td>Fiber optic</td>\n",
              "      <td>Yes</td>\n",
              "      <td>Yes</td>\n",
              "      <td>Yes</td>\n",
              "      <td>No</td>\n",
              "      <td>Yes</td>\n",
              "      <td>No</td>\n",
              "      <td>Two year</td>\n",
              "      <td>Yes</td>\n",
              "      <td>Credit card (automatic)</td>\n",
              "      <td>99.00</td>\n",
              "      <td>7061.65</td>\n",
              "      <td>4305.0</td>\n",
              "      <td>NaN</td>\n",
              "      <td>0.0</td>\n",
              "    </tr>\n",
              "    <tr>\n",
              "      <th>4715</th>\n",
              "      <td>San Dimas</td>\n",
              "      <td>91773.0</td>\n",
              "      <td>34.102119</td>\n",
              "      <td>-117.815532</td>\n",
              "      <td>Male</td>\n",
              "      <td>No</td>\n",
              "      <td>Yes</td>\n",
              "      <td>No</td>\n",
              "      <td>3.0</td>\n",
              "      <td>No</td>\n",
              "      <td>No phone service</td>\n",
              "      <td>DSL</td>\n",
              "      <td>No</td>\n",
              "      <td>No</td>\n",
              "      <td>No</td>\n",
              "      <td>No</td>\n",
              "      <td>No</td>\n",
              "      <td>Yes</td>\n",
              "      <td>Month-to-month</td>\n",
              "      <td>Yes</td>\n",
              "      <td>Electronic check</td>\n",
              "      <td>35.15</td>\n",
              "      <td>99.75</td>\n",
              "      <td>2987.0</td>\n",
              "      <td>Attitude of support person</td>\n",
              "      <td>1.0</td>\n",
              "    </tr>\n",
              "    <tr>\n",
              "      <th>4716</th>\n",
              "      <td>Klamath River</td>\n",
              "      <td>96050.0</td>\n",
              "      <td>41.816595</td>\n",
              "      <td>-122.948287</td>\n",
              "      <td>Female</td>\n",
              "      <td>No</td>\n",
              "      <td>Yes</td>\n",
              "      <td>No</td>\n",
              "      <td>17.0</td>\n",
              "      <td>Yes</td>\n",
              "      <td>No</td>\n",
              "      <td>Fiber optic</td>\n",
              "      <td>No</td>\n",
              "      <td>No</td>\n",
              "      <td>Yes</td>\n",
              "      <td>Yes</td>\n",
              "      <td>Yes</td>\n",
              "      <td>Yes</td>\n",
              "      <td>One year</td>\n",
              "      <td>No</td>\n",
              "      <td>Bank transfer (automatic)</td>\n",
              "      <td>98.60</td>\n",
              "      <td>1704.95</td>\n",
              "      <td>5160.0</td>\n",
              "      <td>Moved</td>\n",
              "      <td>1.0</td>\n",
              "    </tr>\n",
              "    <tr>\n",
              "      <th>4717</th>\n",
              "      <td>Daly City</td>\n",
              "      <td>94015.0</td>\n",
              "      <td>37.680844</td>\n",
              "      <td>-122.481310</td>\n",
              "      <td>Male</td>\n",
              "      <td>Yes</td>\n",
              "      <td>No</td>\n",
              "      <td>No</td>\n",
              "      <td>45.0</td>\n",
              "      <td>Yes</td>\n",
              "      <td>No</td>\n",
              "      <td>DSL</td>\n",
              "      <td>Yes</td>\n",
              "      <td>No</td>\n",
              "      <td>Yes</td>\n",
              "      <td>No</td>\n",
              "      <td>No</td>\n",
              "      <td>Yes</td>\n",
              "      <td>One year</td>\n",
              "      <td>No</td>\n",
              "      <td>Credit card (automatic)</td>\n",
              "      <td>62.70</td>\n",
              "      <td>2791.50</td>\n",
              "      <td>2654.0</td>\n",
              "      <td>Limited range of services</td>\n",
              "      <td>1.0</td>\n",
              "    </tr>\n",
              "  </tbody>\n",
              "</table>\n",
              "<p>4718 rows × 26 columns</p>\n",
              "</div>"
            ],
            "text/plain": [
              "               City  Zip Code  ...                Churn Reason  Churn Value\n",
              "0       Paso Robles   93446.0  ...                         NaN          0.0\n",
              "1       Los Angeles   90005.0  ...                         NaN          0.0\n",
              "2           Potrero   91963.0  ...                         NaN          0.0\n",
              "3          Palmdale   93551.0  ...                         NaN          0.0\n",
              "4              Hood   95639.0  ...                         NaN          0.0\n",
              "...             ...       ...  ...                         ...          ...\n",
              "4713         Orange   92866.0  ...                         NaN          0.0\n",
              "4714  San Francisco   94107.0  ...                         NaN          0.0\n",
              "4715      San Dimas   91773.0  ...  Attitude of support person          1.0\n",
              "4716  Klamath River   96050.0  ...                       Moved          1.0\n",
              "4717      Daly City   94015.0  ...   Limited range of services          1.0\n",
              "\n",
              "[4718 rows x 26 columns]"
            ]
          },
          "metadata": {
            "tags": []
          },
          "execution_count": 8
        }
      ]
    },
    {
      "cell_type": "markdown",
      "metadata": {
        "id": "DjYSeSjHb1e2"
      },
      "source": [
        "* Zip Code, Tenure Months and Churn Value are having integer values but their type is float64"
      ]
    },
    {
      "cell_type": "markdown",
      "metadata": {
        "id": "XT2abzxGcQka"
      },
      "source": [
        "**Convert Zip Code, Tenure Months and Churn Value into int64** <a class=\"anchor\" id=\"subhead7\"></a>"
      ]
    },
    {
      "cell_type": "code",
      "metadata": {
        "colab": {
          "base_uri": "https://localhost:8080/",
          "height": 738
        },
        "id": "w5lvfIGabevE",
        "outputId": "b8b411b7-c7d0-4825-c2c3-128048aee9a6"
      },
      "source": [
        "telecom_customer[['Zip Code','Tenure Months','Churn Value']] = telecom_customer[['Zip Code','Tenure Months','Churn Value']].astype('Int64')\n",
        "telecom_customer"
      ],
      "execution_count": 9,
      "outputs": [
        {
          "output_type": "execute_result",
          "data": {
            "text/html": [
              "<div>\n",
              "<style scoped>\n",
              "    .dataframe tbody tr th:only-of-type {\n",
              "        vertical-align: middle;\n",
              "    }\n",
              "\n",
              "    .dataframe tbody tr th {\n",
              "        vertical-align: top;\n",
              "    }\n",
              "\n",
              "    .dataframe thead th {\n",
              "        text-align: right;\n",
              "    }\n",
              "</style>\n",
              "<table border=\"1\" class=\"dataframe\">\n",
              "  <thead>\n",
              "    <tr style=\"text-align: right;\">\n",
              "      <th></th>\n",
              "      <th>City</th>\n",
              "      <th>Zip Code</th>\n",
              "      <th>Latitude</th>\n",
              "      <th>Longitude</th>\n",
              "      <th>Gender</th>\n",
              "      <th>Senior Citizen</th>\n",
              "      <th>Partner</th>\n",
              "      <th>Dependents</th>\n",
              "      <th>Tenure Months</th>\n",
              "      <th>Phone Service</th>\n",
              "      <th>Multiple Lines</th>\n",
              "      <th>Internet Service</th>\n",
              "      <th>Online Security</th>\n",
              "      <th>Online Backup</th>\n",
              "      <th>Device Protection</th>\n",
              "      <th>Tech Support</th>\n",
              "      <th>Streaming TV</th>\n",
              "      <th>Streaming Movies</th>\n",
              "      <th>Contract</th>\n",
              "      <th>Paperless Billing</th>\n",
              "      <th>Payment Method</th>\n",
              "      <th>Monthly Charges</th>\n",
              "      <th>Total Charges</th>\n",
              "      <th>CLTV</th>\n",
              "      <th>Churn Reason</th>\n",
              "      <th>Churn Value</th>\n",
              "    </tr>\n",
              "  </thead>\n",
              "  <tbody>\n",
              "    <tr>\n",
              "      <th>0</th>\n",
              "      <td>Paso Robles</td>\n",
              "      <td>93446</td>\n",
              "      <td>35.634222</td>\n",
              "      <td>-120.728341</td>\n",
              "      <td>Male</td>\n",
              "      <td>No</td>\n",
              "      <td>Yes</td>\n",
              "      <td>Yes</td>\n",
              "      <td>67</td>\n",
              "      <td>Yes</td>\n",
              "      <td>No</td>\n",
              "      <td>DSL</td>\n",
              "      <td>Yes</td>\n",
              "      <td>Yes</td>\n",
              "      <td>No</td>\n",
              "      <td>Yes</td>\n",
              "      <td>No</td>\n",
              "      <td>No</td>\n",
              "      <td>One year</td>\n",
              "      <td>No</td>\n",
              "      <td>Mailed check</td>\n",
              "      <td>60.05</td>\n",
              "      <td>3994.05</td>\n",
              "      <td>6148.0</td>\n",
              "      <td>NaN</td>\n",
              "      <td>0</td>\n",
              "    </tr>\n",
              "    <tr>\n",
              "      <th>1</th>\n",
              "      <td>Los Angeles</td>\n",
              "      <td>90005</td>\n",
              "      <td>34.059281</td>\n",
              "      <td>-118.307420</td>\n",
              "      <td>Female</td>\n",
              "      <td>No</td>\n",
              "      <td>No</td>\n",
              "      <td>No</td>\n",
              "      <td>53</td>\n",
              "      <td>Yes</td>\n",
              "      <td>Yes</td>\n",
              "      <td>Fiber optic</td>\n",
              "      <td>Yes</td>\n",
              "      <td>Yes</td>\n",
              "      <td>Yes</td>\n",
              "      <td>NaN</td>\n",
              "      <td>No</td>\n",
              "      <td>No</td>\n",
              "      <td>Month-to-month</td>\n",
              "      <td>No</td>\n",
              "      <td>Electronic check</td>\n",
              "      <td>90.80</td>\n",
              "      <td>4921.20</td>\n",
              "      <td>5249.0</td>\n",
              "      <td>NaN</td>\n",
              "      <td>0</td>\n",
              "    </tr>\n",
              "    <tr>\n",
              "      <th>2</th>\n",
              "      <td>Potrero</td>\n",
              "      <td>91963</td>\n",
              "      <td>32.619465</td>\n",
              "      <td>-116.593605</td>\n",
              "      <td>Male</td>\n",
              "      <td>No</td>\n",
              "      <td>No</td>\n",
              "      <td>No</td>\n",
              "      <td>48</td>\n",
              "      <td>Yes</td>\n",
              "      <td>Yes</td>\n",
              "      <td>DSL</td>\n",
              "      <td>Yes</td>\n",
              "      <td>No</td>\n",
              "      <td>Yes</td>\n",
              "      <td>No</td>\n",
              "      <td>Yes</td>\n",
              "      <td>Yes</td>\n",
              "      <td>One year</td>\n",
              "      <td>Yes</td>\n",
              "      <td>Credit card (automatic)</td>\n",
              "      <td>78.75</td>\n",
              "      <td>3682.45</td>\n",
              "      <td>2257.0</td>\n",
              "      <td>NaN</td>\n",
              "      <td>0</td>\n",
              "    </tr>\n",
              "    <tr>\n",
              "      <th>3</th>\n",
              "      <td>Palmdale</td>\n",
              "      <td>93551</td>\n",
              "      <td>34.613476</td>\n",
              "      <td>-118.256358</td>\n",
              "      <td>Male</td>\n",
              "      <td>Yes</td>\n",
              "      <td>No</td>\n",
              "      <td>No</td>\n",
              "      <td>1</td>\n",
              "      <td>Yes</td>\n",
              "      <td>No</td>\n",
              "      <td>Fiber optic</td>\n",
              "      <td>No</td>\n",
              "      <td>No</td>\n",
              "      <td>No</td>\n",
              "      <td>No</td>\n",
              "      <td>No</td>\n",
              "      <td>No</td>\n",
              "      <td>Month-to-month</td>\n",
              "      <td>Yes</td>\n",
              "      <td>Electronic check</td>\n",
              "      <td>70.05</td>\n",
              "      <td>70.05</td>\n",
              "      <td>2469.0</td>\n",
              "      <td>NaN</td>\n",
              "      <td>0</td>\n",
              "    </tr>\n",
              "    <tr>\n",
              "      <th>4</th>\n",
              "      <td>Hood</td>\n",
              "      <td>95639</td>\n",
              "      <td>38.375325</td>\n",
              "      <td>-121.507935</td>\n",
              "      <td>Male</td>\n",
              "      <td>No</td>\n",
              "      <td>Yes</td>\n",
              "      <td>Yes</td>\n",
              "      <td>57</td>\n",
              "      <td>Yes</td>\n",
              "      <td>Yes</td>\n",
              "      <td>Fiber optic</td>\n",
              "      <td>No</td>\n",
              "      <td>No</td>\n",
              "      <td>No</td>\n",
              "      <td>No</td>\n",
              "      <td>No</td>\n",
              "      <td>No</td>\n",
              "      <td>Month-to-month</td>\n",
              "      <td>Yes</td>\n",
              "      <td>Electronic check</td>\n",
              "      <td>74.30</td>\n",
              "      <td>4018.35</td>\n",
              "      <td>4133.0</td>\n",
              "      <td>NaN</td>\n",
              "      <td>0</td>\n",
              "    </tr>\n",
              "    <tr>\n",
              "      <th>...</th>\n",
              "      <td>...</td>\n",
              "      <td>...</td>\n",
              "      <td>...</td>\n",
              "      <td>...</td>\n",
              "      <td>...</td>\n",
              "      <td>...</td>\n",
              "      <td>...</td>\n",
              "      <td>...</td>\n",
              "      <td>...</td>\n",
              "      <td>...</td>\n",
              "      <td>...</td>\n",
              "      <td>...</td>\n",
              "      <td>...</td>\n",
              "      <td>...</td>\n",
              "      <td>...</td>\n",
              "      <td>...</td>\n",
              "      <td>...</td>\n",
              "      <td>...</td>\n",
              "      <td>...</td>\n",
              "      <td>...</td>\n",
              "      <td>...</td>\n",
              "      <td>...</td>\n",
              "      <td>...</td>\n",
              "      <td>...</td>\n",
              "      <td>...</td>\n",
              "      <td>...</td>\n",
              "    </tr>\n",
              "    <tr>\n",
              "      <th>4713</th>\n",
              "      <td>Orange</td>\n",
              "      <td>92866</td>\n",
              "      <td>33.784597</td>\n",
              "      <td>-117.844535</td>\n",
              "      <td>Female</td>\n",
              "      <td>No</td>\n",
              "      <td>No</td>\n",
              "      <td>No</td>\n",
              "      <td>15</td>\n",
              "      <td>Yes</td>\n",
              "      <td>No</td>\n",
              "      <td>No</td>\n",
              "      <td>No internet service</td>\n",
              "      <td>No internet service</td>\n",
              "      <td>No internet service</td>\n",
              "      <td>No internet service</td>\n",
              "      <td>No internet service</td>\n",
              "      <td>No internet service</td>\n",
              "      <td>One year</td>\n",
              "      <td>No</td>\n",
              "      <td>Credit card (automatic)</td>\n",
              "      <td>20.10</td>\n",
              "      <td>302.45</td>\n",
              "      <td>4359.0</td>\n",
              "      <td>NaN</td>\n",
              "      <td>0</td>\n",
              "    </tr>\n",
              "    <tr>\n",
              "      <th>4714</th>\n",
              "      <td>San Francisco</td>\n",
              "      <td>94107</td>\n",
              "      <td>37.768881</td>\n",
              "      <td>-122.395521</td>\n",
              "      <td>Female</td>\n",
              "      <td>No</td>\n",
              "      <td>Yes</td>\n",
              "      <td>Yes</td>\n",
              "      <td>71</td>\n",
              "      <td>Yes</td>\n",
              "      <td>Yes</td>\n",
              "      <td>Fiber optic</td>\n",
              "      <td>Yes</td>\n",
              "      <td>Yes</td>\n",
              "      <td>Yes</td>\n",
              "      <td>No</td>\n",
              "      <td>Yes</td>\n",
              "      <td>No</td>\n",
              "      <td>Two year</td>\n",
              "      <td>Yes</td>\n",
              "      <td>Credit card (automatic)</td>\n",
              "      <td>99.00</td>\n",
              "      <td>7061.65</td>\n",
              "      <td>4305.0</td>\n",
              "      <td>NaN</td>\n",
              "      <td>0</td>\n",
              "    </tr>\n",
              "    <tr>\n",
              "      <th>4715</th>\n",
              "      <td>San Dimas</td>\n",
              "      <td>91773</td>\n",
              "      <td>34.102119</td>\n",
              "      <td>-117.815532</td>\n",
              "      <td>Male</td>\n",
              "      <td>No</td>\n",
              "      <td>Yes</td>\n",
              "      <td>No</td>\n",
              "      <td>3</td>\n",
              "      <td>No</td>\n",
              "      <td>No phone service</td>\n",
              "      <td>DSL</td>\n",
              "      <td>No</td>\n",
              "      <td>No</td>\n",
              "      <td>No</td>\n",
              "      <td>No</td>\n",
              "      <td>No</td>\n",
              "      <td>Yes</td>\n",
              "      <td>Month-to-month</td>\n",
              "      <td>Yes</td>\n",
              "      <td>Electronic check</td>\n",
              "      <td>35.15</td>\n",
              "      <td>99.75</td>\n",
              "      <td>2987.0</td>\n",
              "      <td>Attitude of support person</td>\n",
              "      <td>1</td>\n",
              "    </tr>\n",
              "    <tr>\n",
              "      <th>4716</th>\n",
              "      <td>Klamath River</td>\n",
              "      <td>96050</td>\n",
              "      <td>41.816595</td>\n",
              "      <td>-122.948287</td>\n",
              "      <td>Female</td>\n",
              "      <td>No</td>\n",
              "      <td>Yes</td>\n",
              "      <td>No</td>\n",
              "      <td>17</td>\n",
              "      <td>Yes</td>\n",
              "      <td>No</td>\n",
              "      <td>Fiber optic</td>\n",
              "      <td>No</td>\n",
              "      <td>No</td>\n",
              "      <td>Yes</td>\n",
              "      <td>Yes</td>\n",
              "      <td>Yes</td>\n",
              "      <td>Yes</td>\n",
              "      <td>One year</td>\n",
              "      <td>No</td>\n",
              "      <td>Bank transfer (automatic)</td>\n",
              "      <td>98.60</td>\n",
              "      <td>1704.95</td>\n",
              "      <td>5160.0</td>\n",
              "      <td>Moved</td>\n",
              "      <td>1</td>\n",
              "    </tr>\n",
              "    <tr>\n",
              "      <th>4717</th>\n",
              "      <td>Daly City</td>\n",
              "      <td>94015</td>\n",
              "      <td>37.680844</td>\n",
              "      <td>-122.481310</td>\n",
              "      <td>Male</td>\n",
              "      <td>Yes</td>\n",
              "      <td>No</td>\n",
              "      <td>No</td>\n",
              "      <td>45</td>\n",
              "      <td>Yes</td>\n",
              "      <td>No</td>\n",
              "      <td>DSL</td>\n",
              "      <td>Yes</td>\n",
              "      <td>No</td>\n",
              "      <td>Yes</td>\n",
              "      <td>No</td>\n",
              "      <td>No</td>\n",
              "      <td>Yes</td>\n",
              "      <td>One year</td>\n",
              "      <td>No</td>\n",
              "      <td>Credit card (automatic)</td>\n",
              "      <td>62.70</td>\n",
              "      <td>2791.50</td>\n",
              "      <td>2654.0</td>\n",
              "      <td>Limited range of services</td>\n",
              "      <td>1</td>\n",
              "    </tr>\n",
              "  </tbody>\n",
              "</table>\n",
              "<p>4718 rows × 26 columns</p>\n",
              "</div>"
            ],
            "text/plain": [
              "               City  Zip Code  ...                Churn Reason  Churn Value\n",
              "0       Paso Robles     93446  ...                         NaN            0\n",
              "1       Los Angeles     90005  ...                         NaN            0\n",
              "2           Potrero     91963  ...                         NaN            0\n",
              "3          Palmdale     93551  ...                         NaN            0\n",
              "4              Hood     95639  ...                         NaN            0\n",
              "...             ...       ...  ...                         ...          ...\n",
              "4713         Orange     92866  ...                         NaN            0\n",
              "4714  San Francisco     94107  ...                         NaN            0\n",
              "4715      San Dimas     91773  ...  Attitude of support person            1\n",
              "4716  Klamath River     96050  ...                       Moved            1\n",
              "4717      Daly City     94015  ...   Limited range of services            1\n",
              "\n",
              "[4718 rows x 26 columns]"
            ]
          },
          "metadata": {
            "tags": []
          },
          "execution_count": 9
        }
      ]
    },
    {
      "cell_type": "markdown",
      "metadata": {
        "id": "xvOy2DBIO2PQ"
      },
      "source": [
        "**Categorical Features & Numeric Features** <a class=\"anchor\" id=\"subhead8\"></a>"
      ]
    },
    {
      "cell_type": "code",
      "metadata": {
        "colab": {
          "base_uri": "https://localhost:8080/"
        },
        "id": "ATsXaKtGLIMC",
        "outputId": "10d5afdc-4833-431f-b5cb-3fd35ef2ca4d"
      },
      "source": [
        "cat_features = telecom_customer.select_dtypes(include=['object'])\n",
        "cat_features.columns"
      ],
      "execution_count": 10,
      "outputs": [
        {
          "output_type": "execute_result",
          "data": {
            "text/plain": [
              "Index(['City', 'Gender', 'Senior Citizen', 'Partner', 'Dependents',\n",
              "       'Phone Service', 'Multiple Lines', 'Internet Service',\n",
              "       'Online Security', 'Online Backup', 'Device Protection', 'Tech Support',\n",
              "       'Streaming TV', 'Streaming Movies', 'Contract', 'Paperless Billing',\n",
              "       'Payment Method', 'Churn Reason'],\n",
              "      dtype='object')"
            ]
          },
          "metadata": {
            "tags": []
          },
          "execution_count": 10
        }
      ]
    },
    {
      "cell_type": "code",
      "metadata": {
        "colab": {
          "base_uri": "https://localhost:8080/"
        },
        "id": "JWy_FyoeLJ6I",
        "outputId": "36d9063e-e363-4782-ca3a-a0707697f485"
      },
      "source": [
        "num_features= telecom_customer.select_dtypes(include=['float64','int64'])\n",
        "num_features.columns"
      ],
      "execution_count": 11,
      "outputs": [
        {
          "output_type": "execute_result",
          "data": {
            "text/plain": [
              "Index(['Zip Code', 'Latitude', 'Longitude', 'Tenure Months', 'Monthly Charges',\n",
              "       'Total Charges', 'CLTV', 'Churn Value'],\n",
              "      dtype='object')"
            ]
          },
          "metadata": {
            "tags": []
          },
          "execution_count": 11
        }
      ]
    },
    {
      "cell_type": "markdown",
      "metadata": {
        "id": "C8dONQ0aQ-4R"
      },
      "source": [
        "**Statistical Description of numeric Features** <a class=\"anchor\" id=\"subhead9\"></a>"
      ]
    },
    {
      "cell_type": "markdown",
      "metadata": {
        "id": "OSvFjVNGReEg"
      },
      "source": [
        "* Churn Value will not include in statistical measures as it represents only 2 values."
      ]
    },
    {
      "cell_type": "code",
      "metadata": {
        "colab": {
          "base_uri": "https://localhost:8080/",
          "height": 206
        },
        "id": "5AwFv0kOEPc8",
        "outputId": "ed7c459e-fa30-42e1-beef-57adce6764df"
      },
      "source": [
        "num_stats_features=num_features.drop(['Churn Value'],axis=1)\n",
        "num_stats_features.head()"
      ],
      "execution_count": 12,
      "outputs": [
        {
          "output_type": "execute_result",
          "data": {
            "text/html": [
              "<div>\n",
              "<style scoped>\n",
              "    .dataframe tbody tr th:only-of-type {\n",
              "        vertical-align: middle;\n",
              "    }\n",
              "\n",
              "    .dataframe tbody tr th {\n",
              "        vertical-align: top;\n",
              "    }\n",
              "\n",
              "    .dataframe thead th {\n",
              "        text-align: right;\n",
              "    }\n",
              "</style>\n",
              "<table border=\"1\" class=\"dataframe\">\n",
              "  <thead>\n",
              "    <tr style=\"text-align: right;\">\n",
              "      <th></th>\n",
              "      <th>Zip Code</th>\n",
              "      <th>Latitude</th>\n",
              "      <th>Longitude</th>\n",
              "      <th>Tenure Months</th>\n",
              "      <th>Monthly Charges</th>\n",
              "      <th>Total Charges</th>\n",
              "      <th>CLTV</th>\n",
              "    </tr>\n",
              "  </thead>\n",
              "  <tbody>\n",
              "    <tr>\n",
              "      <th>0</th>\n",
              "      <td>93446</td>\n",
              "      <td>35.634222</td>\n",
              "      <td>-120.728341</td>\n",
              "      <td>67</td>\n",
              "      <td>60.05</td>\n",
              "      <td>3994.05</td>\n",
              "      <td>6148.0</td>\n",
              "    </tr>\n",
              "    <tr>\n",
              "      <th>1</th>\n",
              "      <td>90005</td>\n",
              "      <td>34.059281</td>\n",
              "      <td>-118.307420</td>\n",
              "      <td>53</td>\n",
              "      <td>90.80</td>\n",
              "      <td>4921.20</td>\n",
              "      <td>5249.0</td>\n",
              "    </tr>\n",
              "    <tr>\n",
              "      <th>2</th>\n",
              "      <td>91963</td>\n",
              "      <td>32.619465</td>\n",
              "      <td>-116.593605</td>\n",
              "      <td>48</td>\n",
              "      <td>78.75</td>\n",
              "      <td>3682.45</td>\n",
              "      <td>2257.0</td>\n",
              "    </tr>\n",
              "    <tr>\n",
              "      <th>3</th>\n",
              "      <td>93551</td>\n",
              "      <td>34.613476</td>\n",
              "      <td>-118.256358</td>\n",
              "      <td>1</td>\n",
              "      <td>70.05</td>\n",
              "      <td>70.05</td>\n",
              "      <td>2469.0</td>\n",
              "    </tr>\n",
              "    <tr>\n",
              "      <th>4</th>\n",
              "      <td>95639</td>\n",
              "      <td>38.375325</td>\n",
              "      <td>-121.507935</td>\n",
              "      <td>57</td>\n",
              "      <td>74.30</td>\n",
              "      <td>4018.35</td>\n",
              "      <td>4133.0</td>\n",
              "    </tr>\n",
              "  </tbody>\n",
              "</table>\n",
              "</div>"
            ],
            "text/plain": [
              "   Zip Code   Latitude   Longitude  ...  Monthly Charges  Total Charges    CLTV\n",
              "0     93446  35.634222 -120.728341  ...            60.05        3994.05  6148.0\n",
              "1     90005  34.059281 -118.307420  ...            90.80        4921.20  5249.0\n",
              "2     91963  32.619465 -116.593605  ...            78.75        3682.45  2257.0\n",
              "3     93551  34.613476 -118.256358  ...            70.05          70.05  2469.0\n",
              "4     95639  38.375325 -121.507935  ...            74.30        4018.35  4133.0\n",
              "\n",
              "[5 rows x 7 columns]"
            ]
          },
          "metadata": {
            "tags": []
          },
          "execution_count": 12
        }
      ]
    },
    {
      "cell_type": "code",
      "metadata": {
        "colab": {
          "base_uri": "https://localhost:8080/",
          "height": 300
        },
        "id": "g_KjdA25UGRA",
        "outputId": "e2fd565b-f2dd-48b5-9d19-5caaf55b8979"
      },
      "source": [
        "round(num_stats_features.describe(),2)"
      ],
      "execution_count": 13,
      "outputs": [
        {
          "output_type": "execute_result",
          "data": {
            "text/html": [
              "<div>\n",
              "<style scoped>\n",
              "    .dataframe tbody tr th:only-of-type {\n",
              "        vertical-align: middle;\n",
              "    }\n",
              "\n",
              "    .dataframe tbody tr th {\n",
              "        vertical-align: top;\n",
              "    }\n",
              "\n",
              "    .dataframe thead th {\n",
              "        text-align: right;\n",
              "    }\n",
              "</style>\n",
              "<table border=\"1\" class=\"dataframe\">\n",
              "  <thead>\n",
              "    <tr style=\"text-align: right;\">\n",
              "      <th></th>\n",
              "      <th>Zip Code</th>\n",
              "      <th>Latitude</th>\n",
              "      <th>Longitude</th>\n",
              "      <th>Tenure Months</th>\n",
              "      <th>Monthly Charges</th>\n",
              "      <th>Total Charges</th>\n",
              "      <th>CLTV</th>\n",
              "    </tr>\n",
              "  </thead>\n",
              "  <tbody>\n",
              "    <tr>\n",
              "      <th>count</th>\n",
              "      <td>4698.00</td>\n",
              "      <td>4695.00</td>\n",
              "      <td>4685.00</td>\n",
              "      <td>4704.00</td>\n",
              "      <td>4714.00</td>\n",
              "      <td>4695.00</td>\n",
              "      <td>4692.00</td>\n",
              "    </tr>\n",
              "    <tr>\n",
              "      <th>mean</th>\n",
              "      <td>93523.33</td>\n",
              "      <td>36.28</td>\n",
              "      <td>-119.79</td>\n",
              "      <td>32.73</td>\n",
              "      <td>64.89</td>\n",
              "      <td>2311.05</td>\n",
              "      <td>4406.63</td>\n",
              "    </tr>\n",
              "    <tr>\n",
              "      <th>std</th>\n",
              "      <td>1850.95</td>\n",
              "      <td>2.45</td>\n",
              "      <td>2.16</td>\n",
              "      <td>24.61</td>\n",
              "      <td>30.14</td>\n",
              "      <td>2281.13</td>\n",
              "      <td>1187.67</td>\n",
              "    </tr>\n",
              "    <tr>\n",
              "      <th>min</th>\n",
              "      <td>90001.00</td>\n",
              "      <td>32.56</td>\n",
              "      <td>-124.30</td>\n",
              "      <td>0.00</td>\n",
              "      <td>18.25</td>\n",
              "      <td>18.85</td>\n",
              "      <td>2003.00</td>\n",
              "    </tr>\n",
              "    <tr>\n",
              "      <th>25%</th>\n",
              "      <td>92102.25</td>\n",
              "      <td>34.03</td>\n",
              "      <td>-121.81</td>\n",
              "      <td>9.00</td>\n",
              "      <td>35.46</td>\n",
              "      <td>412.33</td>\n",
              "      <td>3477.50</td>\n",
              "    </tr>\n",
              "    <tr>\n",
              "      <th>50%</th>\n",
              "      <td>93550.00</td>\n",
              "      <td>36.39</td>\n",
              "      <td>-119.73</td>\n",
              "      <td>30.00</td>\n",
              "      <td>70.38</td>\n",
              "      <td>1424.60</td>\n",
              "      <td>4533.00</td>\n",
              "    </tr>\n",
              "    <tr>\n",
              "      <th>75%</th>\n",
              "      <td>95345.00</td>\n",
              "      <td>38.20</td>\n",
              "      <td>-118.03</td>\n",
              "      <td>56.00</td>\n",
              "      <td>89.95</td>\n",
              "      <td>3877.08</td>\n",
              "      <td>5402.25</td>\n",
              "    </tr>\n",
              "    <tr>\n",
              "      <th>max</th>\n",
              "      <td>96161.00</td>\n",
              "      <td>41.96</td>\n",
              "      <td>-114.19</td>\n",
              "      <td>72.00</td>\n",
              "      <td>118.75</td>\n",
              "      <td>8684.80</td>\n",
              "      <td>6499.00</td>\n",
              "    </tr>\n",
              "  </tbody>\n",
              "</table>\n",
              "</div>"
            ],
            "text/plain": [
              "       Zip Code  Latitude  Longitude  ...  Monthly Charges  Total Charges     CLTV\n",
              "count   4698.00   4695.00    4685.00  ...          4714.00        4695.00  4692.00\n",
              "mean   93523.33     36.28    -119.79  ...            64.89        2311.05  4406.63\n",
              "std     1850.95      2.45       2.16  ...            30.14        2281.13  1187.67\n",
              "min    90001.00     32.56    -124.30  ...            18.25          18.85  2003.00\n",
              "25%    92102.25     34.03    -121.81  ...            35.46         412.33  3477.50\n",
              "50%    93550.00     36.39    -119.73  ...            70.38        1424.60  4533.00\n",
              "75%    95345.00     38.20    -118.03  ...            89.95        3877.08  5402.25\n",
              "max    96161.00     41.96    -114.19  ...           118.75        8684.80  6499.00\n",
              "\n",
              "[8 rows x 7 columns]"
            ]
          },
          "metadata": {
            "tags": []
          },
          "execution_count": 13
        }
      ]
    },
    {
      "cell_type": "markdown",
      "metadata": {
        "id": "syio1XCmqomV"
      },
      "source": [
        "* Mean Value of monthly charges is 64.88 but 25% customers pay more than 89.95"
      ]
    },
    {
      "cell_type": "markdown",
      "metadata": {
        "id": "FXYSDjN_eQ1O"
      },
      "source": [
        "**Handling Null Values** <a class=\"anchor\" id=\"subhead10\"></a>"
      ]
    },
    {
      "cell_type": "code",
      "metadata": {
        "id": "ZqJKM2IgdZ9i"
      },
      "source": [
        "telecom_customer['Tenure Months'] = telecom_customer['Tenure Months'].fillna( telecom_customer['Tenure Months'].mode())\n",
        "telecom_customer['Monthly Charges'] = telecom_customer['Monthly Charges'].fillna( telecom_customer['Monthly Charges'].mode())\n",
        "telecom_customer['Total Charges'] = telecom_customer['Total Charges'].fillna( telecom_customer['Total Charges'].mode())\n",
        "telecom_customer['CLTV'] = telecom_customer['CLTV'].fillna( telecom_customer['CLTV'].mode())"
      ],
      "execution_count": 14,
      "outputs": []
    },
    {
      "cell_type": "code",
      "metadata": {
        "colab": {
          "base_uri": "https://localhost:8080/"
        },
        "id": "DJ9y8sT0hlPP",
        "outputId": "99d078c0-3826-4552-e27b-29c26ea0e4cb"
      },
      "source": [
        "telecom_customer['Phone Service'].fillna(\"Yes\")"
      ],
      "execution_count": 15,
      "outputs": [
        {
          "output_type": "execute_result",
          "data": {
            "text/plain": [
              "0       Yes\n",
              "1       Yes\n",
              "2       Yes\n",
              "3       Yes\n",
              "4       Yes\n",
              "       ... \n",
              "4713    Yes\n",
              "4714    Yes\n",
              "4715     No\n",
              "4716    Yes\n",
              "4717    Yes\n",
              "Name: Phone Service, Length: 4718, dtype: object"
            ]
          },
          "metadata": {
            "tags": []
          },
          "execution_count": 15
        }
      ]
    },
    {
      "cell_type": "code",
      "metadata": {
        "colab": {
          "base_uri": "https://localhost:8080/"
        },
        "id": "5x8r_mOthpfm",
        "outputId": "3af851d9-3ef4-44c0-bdab-40b6b04a83d1"
      },
      "source": [
        "telecom_customer['Multiple Lines'].value_counts()"
      ],
      "execution_count": 16,
      "outputs": [
        {
          "output_type": "execute_result",
          "data": {
            "text/plain": [
              "No                  2231\n",
              "Yes                 2004\n",
              "No phone service     461\n",
              "Name: Multiple Lines, dtype: int64"
            ]
          },
          "metadata": {
            "tags": []
          },
          "execution_count": 16
        }
      ]
    },
    {
      "cell_type": "markdown",
      "metadata": {
        "id": "uugHO_xhh7YD"
      },
      "source": [
        "Since both seem to have similar range of values so can't fill"
      ]
    },
    {
      "cell_type": "code",
      "metadata": {
        "colab": {
          "base_uri": "https://localhost:8080/"
        },
        "id": "V78fSEr9h8jo",
        "outputId": "5aed8e2e-09ed-40d5-be85-a087f5f0e15c"
      },
      "source": [
        "telecom_customer['Internet Service'].value_counts()"
      ],
      "execution_count": 17,
      "outputs": [
        {
          "output_type": "execute_result",
          "data": {
            "text/plain": [
              "Fiber optic    2053\n",
              "DSL            1618\n",
              "No             1021\n",
              "Name: Internet Service, dtype: int64"
            ]
          },
          "metadata": {
            "tags": []
          },
          "execution_count": 17
        }
      ]
    },
    {
      "cell_type": "code",
      "metadata": {
        "colab": {
          "base_uri": "https://localhost:8080/"
        },
        "id": "Gx4PkiU_iD_l",
        "outputId": "e6933bb8-470d-49af-b5a7-488f90770ccb"
      },
      "source": [
        "telecom_customer['Internet Service'].fillna(\"Fiber optic\")"
      ],
      "execution_count": 18,
      "outputs": [
        {
          "output_type": "execute_result",
          "data": {
            "text/plain": [
              "0               DSL\n",
              "1       Fiber optic\n",
              "2               DSL\n",
              "3       Fiber optic\n",
              "4       Fiber optic\n",
              "           ...     \n",
              "4713             No\n",
              "4714    Fiber optic\n",
              "4715            DSL\n",
              "4716    Fiber optic\n",
              "4717            DSL\n",
              "Name: Internet Service, Length: 4718, dtype: object"
            ]
          },
          "metadata": {
            "tags": []
          },
          "execution_count": 18
        }
      ]
    },
    {
      "cell_type": "code",
      "metadata": {
        "colab": {
          "base_uri": "https://localhost:8080/"
        },
        "id": "BYdAw4VdiKd0",
        "outputId": "9a21301e-53ff-478f-9565-e5409fbe01e0"
      },
      "source": [
        "telecom_customer['Device Protection'].value_counts()"
      ],
      "execution_count": 19,
      "outputs": [
        {
          "output_type": "execute_result",
          "data": {
            "text/plain": [
              "No                     2044\n",
              "Yes                    1643\n",
              "No internet service    1024\n",
              "Name: Device Protection, dtype: int64"
            ]
          },
          "metadata": {
            "tags": []
          },
          "execution_count": 19
        }
      ]
    },
    {
      "cell_type": "code",
      "metadata": {
        "colab": {
          "base_uri": "https://localhost:8080/"
        },
        "id": "G4XVJpDfigIz",
        "outputId": "ea241bde-0f36-4ce2-d087-a7c9429fd224"
      },
      "source": [
        "telecom_customer['Device Protection'].fillna(\"No\")"
      ],
      "execution_count": 20,
      "outputs": [
        {
          "output_type": "execute_result",
          "data": {
            "text/plain": [
              "0                        No\n",
              "1                       Yes\n",
              "2                       Yes\n",
              "3                        No\n",
              "4                        No\n",
              "               ...         \n",
              "4713    No internet service\n",
              "4714                    Yes\n",
              "4715                     No\n",
              "4716                    Yes\n",
              "4717                    Yes\n",
              "Name: Device Protection, Length: 4718, dtype: object"
            ]
          },
          "metadata": {
            "tags": []
          },
          "execution_count": 20
        }
      ]
    },
    {
      "cell_type": "code",
      "metadata": {
        "colab": {
          "base_uri": "https://localhost:8080/"
        },
        "id": "xRliWAL4inLz",
        "outputId": "ca023891-13ef-4a2f-f434-f6d1e452158b"
      },
      "source": [
        "telecom_customer['Tech Support'].value_counts()\n"
      ],
      "execution_count": 21,
      "outputs": [
        {
          "output_type": "execute_result",
          "data": {
            "text/plain": [
              "No                     2251\n",
              "Yes                    1420\n",
              "No internet service    1024\n",
              "Name: Tech Support, dtype: int64"
            ]
          },
          "metadata": {
            "tags": []
          },
          "execution_count": 21
        }
      ]
    },
    {
      "cell_type": "code",
      "metadata": {
        "colab": {
          "base_uri": "https://localhost:8080/"
        },
        "id": "R34daUImixot",
        "outputId": "7ce7b32d-b590-4c1d-c732-b3d9823415b9"
      },
      "source": [
        "telecom_customer['Tech Support'].fillna(\"No\")"
      ],
      "execution_count": 22,
      "outputs": [
        {
          "output_type": "execute_result",
          "data": {
            "text/plain": [
              "0                       Yes\n",
              "1                        No\n",
              "2                        No\n",
              "3                        No\n",
              "4                        No\n",
              "               ...         \n",
              "4713    No internet service\n",
              "4714                     No\n",
              "4715                     No\n",
              "4716                    Yes\n",
              "4717                     No\n",
              "Name: Tech Support, Length: 4718, dtype: object"
            ]
          },
          "metadata": {
            "tags": []
          },
          "execution_count": 22
        }
      ]
    },
    {
      "cell_type": "code",
      "metadata": {
        "colab": {
          "base_uri": "https://localhost:8080/"
        },
        "id": "v0xmryHIiz9J",
        "outputId": "525ff0ba-4841-4caf-c8b3-3c2c9f8f1020"
      },
      "source": [
        "telecom_customer['Streaming TV'].value_counts()\n",
        "telecom_customer['Streaming Movies'].value_counts()\n"
      ],
      "execution_count": 23,
      "outputs": [
        {
          "output_type": "execute_result",
          "data": {
            "text/plain": [
              "Yes                    1843\n",
              "No                     1830\n",
              "No internet service    1015\n",
              "Name: Streaming Movies, dtype: int64"
            ]
          },
          "metadata": {
            "tags": []
          },
          "execution_count": 23
        }
      ]
    },
    {
      "cell_type": "markdown",
      "metadata": {
        "id": "2H9S_6ycjC4S"
      },
      "source": [
        "Since both seem to have similar range of values so can't fill"
      ]
    },
    {
      "cell_type": "code",
      "metadata": {
        "colab": {
          "base_uri": "https://localhost:8080/"
        },
        "id": "DlHTI2_QjLrO",
        "outputId": "bd9f0bea-4601-44a8-dcf2-95ec3670d450"
      },
      "source": [
        "telecom_customer['Contract'].value_counts()"
      ],
      "execution_count": 24,
      "outputs": [
        {
          "output_type": "execute_result",
          "data": {
            "text/plain": [
              "Month-to-month    2540\n",
              "Two year          1144\n",
              "One year           988\n",
              "Name: Contract, dtype: int64"
            ]
          },
          "metadata": {
            "tags": []
          },
          "execution_count": 24
        }
      ]
    },
    {
      "cell_type": "code",
      "metadata": {
        "colab": {
          "base_uri": "https://localhost:8080/"
        },
        "id": "SuhbFxt3jUGh",
        "outputId": "c18cd526-3e6b-44e2-ad40-2ed34a7e52dd"
      },
      "source": [
        "telecom_customer['Contract'].fillna(\"Month-to-month\")"
      ],
      "execution_count": 25,
      "outputs": [
        {
          "output_type": "execute_result",
          "data": {
            "text/plain": [
              "0             One year\n",
              "1       Month-to-month\n",
              "2             One year\n",
              "3       Month-to-month\n",
              "4       Month-to-month\n",
              "             ...      \n",
              "4713          One year\n",
              "4714          Two year\n",
              "4715    Month-to-month\n",
              "4716          One year\n",
              "4717          One year\n",
              "Name: Contract, Length: 4718, dtype: object"
            ]
          },
          "metadata": {
            "tags": []
          },
          "execution_count": 25
        }
      ]
    },
    {
      "cell_type": "code",
      "metadata": {
        "colab": {
          "base_uri": "https://localhost:8080/"
        },
        "id": "rJs4HvwUjbIV",
        "outputId": "bdffded3-5bd2-4818-cb74-81b35637cc85"
      },
      "source": [
        "telecom_customer['Paperless Billing'].value_counts()\n"
      ],
      "execution_count": 26,
      "outputs": [
        {
          "output_type": "execute_result",
          "data": {
            "text/plain": [
              "Yes    2771\n",
              "No     1923\n",
              "Name: Paperless Billing, dtype: int64"
            ]
          },
          "metadata": {
            "tags": []
          },
          "execution_count": 26
        }
      ]
    },
    {
      "cell_type": "code",
      "metadata": {
        "colab": {
          "base_uri": "https://localhost:8080/"
        },
        "id": "GO0220YrjhbZ",
        "outputId": "a14361cf-d478-44a8-c3cd-09c36dd38e47"
      },
      "source": [
        "telecom_customer['Paperless Billing'].fillna(\"Yes\")"
      ],
      "execution_count": 27,
      "outputs": [
        {
          "output_type": "execute_result",
          "data": {
            "text/plain": [
              "0        No\n",
              "1        No\n",
              "2       Yes\n",
              "3       Yes\n",
              "4       Yes\n",
              "       ... \n",
              "4713     No\n",
              "4714    Yes\n",
              "4715    Yes\n",
              "4716     No\n",
              "4717     No\n",
              "Name: Paperless Billing, Length: 4718, dtype: object"
            ]
          },
          "metadata": {
            "tags": []
          },
          "execution_count": 27
        }
      ]
    },
    {
      "cell_type": "code",
      "metadata": {
        "colab": {
          "base_uri": "https://localhost:8080/"
        },
        "id": "qPHDLXW2jt48",
        "outputId": "407e4c9a-8f2e-40cb-d7b0-9889f226c5a5"
      },
      "source": [
        "telecom_customer['Payment Method'].value_counts()\n"
      ],
      "execution_count": 28,
      "outputs": [
        {
          "output_type": "execute_result",
          "data": {
            "text/plain": [
              "Electronic check             1579\n",
              "Mailed check                 1091\n",
              "Bank transfer (automatic)    1025\n",
              "Credit card (automatic)      1022\n",
              "Name: Payment Method, dtype: int64"
            ]
          },
          "metadata": {
            "tags": []
          },
          "execution_count": 28
        }
      ]
    },
    {
      "cell_type": "code",
      "metadata": {
        "colab": {
          "base_uri": "https://localhost:8080/"
        },
        "id": "4BvLnnJnjx96",
        "outputId": "eb3edb45-fff9-4e46-ef89-01247a888add"
      },
      "source": [
        "telecom_customer['Payment Method'].fillna(\"Electronic check\")"
      ],
      "execution_count": 29,
      "outputs": [
        {
          "output_type": "execute_result",
          "data": {
            "text/plain": [
              "0                    Mailed check\n",
              "1                Electronic check\n",
              "2         Credit card (automatic)\n",
              "3                Electronic check\n",
              "4                Electronic check\n",
              "                  ...            \n",
              "4713      Credit card (automatic)\n",
              "4714      Credit card (automatic)\n",
              "4715             Electronic check\n",
              "4716    Bank transfer (automatic)\n",
              "4717      Credit card (automatic)\n",
              "Name: Payment Method, Length: 4718, dtype: object"
            ]
          },
          "metadata": {
            "tags": []
          },
          "execution_count": 29
        }
      ]
    },
    {
      "cell_type": "code",
      "metadata": {
        "id": "IPO_X8WA0Z0r"
      },
      "source": [
        "telecom_customer['Churn Value']=telecom_customer['Churn Value'].map({0:'No',1:'Yes'})"
      ],
      "execution_count": 30,
      "outputs": []
    },
    {
      "cell_type": "code",
      "metadata": {
        "colab": {
          "base_uri": "https://localhost:8080/",
          "height": 297
        },
        "id": "CYo3TTq9680z",
        "outputId": "d7ebccee-7f42-4250-9b90-cc8718d85628"
      },
      "source": [
        "sns.countplot(data=telecom_customer,x='Internet Service', hue='Churn Value')\n"
      ],
      "execution_count": 31,
      "outputs": [
        {
          "output_type": "execute_result",
          "data": {
            "text/plain": [
              "<matplotlib.axes._subplots.AxesSubplot at 0x7fdba500d050>"
            ]
          },
          "metadata": {
            "tags": []
          },
          "execution_count": 31
        },
        {
          "output_type": "display_data",
          "data": {
            "image/png": "[encoded data removed]",
            "text/plain": [
              "<Figure size 432x288 with 1 Axes>"
            ]
          },
          "metadata": {
            "tags": [],
            "needs_background": "light"
          }
        }
      ]
    },
    {
      "cell_type": "markdown",
      "metadata": {
        "id": "ZCjDU81v6tCd"
      },
      "source": [
        "* Customer who opt for fiber optic are mostly churn\n",
        "* Customers with DSL are most and they are less churn"
      ]
    },
    {
      "cell_type": "code",
      "metadata": {
        "colab": {
          "base_uri": "https://localhost:8080/",
          "height": 297
        },
        "id": "pPOONqfn7KjP",
        "outputId": "87f02146-97ba-47ed-a5a7-b66c4dac863c"
      },
      "source": [
        "sns.countplot(data=telecom_customer,x='Phone Service', hue='Churn Value')\n"
      ],
      "execution_count": 32,
      "outputs": [
        {
          "output_type": "execute_result",
          "data": {
            "text/plain": [
              "<matplotlib.axes._subplots.AxesSubplot at 0x7fdba4eef5d0>"
            ]
          },
          "metadata": {
            "tags": []
          },
          "execution_count": 32
        },
        {
          "output_type": "display_data",
          "data": {
            "image/png": "[encoded data removed]",
            "text/plain": [
              "<Figure size 432x288 with 1 Axes>"
            ]
          },
          "metadata": {
            "tags": [],
            "needs_background": "light"
          }
        }
      ]
    },
    {
      "cell_type": "markdown",
      "metadata": {
        "id": "XARH1hec7Pwn"
      },
      "source": [
        "* Customer who opt for phone service are more churn"
      ]
    },
    {
      "cell_type": "code",
      "metadata": {
        "colab": {
          "base_uri": "https://localhost:8080/",
          "height": 297
        },
        "id": "srbK-dZd7sSd",
        "outputId": "6226267f-56e6-4eb0-dcdd-6b07e7da8b4f"
      },
      "source": [
        "sns.countplot(data=telecom_customer,x='Payment Method' , hue='Churn Value')\n"
      ],
      "execution_count": 33,
      "outputs": [
        {
          "output_type": "execute_result",
          "data": {
            "text/plain": [
              "<matplotlib.axes._subplots.AxesSubplot at 0x7fdba4a7f250>"
            ]
          },
          "metadata": {
            "tags": []
          },
          "execution_count": 33
        },
        {
          "output_type": "display_data",
          "data": {
            "image/png": "[encoded data removed]",
            "text/plain": [
              "<Figure size 432x288 with 1 Axes>"
            ]
          },
          "metadata": {
            "tags": [],
            "needs_background": "light"
          }
        }
      ]
    },
    {
      "cell_type": "markdown",
      "metadata": {
        "id": "j4ZZQWtN8qDH"
      },
      "source": [
        "* Customer who pays with Electronic Check are mostly churn"
      ]
    },
    {
      "cell_type": "code",
      "metadata": {
        "colab": {
          "base_uri": "https://localhost:8080/",
          "height": 301
        },
        "id": "lQA3kOLk7_VM",
        "outputId": "f8afb4fa-323f-4625-8581-f33cedd03105"
      },
      "source": [
        "sns.countplot(data=telecom_customer,x='Dependents' , hue='Churn Value')\n"
      ],
      "execution_count": 34,
      "outputs": [
        {
          "output_type": "execute_result",
          "data": {
            "text/plain": [
              "<matplotlib.axes._subplots.AxesSubplot at 0x7fdba49a5910>"
            ]
          },
          "metadata": {
            "tags": []
          },
          "execution_count": 34
        },
        {
          "output_type": "display_data",
          "data": {
            "image/png": "[encoded data removed]",
            "text/plain": [
              "<Figure size 432x288 with 1 Axes>"
            ]
          },
          "metadata": {
            "tags": [],
            "needs_background": "light"
          }
        }
      ]
    },
    {
      "cell_type": "markdown",
      "metadata": {
        "id": "6nMBY5uy88Mr"
      },
      "source": [
        "* Customer with dependents are mostly churn"
      ]
    },
    {
      "cell_type": "code",
      "metadata": {
        "colab": {
          "base_uri": "https://localhost:8080/",
          "height": 297
        },
        "id": "EbVCrTMv818_",
        "outputId": "8192f395-b86d-4736-d8f0-eaa0b8a96163"
      },
      "source": [
        "sns.countplot(data=telecom_customer,x='Contract' , hue='Churn Value')\n"
      ],
      "execution_count": 35,
      "outputs": [
        {
          "output_type": "execute_result",
          "data": {
            "text/plain": [
              "<matplotlib.axes._subplots.AxesSubplot at 0x7fdba49b7490>"
            ]
          },
          "metadata": {
            "tags": []
          },
          "execution_count": 35
        },
        {
          "output_type": "display_data",
          "data": {
            "image/png": "[encoded data removed]",
            "text/plain": [
              "<Figure size 432x288 with 1 Axes>"
            ]
          },
          "metadata": {
            "tags": [],
            "needs_background": "light"
          }
        }
      ]
    },
    {
      "cell_type": "markdown",
      "metadata": {
        "id": "6r_2ifqQ9KLQ"
      },
      "source": [
        "* Customer prefer Month-to-Month contract but also they will mostly churn."
      ]
    },
    {
      "cell_type": "code",
      "metadata": {
        "colab": {
          "base_uri": "https://localhost:8080/",
          "height": 297
        },
        "id": "yhCXUehv9IsP",
        "outputId": "0492a392-d588-4ed5-e0fd-14484c057404"
      },
      "source": [
        "sns.countplot(data=telecom_customer,x='Tech Support', hue='Churn Value')\n"
      ],
      "execution_count": 36,
      "outputs": [
        {
          "output_type": "execute_result",
          "data": {
            "text/plain": [
              "<matplotlib.axes._subplots.AxesSubplot at 0x7fdba49230d0>"
            ]
          },
          "metadata": {
            "tags": []
          },
          "execution_count": 36
        },
        {
          "output_type": "display_data",
          "data": {
            "image/png": "[encoded data removed]",
            "text/plain": [
              "<Figure size 432x288 with 1 Axes>"
            ]
          },
          "metadata": {
            "tags": [],
            "needs_background": "light"
          }
        }
      ]
    },
    {
      "cell_type": "markdown",
      "metadata": {
        "id": "449lmueh9mbJ"
      },
      "source": [
        "* Customer without Tech Support are mostly churn\n",
        "* By giving Tech Support ,we can prevent churn as more customer also prefer tech support."
      ]
    },
    {
      "cell_type": "code",
      "metadata": {
        "colab": {
          "base_uri": "https://localhost:8080/",
          "height": 297
        },
        "id": "BsfBav4K5wzL",
        "outputId": "18ba54c9-c486-4d99-8f92-cd1f58985ee7"
      },
      "source": [
        "sns.scatterplot(data=telecom_customer,y='Total Charges',x='Monthly Charges')"
      ],
      "execution_count": 37,
      "outputs": [
        {
          "output_type": "execute_result",
          "data": {
            "text/plain": [
              "<matplotlib.axes._subplots.AxesSubplot at 0x7fdba48d3990>"
            ]
          },
          "metadata": {
            "tags": []
          },
          "execution_count": 37
        },
        {
          "output_type": "display_data",
          "data": {
            "image/png": "[encoded data removed]",
            "text/plain": [
              "<Figure size 432x288 with 1 Axes>"
            ]
          },
          "metadata": {
            "tags": [],
            "needs_background": "light"
          }
        }
      ]
    },
    {
      "cell_type": "markdown",
      "metadata": {
        "id": "u2EcR14w6jD6"
      },
      "source": [
        "* Total Charges Increases as Monthly Charges Increases"
      ]
    },
    {
      "cell_type": "code",
      "metadata": {
        "colab": {
          "base_uri": "https://localhost:8080/",
          "height": 889
        },
        "id": "n10znrRE_18B",
        "outputId": "3e20475d-cfe4-4585-afa6-d1fa1d0fab64"
      },
      "source": [
        "f,axes = plt.subplots(4,3,figsize=(15,14)) \n",
        "sns.barplot(x='Contract', y='Monthly Charges', data=telecom_customer, hue='Churn Value',ax = axes[0,0])\n",
        "sns.barplot(x='Phone Service', y='Monthly Charges', data=telecom_customer, hue='Churn Value', ax = axes[0,1])\n",
        "sns.barplot(x='Multiple Lines', y='Monthly Charges', data=telecom_customer, hue='Churn Value', ax = axes[0,2])\n",
        "sns.barplot(x='Internet Service', y='Monthly Charges', data=telecom_customer, hue='Churn Value', ax = axes[1,0])\n",
        "sns.barplot(x='Online Security', y='Monthly Charges', data=telecom_customer, hue='Churn Value', ax = axes[1,1])\n",
        "sns.barplot(x='Online Backup', y='Monthly Charges', data=telecom_customer, hue='Churn Value', ax = axes[1,2])\n",
        "sns.barplot(x='Device Protection', y='Monthly Charges', data=telecom_customer, hue='Churn Value', ax = axes[2,0])\n",
        "sns.barplot(x='Tech Support', y='Monthly Charges', data=telecom_customer, hue='Churn Value', ax = axes[2,1])\n",
        "sns.barplot(x='Streaming TV', y='Monthly Charges', data=telecom_customer, hue='Churn Value', ax = axes[2,2])\n",
        "sns.barplot(x='Payment Method', y='Monthly Charges', data=telecom_customer, hue='Churn Value', ax = axes[3,0])\n",
        "sns.barplot(x='Paperless Billing', y='Monthly Charges', data=telecom_customer, hue='Churn Value', ax = axes[3,1])\n",
        "sns.barplot(x='Streaming Movies', y='Monthly Charges', data=telecom_customer, hue='Churn Value', ax = axes[3,2])\n",
        "plt.xticks(rotation=90)"
      ],
      "execution_count": 38,
      "outputs": [
        {
          "output_type": "execute_result",
          "data": {
            "text/plain": [
              "(array([0, 1, 2]), <a list of 3 Text major ticklabel objects>)"
            ]
          },
          "metadata": {
            "tags": []
          },
          "execution_count": 38
        },
        {
          "output_type": "display_data",
          "data": {
            "image/png": "[encoded data removed]",
            "text/plain": [
              "<Figure size 1080x1008 with 12 Axes>"
            ]
          },
          "metadata": {
            "tags": [],
            "needs_background": "light"
          }
        }
      ]
    },
    {
      "cell_type": "markdown",
      "metadata": {
        "id": "owAC0LbC-pd2"
      },
      "source": [
        "* Customer not too much affected by other factors with monthly charges\n",
        "* More montly charges lead to higher churn rate."
      ]
    },
    {
      "cell_type": "code",
      "metadata": {
        "colab": {
          "base_uri": "https://localhost:8080/",
          "height": 297
        },
        "id": "PSy9LOeA-Xle",
        "outputId": "a2ee5283-de19-4b31-bc82-f5b5f702676e"
      },
      "source": [
        "sns.countplot(data=telecom_customer,x='Senior Citizen', hue='Churn Value')\n"
      ],
      "execution_count": 39,
      "outputs": [
        {
          "output_type": "execute_result",
          "data": {
            "text/plain": [
              "<matplotlib.axes._subplots.AxesSubplot at 0x7fdba3d68bd0>"
            ]
          },
          "metadata": {
            "tags": []
          },
          "execution_count": 39
        },
        {
          "output_type": "display_data",
          "data": {
            "image/png": "[encoded data removed]",
            "text/plain": [
              "<Figure size 432x288 with 1 Axes>"
            ]
          },
          "metadata": {
            "tags": [],
            "needs_background": "light"
          }
        }
      ]
    },
    {
      "cell_type": "markdown",
      "metadata": {
        "id": "qfIP5NXO_mPB"
      },
      "source": [
        "* Less customers are senior citizen and 1/3 of them are churn.\n",
        "* Senior citizen are mostly churn."
      ]
    },
    {
      "cell_type": "code",
      "metadata": {
        "id": "UfzEST6HAZ33"
      },
      "source": [
        ""
      ],
      "execution_count": 39,
      "outputs": []
    }
  ]
}